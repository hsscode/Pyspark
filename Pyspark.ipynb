{
 "cells": [
  {
   "cell_type": "code",
   "execution_count": 1,
   "id": "bc221671",
   "metadata": {},
   "outputs": [
    {
     "name": "stdout",
     "output_type": "stream",
     "text": [
      "Requirement already satisfied: pyspark in c:\\users\\harsh singh\\appdata\\local\\programs\\python\\python310\\lib\\site-packages (3.4.0)\n",
      "Requirement already satisfied: py4j==0.10.9.7 in c:\\users\\harsh singh\\appdata\\local\\programs\\python\\python310\\lib\\site-packages (from pyspark) (0.10.9.7)\n",
      "Note: you may need to restart the kernel to use updated packages.\n"
     ]
    },
    {
     "name": "stderr",
     "output_type": "stream",
     "text": [
      "\n",
      "[notice] A new release of pip is available: 23.0.1 -> 23.1.2\n",
      "[notice] To update, run: C:\\Users\\Harsh Singh\\AppData\\Local\\Programs\\Python\\Python310\\python.exe -m pip install --upgrade pip\n"
     ]
    }
   ],
   "source": [
    "pip install pyspark"
   ]
  },
  {
   "cell_type": "code",
   "execution_count": 2,
   "id": "4e5daa54",
   "metadata": {},
   "outputs": [],
   "source": [
    "import pyspark"
   ]
  },
  {
   "cell_type": "code",
   "execution_count": 3,
   "id": "2fc1cc19",
   "metadata": {},
   "outputs": [],
   "source": [
    "import pandas as pd"
   ]
  },
  {
   "cell_type": "code",
   "execution_count": 4,
   "id": "c8f8a237",
   "metadata": {},
   "outputs": [
    {
     "name": "stdout",
     "output_type": "stream",
     "text": [
      "Current working directory: C:\\Users\\Harsh Singh\n"
     ]
    }
   ],
   "source": [
    "import os\n",
    "\n",
    "# Get the current working directory\n",
    "current_directory = os.getcwd()\n",
    "\n",
    "# Print the current working directory\n",
    "print(\"Current working directory:\", current_directory)"
   ]
  },
  {
   "cell_type": "code",
   "execution_count": 5,
   "id": "48c62b11",
   "metadata": {},
   "outputs": [
    {
     "data": {
      "text/html": [
       "<div>\n",
       "<style scoped>\n",
       "    .dataframe tbody tr th:only-of-type {\n",
       "        vertical-align: middle;\n",
       "    }\n",
       "\n",
       "    .dataframe tbody tr th {\n",
       "        vertical-align: top;\n",
       "    }\n",
       "\n",
       "    .dataframe thead th {\n",
       "        text-align: right;\n",
       "    }\n",
       "</style>\n",
       "<table border=\"1\" class=\"dataframe\">\n",
       "  <thead>\n",
       "    <tr style=\"text-align: right;\">\n",
       "      <th></th>\n",
       "      <th>order_date</th>\n",
       "      <th>UID</th>\n",
       "      <th>order_no_final</th>\n",
       "      <th>order_id</th>\n",
       "      <th>user_id</th>\n",
       "      <th>booked_device</th>\n",
       "      <th>id</th>\n",
       "      <th>order_status</th>\n",
       "      <th>Line_status</th>\n",
       "      <th>Product_title</th>\n",
       "      <th>...</th>\n",
       "      <th>B_GMV</th>\n",
       "      <th>tax_excl_incl_ship_cod</th>\n",
       "      <th>is_grab_order</th>\n",
       "      <th>grabbed_date</th>\n",
       "      <th>vendor_cost_price</th>\n",
       "      <th>tax_excl_price_exclude_coupon</th>\n",
       "      <th>part_cod_amount</th>\n",
       "      <th>total_cp_actual</th>\n",
       "      <th>report_date</th>\n",
       "      <th>Margin</th>\n",
       "    </tr>\n",
       "  </thead>\n",
       "  <tbody>\n",
       "    <tr>\n",
       "      <th>0</th>\n",
       "      <td>01-04-2023</td>\n",
       "      <td>1023658188|CLE.IND.12522154</td>\n",
       "      <td>1023658188</td>\n",
       "      <td>23658188</td>\n",
       "      <td>NaN</td>\n",
       "      <td>android</td>\n",
       "      <td>20534080</td>\n",
       "      <td>delivered</td>\n",
       "      <td>delivered</td>\n",
       "      <td>Aristo Wheel Waste Bin 120Ltr With Pedal Grey</td>\n",
       "      <td>...</td>\n",
       "      <td>2790.00</td>\n",
       "      <td>2364</td>\n",
       "      <td>NaN</td>\n",
       "      <td>NaN</td>\n",
       "      <td>NaN</td>\n",
       "      <td>2364.406780</td>\n",
       "      <td>0</td>\n",
       "      <td>1666.00</td>\n",
       "      <td>06-04-2023</td>\n",
       "      <td>4030.00</td>\n",
       "    </tr>\n",
       "    <tr>\n",
       "      <th>1</th>\n",
       "      <td>01-04-2023</td>\n",
       "      <td>1023678514|FAS.SET.64648835</td>\n",
       "      <td>1023678514</td>\n",
       "      <td>23678514</td>\n",
       "      <td>5081506.0</td>\n",
       "      <td>android</td>\n",
       "      <td>20545228</td>\n",
       "      <td>partially_shipped</td>\n",
       "      <td>shipped</td>\n",
       "      <td>Agarwal Fastners (Dia 4mm Length 16mm) DIN 916...</td>\n",
       "      <td>...</td>\n",
       "      <td>448.00</td>\n",
       "      <td>380</td>\n",
       "      <td>0.0</td>\n",
       "      <td>NaN</td>\n",
       "      <td>289.00</td>\n",
       "      <td>379.661017</td>\n",
       "      <td>0</td>\n",
       "      <td>289.00</td>\n",
       "      <td>06-04-2023</td>\n",
       "      <td>669.00</td>\n",
       "    </tr>\n",
       "    <tr>\n",
       "      <th>2</th>\n",
       "      <td>01-04-2023</td>\n",
       "      <td>1023675209|IND.TIM.14954290</td>\n",
       "      <td>1023675209</td>\n",
       "      <td>23675209</td>\n",
       "      <td>5029385.0</td>\n",
       "      <td>Mobile</td>\n",
       "      <td>20543164</td>\n",
       "      <td>shipped_complete</td>\n",
       "      <td>shipped</td>\n",
       "      <td>Multispan 96 x 96 x 50 mm Universal Digital Ti...</td>\n",
       "      <td>...</td>\n",
       "      <td>1697.78</td>\n",
       "      <td>1439</td>\n",
       "      <td>0.0</td>\n",
       "      <td>NaN</td>\n",
       "      <td>1000.00</td>\n",
       "      <td>1438.796610</td>\n",
       "      <td>0</td>\n",
       "      <td>1000.00</td>\n",
       "      <td>06-04-2023</td>\n",
       "      <td>2439.00</td>\n",
       "    </tr>\n",
       "    <tr>\n",
       "      <th>3</th>\n",
       "      <td>01-04-2023</td>\n",
       "      <td>1023654716|LA.LA.GE.1561022</td>\n",
       "      <td>1023654716</td>\n",
       "      <td>23654716</td>\n",
       "      <td>769915.0</td>\n",
       "      <td>Android App</td>\n",
       "      <td>20531876</td>\n",
       "      <td>shipped</td>\n",
       "      <td>shipped</td>\n",
       "      <td>Scientech SE-224 Cleave Land Flash Point Appar...</td>\n",
       "      <td>...</td>\n",
       "      <td>4980.00</td>\n",
       "      <td>4644</td>\n",
       "      <td>0.0</td>\n",
       "      <td>NaN</td>\n",
       "      <td>3465.00</td>\n",
       "      <td>4220.338983</td>\n",
       "      <td>0</td>\n",
       "      <td>3465.00</td>\n",
       "      <td>06-04-2023</td>\n",
       "      <td>8109.00</td>\n",
       "    </tr>\n",
       "    <tr>\n",
       "      <th>4</th>\n",
       "      <td>30-03-2023</td>\n",
       "      <td>1023602107|OFF.OFF.25841482</td>\n",
       "      <td>1023602107</td>\n",
       "      <td>23602107</td>\n",
       "      <td>NaN</td>\n",
       "      <td>Desktop</td>\n",
       "      <td>20505595</td>\n",
       "      <td>delivered</td>\n",
       "      <td>delivered</td>\n",
       "      <td>Stolica Leatherite Brown High Back Office Chai...</td>\n",
       "      <td>...</td>\n",
       "      <td>5188.37</td>\n",
       "      <td>4397</td>\n",
       "      <td>0.0</td>\n",
       "      <td>NaN</td>\n",
       "      <td>3300.00</td>\n",
       "      <td>4396.923729</td>\n",
       "      <td>0</td>\n",
       "      <td>3300.00</td>\n",
       "      <td>06-04-2023</td>\n",
       "      <td>7697.00</td>\n",
       "    </tr>\n",
       "    <tr>\n",
       "      <th>...</th>\n",
       "      <td>...</td>\n",
       "      <td>...</td>\n",
       "      <td>...</td>\n",
       "      <td>...</td>\n",
       "      <td>...</td>\n",
       "      <td>...</td>\n",
       "      <td>...</td>\n",
       "      <td>...</td>\n",
       "      <td>...</td>\n",
       "      <td>...</td>\n",
       "      <td>...</td>\n",
       "      <td>...</td>\n",
       "      <td>...</td>\n",
       "      <td>...</td>\n",
       "      <td>...</td>\n",
       "      <td>...</td>\n",
       "      <td>...</td>\n",
       "      <td>...</td>\n",
       "      <td>...</td>\n",
       "      <td>...</td>\n",
       "      <td>...</td>\n",
       "    </tr>\n",
       "    <tr>\n",
       "      <th>5824</th>\n",
       "      <td>06-04-2023</td>\n",
       "      <td>1023797147|HAR.DOO.108558567</td>\n",
       "      <td>1023797147</td>\n",
       "      <td>23797147</td>\n",
       "      <td>2725918.0</td>\n",
       "      <td>Desktop</td>\n",
       "      <td>20621162</td>\n",
       "      <td>cod</td>\n",
       "      <td>confirmed</td>\n",
       "      <td>Link Easy-Door-Stopper-BN Stainless Steel Door...</td>\n",
       "      <td>...</td>\n",
       "      <td>22239.00</td>\n",
       "      <td>19271</td>\n",
       "      <td>0.0</td>\n",
       "      <td>NaN</td>\n",
       "      <td>NaN</td>\n",
       "      <td>18423.728810</td>\n",
       "      <td>0</td>\n",
       "      <td>15804.00</td>\n",
       "      <td>06-04-2023</td>\n",
       "      <td>35075.00</td>\n",
       "    </tr>\n",
       "    <tr>\n",
       "      <th>5825</th>\n",
       "      <td>06-04-2023</td>\n",
       "      <td>1023809841|SA.HE.FA.242500</td>\n",
       "      <td>1023809841</td>\n",
       "      <td>23809841</td>\n",
       "      <td>1369563.0</td>\n",
       "      <td>Mobile</td>\n",
       "      <td>20629373</td>\n",
       "      <td>cod</td>\n",
       "      <td>confirmed</td>\n",
       "      <td>Udyogi FC 58 Clear Face Shield without Helmet</td>\n",
       "      <td>...</td>\n",
       "      <td>851.20</td>\n",
       "      <td>675</td>\n",
       "      <td>0.0</td>\n",
       "      <td>NaN</td>\n",
       "      <td>250.00</td>\n",
       "      <td>674.576271</td>\n",
       "      <td>0</td>\n",
       "      <td>500.00</td>\n",
       "      <td>06-04-2023</td>\n",
       "      <td>1175.00</td>\n",
       "    </tr>\n",
       "    <tr>\n",
       "      <th>5826</th>\n",
       "      <td>06-04-2023</td>\n",
       "      <td>1023804021|ELE.TAB.87445463</td>\n",
       "      <td>1023804021</td>\n",
       "      <td>23804021</td>\n",
       "      <td>5074901.0</td>\n",
       "      <td>Desktop</td>\n",
       "      <td>20626229</td>\n",
       "      <td>cod</td>\n",
       "      <td>confirmed</td>\n",
       "      <td>Orient Stand-35 High Speed Rubbed Bronze 400 m...</td>\n",
       "      <td>...</td>\n",
       "      <td>4789.00</td>\n",
       "      <td>3975</td>\n",
       "      <td>0.0</td>\n",
       "      <td>NaN</td>\n",
       "      <td>3253.25</td>\n",
       "      <td>3974.576271</td>\n",
       "      <td>0</td>\n",
       "      <td>3253.25</td>\n",
       "      <td>06-04-2023</td>\n",
       "      <td>7228.25</td>\n",
       "    </tr>\n",
       "    <tr>\n",
       "      <th>5827</th>\n",
       "      <td>06-04-2023</td>\n",
       "      <td>1023796119|SA.SA32.242357</td>\n",
       "      <td>1023796119</td>\n",
       "      <td>23796119</td>\n",
       "      <td>4607684.0</td>\n",
       "      <td>Android App</td>\n",
       "      <td>20620457</td>\n",
       "      <td>confirmed</td>\n",
       "      <td>confirmed</td>\n",
       "      <td>Allen Cooper AC 1008 Antistatic Steel Toe Blac...</td>\n",
       "      <td>...</td>\n",
       "      <td>1680.00</td>\n",
       "      <td>1424</td>\n",
       "      <td>0.0</td>\n",
       "      <td>NaN</td>\n",
       "      <td>1150.00</td>\n",
       "      <td>1423.728814</td>\n",
       "      <td>0</td>\n",
       "      <td>1150.00</td>\n",
       "      <td>06-04-2023</td>\n",
       "      <td>2574.00</td>\n",
       "    </tr>\n",
       "    <tr>\n",
       "      <th>5828</th>\n",
       "      <td>06-04-2023</td>\n",
       "      <td>1023798594|SA.SA32.242359</td>\n",
       "      <td>1023798594</td>\n",
       "      <td>23798594</td>\n",
       "      <td>NaN</td>\n",
       "      <td>Mobile</td>\n",
       "      <td>20622256</td>\n",
       "      <td>confirmed</td>\n",
       "      <td>confirmed</td>\n",
       "      <td>Allen Cooper AC 1008 Antistatic Steel Toe Blac...</td>\n",
       "      <td>...</td>\n",
       "      <td>1590.00</td>\n",
       "      <td>1347</td>\n",
       "      <td>0.0</td>\n",
       "      <td>NaN</td>\n",
       "      <td>1150.00</td>\n",
       "      <td>1347.457627</td>\n",
       "      <td>0</td>\n",
       "      <td>1150.00</td>\n",
       "      <td>06-04-2023</td>\n",
       "      <td>2497.00</td>\n",
       "    </tr>\n",
       "  </tbody>\n",
       "</table>\n",
       "<p>5829 rows × 91 columns</p>\n",
       "</div>"
      ],
      "text/plain": [
       "      order_date                           UID  order_no_final  order_id  \\\n",
       "0     01-04-2023   1023658188|CLE.IND.12522154      1023658188  23658188   \n",
       "1     01-04-2023   1023678514|FAS.SET.64648835      1023678514  23678514   \n",
       "2     01-04-2023   1023675209|IND.TIM.14954290      1023675209  23675209   \n",
       "3     01-04-2023   1023654716|LA.LA.GE.1561022      1023654716  23654716   \n",
       "4     30-03-2023   1023602107|OFF.OFF.25841482      1023602107  23602107   \n",
       "...          ...                           ...             ...       ...   \n",
       "5824  06-04-2023  1023797147|HAR.DOO.108558567      1023797147  23797147   \n",
       "5825  06-04-2023    1023809841|SA.HE.FA.242500      1023809841  23809841   \n",
       "5826  06-04-2023   1023804021|ELE.TAB.87445463      1023804021  23804021   \n",
       "5827  06-04-2023     1023796119|SA.SA32.242357      1023796119  23796119   \n",
       "5828  06-04-2023     1023798594|SA.SA32.242359      1023798594  23798594   \n",
       "\n",
       "        user_id booked_device        id       order_status Line_status  \\\n",
       "0           NaN       android  20534080          delivered   delivered   \n",
       "1     5081506.0       android  20545228  partially_shipped     shipped   \n",
       "2     5029385.0        Mobile  20543164   shipped_complete     shipped   \n",
       "3      769915.0   Android App  20531876            shipped     shipped   \n",
       "4           NaN       Desktop  20505595          delivered   delivered   \n",
       "...         ...           ...       ...                ...         ...   \n",
       "5824  2725918.0       Desktop  20621162                cod   confirmed   \n",
       "5825  1369563.0        Mobile  20629373                cod   confirmed   \n",
       "5826  5074901.0       Desktop  20626229                cod   confirmed   \n",
       "5827  4607684.0   Android App  20620457          confirmed   confirmed   \n",
       "5828        NaN        Mobile  20622256          confirmed   confirmed   \n",
       "\n",
       "                                          Product_title  ...     B_GMV  \\\n",
       "0         Aristo Wheel Waste Bin 120Ltr With Pedal Grey  ...   2790.00   \n",
       "1     Agarwal Fastners (Dia 4mm Length 16mm) DIN 916...  ...    448.00   \n",
       "2     Multispan 96 x 96 x 50 mm Universal Digital Ti...  ...   1697.78   \n",
       "3     Scientech SE-224 Cleave Land Flash Point Appar...  ...   4980.00   \n",
       "4     Stolica Leatherite Brown High Back Office Chai...  ...   5188.37   \n",
       "...                                                 ...  ...       ...   \n",
       "5824  Link Easy-Door-Stopper-BN Stainless Steel Door...  ...  22239.00   \n",
       "5825      Udyogi FC 58 Clear Face Shield without Helmet  ...    851.20   \n",
       "5826  Orient Stand-35 High Speed Rubbed Bronze 400 m...  ...   4789.00   \n",
       "5827  Allen Cooper AC 1008 Antistatic Steel Toe Blac...  ...   1680.00   \n",
       "5828  Allen Cooper AC 1008 Antistatic Steel Toe Blac...  ...   1590.00   \n",
       "\n",
       "      tax_excl_incl_ship_cod  is_grab_order  grabbed_date  vendor_cost_price  \\\n",
       "0                       2364            NaN           NaN                NaN   \n",
       "1                        380            0.0           NaN             289.00   \n",
       "2                       1439            0.0           NaN            1000.00   \n",
       "3                       4644            0.0           NaN            3465.00   \n",
       "4                       4397            0.0           NaN            3300.00   \n",
       "...                      ...            ...           ...                ...   \n",
       "5824                   19271            0.0           NaN                NaN   \n",
       "5825                     675            0.0           NaN             250.00   \n",
       "5826                    3975            0.0           NaN            3253.25   \n",
       "5827                    1424            0.0           NaN            1150.00   \n",
       "5828                    1347            0.0           NaN            1150.00   \n",
       "\n",
       "      tax_excl_price_exclude_coupon  part_cod_amount  total_cp_actual  \\\n",
       "0                       2364.406780                0          1666.00   \n",
       "1                        379.661017                0           289.00   \n",
       "2                       1438.796610                0          1000.00   \n",
       "3                       4220.338983                0          3465.00   \n",
       "4                       4396.923729                0          3300.00   \n",
       "...                             ...              ...              ...   \n",
       "5824                   18423.728810                0         15804.00   \n",
       "5825                     674.576271                0           500.00   \n",
       "5826                    3974.576271                0          3253.25   \n",
       "5827                    1423.728814                0          1150.00   \n",
       "5828                    1347.457627                0          1150.00   \n",
       "\n",
       "      report_date    Margin  \n",
       "0      06-04-2023   4030.00  \n",
       "1      06-04-2023    669.00  \n",
       "2      06-04-2023   2439.00  \n",
       "3      06-04-2023   8109.00  \n",
       "4      06-04-2023   7697.00  \n",
       "...           ...       ...  \n",
       "5824   06-04-2023  35075.00  \n",
       "5825   06-04-2023   1175.00  \n",
       "5826   06-04-2023   7228.25  \n",
       "5827   06-04-2023   2574.00  \n",
       "5828   06-04-2023   2497.00  \n",
       "\n",
       "[5829 rows x 91 columns]"
      ]
     },
     "execution_count": 5,
     "metadata": {},
     "output_type": "execute_result"
    }
   ],
   "source": [
    "pd.read_csv(\"test.csv\")"
   ]
  },
  {
   "cell_type": "code",
   "execution_count": 6,
   "id": "cd5803dc",
   "metadata": {},
   "outputs": [],
   "source": [
    "from pyspark.sql import SparkSession"
   ]
  },
  {
   "cell_type": "code",
   "execution_count": 7,
   "id": "a9f209eb",
   "metadata": {},
   "outputs": [],
   "source": [
    "spark=SparkSession.builder.appName('prasctise').getOrCreate() #spark session"
   ]
  },
  {
   "cell_type": "code",
   "execution_count": 8,
   "id": "ec23c173",
   "metadata": {},
   "outputs": [
    {
     "data": {
      "text/html": [
       "\n",
       "            <div>\n",
       "                <p><b>SparkSession - in-memory</b></p>\n",
       "                \n",
       "        <div>\n",
       "            <p><b>SparkContext</b></p>\n",
       "\n",
       "            <p><a href=\"http://E10590-AR-LAP54-UNVPNSI156L3267932:4040\">Spark UI</a></p>\n",
       "\n",
       "            <dl>\n",
       "              <dt>Version</dt>\n",
       "                <dd><code>v3.4.0</code></dd>\n",
       "              <dt>Master</dt>\n",
       "                <dd><code>local[*]</code></dd>\n",
       "              <dt>AppName</dt>\n",
       "                <dd><code>prasctise</code></dd>\n",
       "            </dl>\n",
       "        </div>\n",
       "        \n",
       "            </div>\n",
       "        "
      ],
      "text/plain": [
       "<pyspark.sql.session.SparkSession at 0x1e13540faf0>"
      ]
     },
     "execution_count": 8,
     "metadata": {},
     "output_type": "execute_result"
    }
   ],
   "source": [
    "spark"
   ]
  },
  {
   "cell_type": "code",
   "execution_count": 9,
   "id": "37d14ee8",
   "metadata": {},
   "outputs": [],
   "source": [
    "df_pyspark=spark.read.csv('test.csv')"
   ]
  },
  {
   "cell_type": "code",
   "execution_count": 10,
   "id": "4e8a370f",
   "metadata": {},
   "outputs": [
    {
     "name": "stdout",
     "output_type": "stream",
     "text": [
      "+----------+--------------------+--------------+--------+-------+-------------+--------+--------------------+-----------+--------------------+-------------------+-----------------+--------------------+--------------+---------+----------------+-------+----------+--------+--------------+----------------+-----------------+--------------------+------------+----------+----------------+--------------------+--------------------+--------------------+------------+-------------+-------+-----------+------------------+------------+--------------------+----------------+--------------+--------------+--------------------+----------+---------------+-------------+----------+-------------+--------------------+--------------------+-------+--------------+----------+-------------------+-------------------+--------------------+-------------------+-------------------+--------------------+--------------------+---------------+--------------+-------------------+--------------------+--------------------+--------------+--------------------+--------------------+--------------+--------------------+--------------------+-----------------+---------------+-----------+------------+------------+------------+--------------+-------------+--------------+------+-------------------+--------------------+-----------------+---------+--------------------+-------------+------------+-----------------+--------------------+---------------+---------------+-----------+--------+\n",
      "|       _c0|                 _c1|           _c2|     _c3|    _c4|          _c5|     _c6|                 _c7|        _c8|                 _c9|               _c10|             _c11|                _c12|          _c13|     _c14|            _c15|   _c16|      _c17|    _c18|          _c19|            _c20|             _c21|                _c22|        _c23|      _c24|            _c25|                _c26|                _c27|                _c28|        _c29|         _c30|   _c31|       _c32|              _c33|        _c34|                _c35|            _c36|          _c37|          _c38|                _c39|      _c40|           _c41|         _c42|      _c43|         _c44|                _c45|                _c46|   _c47|          _c48|      _c49|               _c50|               _c51|                _c52|               _c53|               _c54|                _c55|                _c56|           _c57|          _c58|               _c59|                _c60|                _c61|          _c62|                _c63|                _c64|          _c65|                _c66|                _c67|             _c68|           _c69|       _c70|        _c71|        _c72|        _c73|          _c74|         _c75|          _c76|  _c77|               _c78|                _c79|             _c80|     _c81|                _c82|         _c83|        _c84|             _c85|                _c86|           _c87|           _c88|       _c89|    _c90|\n",
      "+----------+--------------------+--------------+--------+-------+-------------+--------+--------------------+-----------+--------------------+-------------------+-----------------+--------------------+--------------+---------+----------------+-------+----------+--------+--------------+----------------+-----------------+--------------------+------------+----------+----------------+--------------------+--------------------+--------------------+------------+-------------+-------+-----------+------------------+------------+--------------------+----------------+--------------+--------------+--------------------+----------+---------------+-------------+----------+-------------+--------------------+--------------------+-------+--------------+----------+-------------------+-------------------+--------------------+-------------------+-------------------+--------------------+--------------------+---------------+--------------+-------------------+--------------------+--------------------+--------------+--------------------+--------------------+--------------+--------------------+--------------------+-----------------+---------------+-----------+------------+------------+------------+--------------+-------------+--------------+------+-------------------+--------------------+-----------------+---------+--------------------+-------------+------------+-----------------+--------------------+---------------+---------------+-----------+--------+\n",
      "|order_date|                 UID|order_no_final|order_id|user_id|booked_device|      id|        order_status|Line_status|       Product_title|tax_inclusive_price|striked_off_price|original_tax_incl...|order_quantity|order_tax|coupoun_discount|  total|logical_cp|total_cp|logical_markup|Sku_created_Date|              sku|            sku_type|SpecialOrder|brand_type|           Brand|       leaf_category|            category|         c1_category|stock_status|is_consumable|mark_up|logical_mrp|logical_list_price|payment_mode| reason_cancellation|OrderconfirmDate|         state|          city|                name|utm_source|shipping_charge|ib_cash_debit|cod_charge|bulk_discount|        utm_campaign|          utm_medium|pincode|  category_env|  order_no|tax_exclusive_price|  cancellation_date|         modified_by|     cancel_comment|cancellation_source|allocated_vendor_...|allocated_vendor_...|allocation_mode|warehouse_code|logical_seller_code| logical_seller_name|      custom_label_0|custom_label_1|      custom_label_2|      custom_label_3|custom_label_4|expected_dispatch...|expected_delivery...|Order_Check_Gstin|   gstin_number|dealer_code|dealer_gstno|dealer_phone|Shipped_Date|Delivered_Date|Returned_Date|waybill_number|lsp_id|           LSP_NAME|total_tax_exclusi...|tax_in_percentage|    B_GMV|tax_excl_incl_shi...|is_grab_order|grabbed_date|vendor_cost_price|tax_excl_price_ex...|part_cod_amount|total_cp_actual|report_date|  Margin|\n",
      "|01-04-2023|1023658188|CLE.IN...|    1023658188|23658188|   null|      android|20534080|           delivered|  delivered|Aristo Wheel Wast...|               2790|          4569.84|                2790|             1|      426|               0|   2790|      1666|    1666|          null|      04-05-2017| CLE.IND.12522154|Planned Inventory...|       FALSE|  NATIONAL|          aristo|Dustbins and Wast...|            Cleaning|   Waste & Recycling|    in stock|            N|  41.44|       null|              null|         upi|                null|      01-04-2023|   Maharashtra|          Pune|     Yogiraj Chopade|      null|              0|            0|         0|            0|                null|                null| 411019|industrybuying|1023658188|          2356.3904|               null|                null|               null|               null|                null|                null|            JIT|           HR1|               null|                null|            Cleaning|Plan Inventory|                   0|      Plan Inventory|     Marketing|          02-04-2023|          07-04-2023|              YES|27AABCW5970D1Z8|       null|        null|        null|  02-04-2023|    05-04-2023|         null|     234047203|   172|      Delhivery B2B|                2364|               18|     2790|                2364|         null|        null|             null|          2364.40678|              0|           1666| 06-04-2023|    4030|\n",
      "|01-04-2023|1023678514|FAS.SE...|    1023678514|23678514|5081506|      android|20545228|   partially_shipped|    shipped|Agarwal Fastners ...|                448|              448|                 448|             1|       68|               0|    448|       289|     289|          null|      23-08-2021| FAS.SET.64648835|     MarketPlace SKU|       FALSE|  NATIONAL|agarwal fastners|          Set Screws|           Fasteners|          Set Screws|    in stock|            Y|  33.33|       null|              null|         upi|                null|      01-04-2023|     Telangana|   Karim Nagar|       Satyanarayana|      null|              0|            0|         0|            0|                null|                null| 505001|industrybuying|1023678514|           385.3237|               null|                null|               null|               null|                2177|AB INDUSTRIAL SUP...|             MP|          null|               null|                null|           Fasteners|        Non PL|        Longtail New|    Non PL Fasteners|     Marketing|          06-04-2023|          10-04-2023|               NO|           null|       null|        null|        null|  04-04-2023|          null|         null|    1.4299E+13|    29|         Xpressbees|                 380|               18|      448|                 380|            0|        null|              289|         379.6610169|              0|            289| 06-04-2023|     669|\n",
      "|01-04-2023|1023675209|IND.TI...|    1023675209|23675209|5029385|       Mobile|20543164|    shipped_complete|    shipped|Multispan 96 x 96...|            1697.78|             1755|            1697.784|             1|  258.784|               0|1697.78|      1000|    1000|         43.88|      18-08-2017| IND.TIM.14954290|     MarketPlace SKU|       FALSE|     LOCAL|       multispan|              Timers|Industrial Automa...|              Timers|    in stock|            N|  49.25|          0|              1755| credit_card|                null|      01-04-2023|    Tamil Nadu|         HOSUR|       Ramanujan K S|    Direct|              0|            0|         0|            0|                null|                null| 635109|industrybuying|1023675209|             1492.5|               null|                null|               null|               null|               29894|    Dhruv Enterprise|             MP|          null|               null|                null|Industrial Automa...|        Non PL|Medium GMV x High...|Non PL Industrial...|     Marketing|          02-04-2023|          07-04-2023|              YES|33AADVL7592E1ZG|       null|        null|        null|  05-04-2023|          null|         null|   3.23296E+11|   136|        Amazon ship|                1439|               18|  1697.78|                1439|            0|        null|             1000|          1438.79661|              0|           1000| 06-04-2023|    2439|\n",
      "|01-04-2023|1023654716|LA.LA....|    1023654716|23654716| 769915|  Android App|20531876|             shipped|    shipped|Scientech SE-224 ...|               4980|             5500|                5480|             1|      836|             500|   4980|      3465|    3465|          null|      21-07-2016| LA.LA.GE.1561022|     MarketPlace SKU|       FALSE|     LOCAL|       scientech|General Laborator...|        Lab Supplies|Laboratory Equipm...|    in stock|            N|  36.99|       null|              null| credit_card|                null|      01-04-2023|        Kerala|         adoor|           Principal|      null|              0|            0|         0|            0|                null|                null| 689501|industrybuying|1023654716|          4746.7035|               null|                null|               null|               null|                5722|M/.s SCIENCE ENTE...|             MP|          null|               null|                null|        Lab Supplies|        Non PL|No GMV x No Order...| Non PL Lab Supplies|     Marketing|          03-04-2023|          08-04-2023|               NO|           null|       null|        null|        null|  01-04-2023|          null|         null|   1.77173E+13|   196|IMPL_Delhivery_10KG|                4644|               18|     4980|                4644|            0|        null|             3465|         4220.338983|              0|           3465| 06-04-2023|    8109|\n",
      "|30-03-2023|1023602107|OFF.OF...|    1023602107|23602107|   null|      Desktop|20505595|           delivered|  delivered|Stolica Leatherit...|            5188.37|          6186.44|           5188.3657|             1| 791.3656|               0|5188.37|      3300|    3300|         33.24|      28-03-2022| OFF.OFF.25841482|     MarketPlace SKU|       FALSE|  NATIONAL|         stolica|       Office Chairs|     Office Supplies|    Office Furniture|    in stock|            N|  36.99|       null|           6186.44|        neft|                null|      01-04-2023|   Maharashtra|          Pune|    Pushkar Indulkar|    Google|              0|            0|         0|            0|PLAPMAX_BR_Plan_I...|                 PLA| 411007|industrybuying|1023602107|            4520.67|               null|                null|               null|               null|               36086|   Dicor seating LLP|             MP|          null|               null|                null|     Office Supplies|        Non PL|        Longtail New|Non PL Office Sup...|     Marketing|          02-04-2023|          07-04-2023|              YES|27AAPPI3486F1ZE|       null|        null|        null|  01-04-2023|    04-04-2023|         null|    1.4299E+13|    29|         Xpressbees|                4397|               18|  5188.37|                4397|            0|        null|             3300|         4396.923729|              0|           3300| 06-04-2023|    7697|\n",
      "|01-04-2023|1023657335|PNE.AI...|    1023657335|23657335|  52236|  Android App|20533362|           delivered|  delivered|Powerhouse 51mm 2...|            6524.18|         5528.966|           6524.1797|             1| 995.1796|               0|6524.18|    3383.7|  3383.7|          63.4|      15-11-2021| PNE.AIR.95302537|   Private Label SKU|       FALSE|   PRIVATE|      powerhouse|Portable Air Comp...|Hydraulics and Pn...|Air Compressors a...|    in stock|            N|   63.4|          0|                 0|         cod|                null|      01-04-2023|   Maharashtra|          Pune|      rahul mirajkar|    Google|              0|            0|       149|            0|PLAPMAX_Lab_Supplies|                 PLA| 411033|industrybuying|1023657335|          5528.9658|               null|                null|               null|               null|                null|                null|            JIT|           HR1|               null|                null|          Pneumatics|     pvt_label|              PL New|       PL Pneumatics|     Marketing|          02-04-2023|          07-04-2023|               NO|           null|       null|        null|        null|  02-04-2023|    06-04-2023|         null|   1.77173E+13|   196|IMPL_Delhivery_10KG|                5529|               18|  6673.18|                5529|         null|        null|             null|         5528.966102|              0|         3383.7| 06-04-2023|  8912.7|\n",
      "|01-04-2023|1023678607|PNE.ST...|    1023678607|23678607|5081281|  Android App|20545283|    shipped_complete|  cancelled|Aeroflex MA 25 St...|              997.1|             1040|               997.1|             1|    152.1|               0|  997.1|       676|     676|            25|      30-09-2022| PNE.STA.57024731|     MarketPlace SKU|       FALSE|     LOCAL|        aeroflex| Pneumatic Cylinders|Hydraulics and Pn...|Pneumatic System ...|out of stock|            N|  28.21|       null|              1040|         cod|It's brought by l...|      01-04-2023|   West Bengal|        Howrah| Prodip Kumar Mandal|  firebase|              0|            0|   33.1762|            0|PLAPMAX_Hydraulic...|                 PLA| 711112|industrybuying|1023678607|               null|2023-04-02T10:24:19|72d6018a-2f79-4e7...|Funds Not Available|               USER|                null|                null|           NONE|          null|               null|                null|                null|        Non PL|        Longtail New|   Non PL Pneumatics|     Marketing|                null|                null|               NO|           null|       null|        null|        null|        null|          null|         null|          null|  null|               null|                 845|               18|1030.2762|                 845|            0|        null|             null|                 845|              0|            676| 06-04-2023|    1521|\n",
      "|01-04-2023|1023685520|SA.SA....|    1023685520|23685520|4992243|  Android App|20548755|           delivered|  delivered|SS & WW MAKE Oran...|            1663.24|             1620|           1663.2378|            36|  79.2378|               0|1663.24|        30|    1080|         46.67|      05-11-2016| SA.SA.CO.1639574|     MarketPlace SKU|       FALSE|     LOCAL|      sai safety|       Coated Gloves|              Safety|       Safety Gloves|    in stock|            Y|  51.52|       null|                45|         cod|                null|      01-04-2023| Uttar Pradesh|      Azamgarh|Musheer haider Sayed|    Google|              0|            0|        69|            0|GDNM_Product_Viewers|                 GDN| 276204|industrybuying|1023685520|             45.456|               null|                null|               null|               null|                7306|Sai Safety And Wo...|             MP|          null|               null|                null|              Safety|        Non PL|       Non PL Safety|    C1 Safety Gloves|     Marketing|          02-04-2023|          06-04-2023|               NO|           null|       null|        null|        null|  04-04-2023|    06-04-2023|         null|    1.4299E+13|    29|         Xpressbees|                1584|                5|  1732.24|                1584|            0|        null|               30|         1584.038095|              0|           1080| 06-04-2023|    2664|\n",
      "|01-04-2023|1023662051|SAF.SA...|    1023662051|23662051|4976143|  Android App|20535252|           cancelled|  cancelled|Hillson Swag 1903...|                745|         832.5111|                 828|             1|       89|              83|    745|       588|     588|          null|      09-01-2023| SAF.SAF.27783011|     MarketPlace SKU|       FALSE|  NATIONAL|         hillson|        Safety Shoes|              Safety|        Safety Shoes|    in stock|            N|  26.58|       null|              null| credit_card|       I need size 8|      01-04-2023|     Telangana|       Kadthal|      ramesh gaddala|      null|             59|            0|         0|            0|                null|                null| 501359|industrybuying|1023662051|           744.2904|2023-04-01T13:25:08|rameshgaddala04@g...|Funds Not Available|               USER|               38601|C.M. PIAREY LAL A...|             MP|          null|               null|                null|                null|        Non PL|        Longtail New|     C1 Safety Shoes|     Marketing|          05-04-2023|          10-04-2023|               NO|           null|       null|        null|        null|        null|          null|         null|          null|  null|               null|                 739|               12|      804|                 739|            0|        null|              588|         665.1785714|              0|            588| 06-04-2023|    1327|\n",
      "|01-04-2023|1023665676|SOL.PE...|    1023665676|23665676| 664612|  Android App|20536901|             shipped|    shipped|Luminous 445W 24V...|              39300|            39800|               39800|             2|     4264|             500|  39300|     14910|   29820|          null|      16-09-2022| SOL.PER.76921305|Planned Inventory...|       FALSE|  NATIONAL|        luminous|Mono PERC Solar P...|               Solar|        Solar Panels|    in stock|            N|  19.16|       null|              null|         upi|                null|      01-04-2023|        Kerala|Pathanamthitta|             Anish.S|      null|              0|            0|         0|            0|                null|                null| 689647|industrybuying|1023665676|          17766.756|               null|                null|               null|               null|                null|                null|            JIT|           HR1|               null|                null|                null|Plan Inventory|        Longtail New|      Plan Inventory|     Marketing|          02-04-2023|          07-04-2023|               NO|           null|       null|        null|        null|  03-04-2023|          null|         null|     235448423|   172|      Delhivery B2B|               35536|               12|    39300|               35536|         null|        null|             null|         35089.28571|              0|          29820| 06-04-2023|   65356|\n",
      "|01-04-2023|1023660195|TOO.HA...|    1023660195|23660195| 469277|  Android App|20534724|    shipped_complete|    shipped|Taparia High Spee...|             286.33|              315|            286.3261|             5|  43.3261|               0| 286.33|     40.95|  204.75|         18.51|      09-07-2020| TOO.HAC.32728303|     MarketPlace SKU|       FALSE|  NATIONAL|         taparia|      Hacksaw Blades| Tooling and Cutting|      Cutting Blades|    in stock|            Y|  21.95|          0|                63|         cod|                null|      01-04-2023|  Chhattisgarh|      dhamtari|   Devendra Rajpuria|  WhatsApp|           34.5|            0|   27.5569|            0|atc_drop_multiple...|                Tech| 493773|industrybuying|1023660195|          49.938525|               null|                null|               null|               null|               23050|3S ENGINEERING CO...|             MP|          null|               null|                null| Tooling and Cutting|      noorders|                 nan|      Non PL Tooling|     Marketing|          05-04-2023|          10-04-2023|               NO|           null|       null|        null|        null|  04-04-2023|          null|         null|    1.4299E+13|    29|         Xpressbees|                 243|               18| 348.3869|                 243|            0|        null|            40.95|         242.6525424|              0|         204.75| 06-04-2023|  447.75|\n",
      "|01-04-2023|1023674605|ELE.FL...|    1023674605|23674605|4818476|  Android App|20542753|    shipped_complete|    shipped|Kalinga Gold 2.5 ...|            2484.25|         4313.559|                2760|             2|      421|          275.75|2484.25|     661.7|  1323.4|          null|      04-12-2020|ELE.FLA.102859482|Planned Inventory...|       FALSE|  NATIONAL|         kalinga|Flame Retardant (...|          Electrical|    Cables and Wires|    in stock|            N|  69.49|       null|              null|         upi|                null|      01-04-2023|  Chhattisgarh|          Durg|   Akhilesh Parashar|      null|              0|            0|         0|            0|                null|                null| 491001|industrybuying|1023674605|         1121.51533|               null|                null|               null|               null|                null|                null|            JIT|           HR1|               null|                null|          Electrical|Plan Inventory|BR Plan Inventory...|      Plan Inventory|     Marketing|          02-04-2023|          07-04-2023|              YES|22DXKPS8924K1ZT|       null|        null|        null|  02-04-2023|          null|         null|    1.4299E+14|    29|         Xpressbees|                2339|               18|  2484.25|                2339|         null|        null|             null|          2105.29661|              0|         1323.4| 06-04-2023|  3662.4|\n",
      "|01-04-2023|1023667271|SAF.SA...|    1023667271|23667271|   null|       Mobile|20537764|shipped_and_returned|        RTO|Safari Gumboot an...|                568|              568|                 568|             1|       61|               0|    568|       375|     375|         35.14|      04-08-2017| SAF.SAF.13827504|     MarketPlace SKU|       FALSE|  NATIONAL|          safari|        Safety Shoes|              Safety|        Safety Shoes|    in stock|            N|  35.14|       null|              null|         cod|                null|      01-04-2023|   Uttaranchal|    Uttarkashi|   Shashwat bhandari|   Organic|             59|            0|        39|            0|                null|https://www.googl...| 249193|industrybuying|1023667271|            506.775|               null|                null|               null|               null|                 657|M/S SOURCE INDIA ...|             MP|          null|                657|M/S SOURCE INDIA ...|              Safety|        Non PL|       Non PL Safety|     C1 Safety Shoes|     Marketing|          02-04-2023|          06-04-2023|               NO|           null|       null|        null|        null|  01-04-2023|          null|   05-04-2023|   1.77169E+13|   194| IMPL_Delhivery_3KG|                 507|               12|      666|                 507|            0|        null|              375|         507.1428571|              0|            375| 06-04-2023|     882|\n",
      "|01-04-2023|1023673784|SAF.SA...|    1023673784|23673784|   null|       Mobile|20542146|             shipped|    shipped|Safari Gumboot an...|                438|              438|                 438|             1|       47|               0|    438|       320|     320|         21.17|      04-08-2017| SAF.SAF.19827466|     MarketPlace SKU|       FALSE|  NATIONAL|          safari|        Safety Shoes|              Safety|        Safety Shoes|    in stock|            N|  21.17|       null|             401.2| credit_card|                null|      01-04-2023|         Assam|     Karimganj|        Pranab borah|    Google|             69|            0|         0|            0|PLAPMAX_C1_Safety...|                 PLA| 788710|industrybuying|1023673784|            387.744|               null|                null|               null|               null|                 657|M/S SOURCE INDIA ...|             MP|          null|                657|M/S SOURCE INDIA ...|              Safety|        Non PL|       Non PL Safety|     C1 Safety Shoes|     Marketing|          06-04-2023|          11-04-2023|               NO|           null|       null|        null|        null|  04-04-2023|          null|         null|    1.4299E+13|    29|         Xpressbees|                 391|               12|      507|                 391|            0|        null|              320|         391.0714286|              0|            320| 06-04-2023|     711|\n",
      "|01-04-2023|1023682505|HA.HA0...|    1023682505|23682505|5078643|      Desktop|20547195|              packed|  confirmed|Yato YT-8006 Axe ...|               9900|             9900|                9900|             5|     1510|               0|   9900|   1392.11| 6960.55|         18.69|      12-03-2016|    HA.HA0.750207|     MarketPlace SKU|       FALSE|  NATIONAL|            yato|  Hammer Accessories|          Hand Tools|             Hammers|    in stock|            N|  21.95|          0|              1907| credit_card|                null|      01-04-2023|Madhya Pradesh|        Indore|BMR Wildlife Serv...|    Google|              0|            0|         0|            0|  PLAPMAX_Hand_Tools|                 PLA| 452011|industrybuying|1023682505|        1697.678145|               null|                null|               null|               null|                 745|   Aron Technologies|             MP|          null|                745|   Aron Technologies|          Hand Tools|        Non PL|Low GMV x Low Ord...|   Non PL Hand Tools|     Marketing|          06-04-2023|          11-04-2023|              YES|23AAWFB3652M1Z0|       null|        null|        null|        null|          null|         null|          null|  null|               null|                8390|               18|     9900|                8390|            0|        null|          1392.11|         8389.830508|              0|        6960.55| 06-04-2023|15350.55|\n",
      "|01-04-2023|1023666931|HAN.SC...|    1023666931|23666931|2093907|  Android App|20537585|                 cod|  confirmed|Yato YT-2827 Insu...|                838|              943|                 838|             1|      128|               0|    838|    549.07|  549.07|         28.24|      30-07-2022| HAN.SCR.66635398|     MarketPlace SKU|       FALSE|  NATIONAL|            yato|     Screwdriver Set|          Hand Tools|Screwdriver & Nut...|    in stock|            N|  29.87|       null|               943|         cod|                null|      01-04-2023|        Kerala|        KOLLAM|               manoj|    Google|              0|            0|        69|            0|PLAPMAX_Private_L...|                 PLA| 691019|industrybuying|1023666931|         713.077209|               null|                null|               null|               null|                 745|   Aron Technologies|             MP|          null|                745|   Aron Technologies|                null|        Non PL|        Longtail New|   Non PL Hand Tools|     Marketing|          06-04-2023|          11-04-2023|               NO|           null|       null|        null|        null|        null|          null|         null|          null|  null|               null|                 710|               18|      907|                 710|            0|        null|           549.07|         710.1694915|              0|         549.07| 06-04-2023| 1259.07|\n",
      "|01-04-2023|1023657838|LUB.BU...|    1023657838|23657838|  52236|  Android App|20533810|           cancelled|  cancelled|Yato Oil Transfer...|               1380|             1380|                1380|             1|      211|               0|   1380|    970.56|  970.56|         14.94|      27-02-2023| LUB.BUC.98169421|     MarketPlace SKU|       FALSE|  NATIONAL|            yato|     Bucket Oil Pump| Lubricants and Oils|Fuel & Oil Transf...|    in stock|            N|  17.65|          0|              1348|         cod|            too dily|      01-04-2023|   Maharashtra|          Pune|      rahul mirajkar|    Google|              0|            0|        69|            0|PLAPMAX_Lab_Supplies|                 PLA| 411033|industrybuying|1023657838|         1141.86384|2023-04-05T21:18:26|               52236|  Delay In Delivery|               USER|                 745|   Aron Technologies|             MP|          null|                745|   Aron Technologies|                null|           NEW|                 NEW|New Launch Februa...|     Marketing|          05-04-2023|          10-04-2023|               NO|           null|       null|        null|        null|        null|          null|         null|          null|  null|               null|                1169|               18|     1449|                1169|            0|        null|           970.56|         1169.491525|              0|         970.56| 06-04-2023| 2139.56|\n",
      "|01-04-2023|1023663516|LUB.OI...|    1023663516|23663516| 993601|  Android App|20535779|           cancelled|  cancelled|Yato Oil Can With...|                388|              395|                 388|             1|       59|               0|    388|     284.4|   284.4|         14.94|      27-02-2023| LUB.OIL.98169923|     MarketPlace SKU|       FALSE|  NATIONAL|            yato|            Oil cans| Lubricants and Oils|            Oil cans|    in stock|            N|  16.28|          0|               395|         cod|                 yes|      01-04-2023| Uttar Pradesh|         Rasra|Satya narayan sharma|    Direct|             59|            0|        39|            0|                null|                null| 221716|industrybuying|1023663516|          330.70032|2023-04-01T08:49:12|satyaasharma989@g...|  Delay In Delivery|               USER|                 745|   Aron Technologies|             MP|          null|                745|   Aron Technologies|                null|           NEW|                 NEW|New Launch Februa...|     Marketing|          05-04-2023|          09-04-2023|               NO|           null|       null|        null|        null|        null|          null|         null|          null|  null|               null|                 329|               18|      486|                 329|            0|        null|            284.4|         328.8135593|              0|          284.4| 06-04-2023|   613.4|\n",
      "|01-04-2023|1023657550|ELE.HE...|    1023657550|23657550|4912245|      Desktop|20533567|   partially_shipped|  confirmed|Yato Heat Shrink ...|                268|              269|                 268|             1|       41|               0|    268|    193.68|  193.68|         14.94|      23-02-2023|ELE.HEA.108135108|     MarketPlace SKU|       FALSE|  NATIONAL|            yato|   Heat Shrink Tubes|Electronics & Rob...|       Interconnects|    in stock|            N|  17.65|          0|               269|         cod|                null|      01-04-2023|   West Bengal|       Birbhum|Dr. Sushil Bhatta...|     Email|              0|            0|    7.3537|            0|BE_31_03_23-Top_L...|           Broadcast| 731302|industrybuying|1023657550|          227.86452|               null|                null|               null|               null|                 745|   Aron Technologies|             MP|          null|                745|   Aron Technologies|                null|           NEW|                 NEW|New Launch Februa...|     Marketing|          05-04-2023|          10-04-2023|               NO|           null|       null|        null|        null|        null|          null|         null|          null|  null|               null|                 227|               18| 275.3537|                 227|            0|        null|           193.68|         227.1186441|              0|         193.68| 06-04-2023|  420.68|\n",
      "+----------+--------------------+--------------+--------+-------+-------------+--------+--------------------+-----------+--------------------+-------------------+-----------------+--------------------+--------------+---------+----------------+-------+----------+--------+--------------+----------------+-----------------+--------------------+------------+----------+----------------+--------------------+--------------------+--------------------+------------+-------------+-------+-----------+------------------+------------+--------------------+----------------+--------------+--------------+--------------------+----------+---------------+-------------+----------+-------------+--------------------+--------------------+-------+--------------+----------+-------------------+-------------------+--------------------+-------------------+-------------------+--------------------+--------------------+---------------+--------------+-------------------+--------------------+--------------------+--------------+--------------------+--------------------+--------------+--------------------+--------------------+-----------------+---------------+-----------+------------+------------+------------+--------------+-------------+--------------+------+-------------------+--------------------+-----------------+---------+--------------------+-------------+------------+-----------------+--------------------+---------------+---------------+-----------+--------+\n",
      "only showing top 20 rows\n",
      "\n"
     ]
    }
   ],
   "source": [
    "df_pyspark.show()"
   ]
  },
  {
   "cell_type": "code",
   "execution_count": 11,
   "id": "997ea425",
   "metadata": {},
   "outputs": [
    {
     "data": {
      "text/plain": [
       "DataFrame[order_date: string, UID: string, order_no_final: string, order_id: string, user_id: string, booked_device: string, id: string, order_status: string, Line_status: string, Product_title: string, tax_inclusive_price: string, striked_off_price: string, original_tax_inclusive_price: string, order_quantity: string, order_tax: string, coupoun_discount: string, total: string, logical_cp: string, total_cp: string, logical_markup: string, Sku_created_Date: string, sku: string, sku_type: string, SpecialOrder: string, brand_type: string, Brand: string, leaf_category: string, category: string, c1_category: string, stock_status: string, is_consumable: string, mark_up: string, logical_mrp: string, logical_list_price: string, payment_mode: string, reason_cancellation: string, OrderconfirmDate: string, state: string, city: string, name: string, utm_source: string, shipping_charge: string, ib_cash_debit: string, cod_charge: string, bulk_discount: string, utm_campaign: string, utm_medium: string, pincode: string, category_env: string, order_no: string, tax_exclusive_price: string, cancellation_date: string, modified_by: string, cancel_comment: string, cancellation_source: string, allocated_vendor_code: string, allocated_vendor_name: string, allocation_mode: string, warehouse_code: string, logical_seller_code: string, logical_seller_name: string, custom_label_0: string, custom_label_1: string, custom_label_2: string, custom_label_3: string, custom_label_4: string, expected_dispatch_date: string, expected_delivery_date: string, Order_Check_Gstin: string, gstin_number: string, dealer_code: string, dealer_gstno: string, dealer_phone: string, Shipped_Date: string, Delivered_Date: string, Returned_Date: string, waybill_number: string, lsp_id: string, LSP_NAME: string, total_tax_exclusive_price: string, tax_in_percentage: string, B_GMV: string, tax_excl_incl_ship_cod: string, is_grab_order: string, grabbed_date: string, vendor_cost_price: string, tax_excl_price_exclude_coupon: string, part_cod_amount: string, total_cp_actual: string, report_date: string, Margin: string]"
      ]
     },
     "execution_count": 11,
     "metadata": {},
     "output_type": "execute_result"
    }
   ],
   "source": [
    "spark.read.option('header','true').csv('test.csv')"
   ]
  },
  {
   "cell_type": "code",
   "execution_count": 12,
   "id": "07a29774",
   "metadata": {},
   "outputs": [
    {
     "data": {
      "text/plain": [
       "pyspark.sql.dataframe.DataFrame"
      ]
     },
     "execution_count": 12,
     "metadata": {},
     "output_type": "execute_result"
    }
   ],
   "source": [
    "type(df_pyspark)"
   ]
  },
  {
   "cell_type": "code",
   "execution_count": 13,
   "id": "00aad7d6",
   "metadata": {},
   "outputs": [
    {
     "data": {
      "text/plain": [
       "[Row(_c0='order_date', _c1='UID', _c2='order_no_final', _c3='order_id', _c4='user_id', _c5='booked_device', _c6='id', _c7='order_status', _c8='Line_status', _c9='Product_title', _c10='tax_inclusive_price', _c11='striked_off_price', _c12='original_tax_inclusive_price', _c13='order_quantity', _c14='order_tax', _c15='coupoun_discount', _c16='total', _c17='logical_cp', _c18='total_cp', _c19='logical_markup', _c20='Sku_created_Date', _c21='sku', _c22='sku_type', _c23='SpecialOrder', _c24='brand_type', _c25='Brand', _c26='leaf_category', _c27='category', _c28='c1_category', _c29='stock_status', _c30='is_consumable', _c31='mark_up', _c32='logical_mrp', _c33='logical_list_price', _c34='payment_mode', _c35='reason_cancellation', _c36='OrderconfirmDate', _c37='state', _c38='city', _c39='name', _c40='utm_source', _c41='shipping_charge', _c42='ib_cash_debit', _c43='cod_charge', _c44='bulk_discount', _c45='utm_campaign', _c46='utm_medium', _c47='pincode', _c48='category_env', _c49='order_no', _c50='tax_exclusive_price', _c51='cancellation_date', _c52='modified_by', _c53='cancel_comment', _c54='cancellation_source', _c55='allocated_vendor_code', _c56='allocated_vendor_name', _c57='allocation_mode', _c58='warehouse_code', _c59='logical_seller_code', _c60='logical_seller_name', _c61='custom_label_0', _c62='custom_label_1', _c63='custom_label_2', _c64='custom_label_3', _c65='custom_label_4', _c66='expected_dispatch_date', _c67='expected_delivery_date', _c68='Order_Check_Gstin', _c69='gstin_number', _c70='dealer_code', _c71='dealer_gstno', _c72='dealer_phone', _c73='Shipped_Date', _c74='Delivered_Date', _c75='Returned_Date', _c76='waybill_number', _c77='lsp_id', _c78='LSP_NAME', _c79='total_tax_exclusive_price', _c80='tax_in_percentage', _c81='B_GMV', _c82='tax_excl_incl_ship_cod', _c83='is_grab_order', _c84='grabbed_date', _c85='vendor_cost_price', _c86='tax_excl_price_exclude_coupon', _c87='part_cod_amount', _c88='total_cp_actual', _c89='report_date', _c90='Margin')]"
      ]
     },
     "execution_count": 13,
     "metadata": {},
     "output_type": "execute_result"
    }
   ],
   "source": [
    "df_pyspark.head(1)"
   ]
  },
  {
   "cell_type": "code",
   "execution_count": 14,
   "id": "a2cebac2",
   "metadata": {},
   "outputs": [
    {
     "name": "stdout",
     "output_type": "stream",
     "text": [
      "root\n",
      " |-- _c0: string (nullable = true)\n",
      " |-- _c1: string (nullable = true)\n",
      " |-- _c2: string (nullable = true)\n",
      " |-- _c3: string (nullable = true)\n",
      " |-- _c4: string (nullable = true)\n",
      " |-- _c5: string (nullable = true)\n",
      " |-- _c6: string (nullable = true)\n",
      " |-- _c7: string (nullable = true)\n",
      " |-- _c8: string (nullable = true)\n",
      " |-- _c9: string (nullable = true)\n",
      " |-- _c10: string (nullable = true)\n",
      " |-- _c11: string (nullable = true)\n",
      " |-- _c12: string (nullable = true)\n",
      " |-- _c13: string (nullable = true)\n",
      " |-- _c14: string (nullable = true)\n",
      " |-- _c15: string (nullable = true)\n",
      " |-- _c16: string (nullable = true)\n",
      " |-- _c17: string (nullable = true)\n",
      " |-- _c18: string (nullable = true)\n",
      " |-- _c19: string (nullable = true)\n",
      " |-- _c20: string (nullable = true)\n",
      " |-- _c21: string (nullable = true)\n",
      " |-- _c22: string (nullable = true)\n",
      " |-- _c23: string (nullable = true)\n",
      " |-- _c24: string (nullable = true)\n",
      " |-- _c25: string (nullable = true)\n",
      " |-- _c26: string (nullable = true)\n",
      " |-- _c27: string (nullable = true)\n",
      " |-- _c28: string (nullable = true)\n",
      " |-- _c29: string (nullable = true)\n",
      " |-- _c30: string (nullable = true)\n",
      " |-- _c31: string (nullable = true)\n",
      " |-- _c32: string (nullable = true)\n",
      " |-- _c33: string (nullable = true)\n",
      " |-- _c34: string (nullable = true)\n",
      " |-- _c35: string (nullable = true)\n",
      " |-- _c36: string (nullable = true)\n",
      " |-- _c37: string (nullable = true)\n",
      " |-- _c38: string (nullable = true)\n",
      " |-- _c39: string (nullable = true)\n",
      " |-- _c40: string (nullable = true)\n",
      " |-- _c41: string (nullable = true)\n",
      " |-- _c42: string (nullable = true)\n",
      " |-- _c43: string (nullable = true)\n",
      " |-- _c44: string (nullable = true)\n",
      " |-- _c45: string (nullable = true)\n",
      " |-- _c46: string (nullable = true)\n",
      " |-- _c47: string (nullable = true)\n",
      " |-- _c48: string (nullable = true)\n",
      " |-- _c49: string (nullable = true)\n",
      " |-- _c50: string (nullable = true)\n",
      " |-- _c51: string (nullable = true)\n",
      " |-- _c52: string (nullable = true)\n",
      " |-- _c53: string (nullable = true)\n",
      " |-- _c54: string (nullable = true)\n",
      " |-- _c55: string (nullable = true)\n",
      " |-- _c56: string (nullable = true)\n",
      " |-- _c57: string (nullable = true)\n",
      " |-- _c58: string (nullable = true)\n",
      " |-- _c59: string (nullable = true)\n",
      " |-- _c60: string (nullable = true)\n",
      " |-- _c61: string (nullable = true)\n",
      " |-- _c62: string (nullable = true)\n",
      " |-- _c63: string (nullable = true)\n",
      " |-- _c64: string (nullable = true)\n",
      " |-- _c65: string (nullable = true)\n",
      " |-- _c66: string (nullable = true)\n",
      " |-- _c67: string (nullable = true)\n",
      " |-- _c68: string (nullable = true)\n",
      " |-- _c69: string (nullable = true)\n",
      " |-- _c70: string (nullable = true)\n",
      " |-- _c71: string (nullable = true)\n",
      " |-- _c72: string (nullable = true)\n",
      " |-- _c73: string (nullable = true)\n",
      " |-- _c74: string (nullable = true)\n",
      " |-- _c75: string (nullable = true)\n",
      " |-- _c76: string (nullable = true)\n",
      " |-- _c77: string (nullable = true)\n",
      " |-- _c78: string (nullable = true)\n",
      " |-- _c79: string (nullable = true)\n",
      " |-- _c80: string (nullable = true)\n",
      " |-- _c81: string (nullable = true)\n",
      " |-- _c82: string (nullable = true)\n",
      " |-- _c83: string (nullable = true)\n",
      " |-- _c84: string (nullable = true)\n",
      " |-- _c85: string (nullable = true)\n",
      " |-- _c86: string (nullable = true)\n",
      " |-- _c87: string (nullable = true)\n",
      " |-- _c88: string (nullable = true)\n",
      " |-- _c89: string (nullable = true)\n",
      " |-- _c90: string (nullable = true)\n",
      "\n"
     ]
    }
   ],
   "source": [
    "df_pyspark.printSchema()"
   ]
  },
  {
   "cell_type": "code",
   "execution_count": 15,
   "id": "1adbe4a4",
   "metadata": {},
   "outputs": [
    {
     "data": {
      "text/plain": [
       "DataFrame[order_date: string, UID: string, order_no_final: int, order_id: int, user_id: int, booked_device: string, id: int, order_status: string, Line_status: string, Product_title: string, tax_inclusive_price: string, striked_off_price: double, original_tax_inclusive_price: double, order_quantity: int, order_tax: double, coupoun_discount: double, total: double, logical_cp: double, total_cp: double, logical_markup: double, Sku_created_Date: string, sku: string, sku_type: string, SpecialOrder: string, brand_type: string, Brand: string, leaf_category: string, category: string, c1_category: string, stock_status: string, is_consumable: string, mark_up: string, logical_mrp: double, logical_list_price: double, payment_mode: string, reason_cancellation: string, OrderconfirmDate: string, state: string, city: string, name: string, utm_source: string, shipping_charge: string, ib_cash_debit: int, cod_charge: double, bulk_discount: int, utm_campaign: string, utm_medium: string, pincode: string, category_env: string, order_no: string, tax_exclusive_price: double, cancellation_date: string, modified_by: string, cancel_comment: string, cancellation_source: string, allocated_vendor_code: int, allocated_vendor_name: string, allocation_mode: string, warehouse_code: string, logical_seller_code: string, logical_seller_name: string, custom_label_0: string, custom_label_1: string, custom_label_2: string, custom_label_3: string, custom_label_4: string, expected_dispatch_date: string, expected_delivery_date: string, Order_Check_Gstin: string, gstin_number: string, dealer_code: string, dealer_gstno: string, dealer_phone: bigint, Shipped_Date: string, Delivered_Date: string, Returned_Date: string, waybill_number: string, lsp_id: double, LSP_NAME: string, total_tax_exclusive_price: string, tax_in_percentage: int, B_GMV: double, tax_excl_incl_ship_cod: int, is_grab_order: int, grabbed_date: string, vendor_cost_price: double, tax_excl_price_exclude_coupon: double, part_cod_amount: double, total_cp_actual: double, report_date: string, Margin: string]"
      ]
     },
     "execution_count": 15,
     "metadata": {},
     "output_type": "execute_result"
    }
   ],
   "source": [
    "df_pyspark=spark.read.csv('test.csv', header=True,inferSchema=True)\n",
    "df_pyspark"
   ]
  },
  {
   "cell_type": "code",
   "execution_count": 16,
   "id": "6f0e2fd5",
   "metadata": {},
   "outputs": [],
   "source": [
    "df_pyspark=spark.read.csv('test.csv',header=True, inferSchema=True)"
   ]
  },
  {
   "cell_type": "code",
   "execution_count": 17,
   "id": "6de162fe",
   "metadata": {},
   "outputs": [
    {
     "name": "stdout",
     "output_type": "stream",
     "text": [
      "+----------+--------------------+--------------+--------+-------+-------------+--------+--------------------+-----------+--------------------+-------------------+-----------------+----------------------------+--------------+---------+----------------+-------+----------+--------+--------------+----------------+-----------------+--------------------+------------+----------+----------------+--------------------+--------------------+--------------------+------------+-------------+-------+-----------+------------------+------------+--------------------+----------------+--------------+--------------+--------------------+----------+---------------+-------------+----------+-------------+--------------------+--------------------+-------+--------------+----------+-------------------+-------------------+--------------------+-------------------+-------------------+---------------------+---------------------+---------------+--------------+-------------------+--------------------+--------------------+--------------+--------------------+--------------------+--------------+----------------------+----------------------+-----------------+---------------+-----------+------------+------------+------------+--------------+-------------+--------------+------+-------------------+-------------------------+-----------------+---------+----------------------+-------------+------------+-----------------+-----------------------------+---------------+---------------+-----------+--------+\n",
      "|order_date|                 UID|order_no_final|order_id|user_id|booked_device|      id|        order_status|Line_status|       Product_title|tax_inclusive_price|striked_off_price|original_tax_inclusive_price|order_quantity|order_tax|coupoun_discount|  total|logical_cp|total_cp|logical_markup|Sku_created_Date|              sku|            sku_type|SpecialOrder|brand_type|           Brand|       leaf_category|            category|         c1_category|stock_status|is_consumable|mark_up|logical_mrp|logical_list_price|payment_mode| reason_cancellation|OrderconfirmDate|         state|          city|                name|utm_source|shipping_charge|ib_cash_debit|cod_charge|bulk_discount|        utm_campaign|          utm_medium|pincode|  category_env|  order_no|tax_exclusive_price|  cancellation_date|         modified_by|     cancel_comment|cancellation_source|allocated_vendor_code|allocated_vendor_name|allocation_mode|warehouse_code|logical_seller_code| logical_seller_name|      custom_label_0|custom_label_1|      custom_label_2|      custom_label_3|custom_label_4|expected_dispatch_date|expected_delivery_date|Order_Check_Gstin|   gstin_number|dealer_code|dealer_gstno|dealer_phone|Shipped_Date|Delivered_Date|Returned_Date|waybill_number|lsp_id|           LSP_NAME|total_tax_exclusive_price|tax_in_percentage|    B_GMV|tax_excl_incl_ship_cod|is_grab_order|grabbed_date|vendor_cost_price|tax_excl_price_exclude_coupon|part_cod_amount|total_cp_actual|report_date|  Margin|\n",
      "+----------+--------------------+--------------+--------+-------+-------------+--------+--------------------+-----------+--------------------+-------------------+-----------------+----------------------------+--------------+---------+----------------+-------+----------+--------+--------------+----------------+-----------------+--------------------+------------+----------+----------------+--------------------+--------------------+--------------------+------------+-------------+-------+-----------+------------------+------------+--------------------+----------------+--------------+--------------+--------------------+----------+---------------+-------------+----------+-------------+--------------------+--------------------+-------+--------------+----------+-------------------+-------------------+--------------------+-------------------+-------------------+---------------------+---------------------+---------------+--------------+-------------------+--------------------+--------------------+--------------+--------------------+--------------------+--------------+----------------------+----------------------+-----------------+---------------+-----------+------------+------------+------------+--------------+-------------+--------------+------+-------------------+-------------------------+-----------------+---------+----------------------+-------------+------------+-----------------+-----------------------------+---------------+---------------+-----------+--------+\n",
      "|01-04-2023|1023658188|CLE.IN...|    1023658188|23658188|   null|      android|20534080|           delivered|  delivered|Aristo Wheel Wast...|               2790|          4569.84|                      2790.0|             1|    426.0|             0.0| 2790.0|    1666.0|  1666.0|          null|      04-05-2017| CLE.IND.12522154|Planned Inventory...|       FALSE|  NATIONAL|          aristo|Dustbins and Wast...|            Cleaning|   Waste & Recycling|    in stock|            N|  41.44|       null|              null|         upi|                null|      01-04-2023|   Maharashtra|          Pune|     Yogiraj Chopade|      null|              0|            0|       0.0|            0|                null|                null| 411019|industrybuying|1023658188|          2356.3904|               null|                null|               null|               null|                 null|                 null|            JIT|           HR1|               null|                null|            Cleaning|Plan Inventory|                   0|      Plan Inventory|     Marketing|            02-04-2023|            07-04-2023|              YES|27AABCW5970D1Z8|       null|        null|        null|  02-04-2023|    05-04-2023|         null|     234047203| 172.0|      Delhivery B2B|                     2364|               18|   2790.0|                  2364|         null|        null|             null|                   2364.40678|            0.0|         1666.0| 06-04-2023|    4030|\n",
      "|01-04-2023|1023678514|FAS.SE...|    1023678514|23678514|5081506|      android|20545228|   partially_shipped|    shipped|Agarwal Fastners ...|                448|            448.0|                       448.0|             1|     68.0|             0.0|  448.0|     289.0|   289.0|          null|      23-08-2021| FAS.SET.64648835|     MarketPlace SKU|       FALSE|  NATIONAL|agarwal fastners|          Set Screws|           Fasteners|          Set Screws|    in stock|            Y|  33.33|       null|              null|         upi|                null|      01-04-2023|     Telangana|   Karim Nagar|       Satyanarayana|      null|              0|            0|       0.0|            0|                null|                null| 505001|industrybuying|1023678514|           385.3237|               null|                null|               null|               null|                 2177| AB INDUSTRIAL SUP...|             MP|          null|               null|                null|           Fasteners|        Non PL|        Longtail New|    Non PL Fasteners|     Marketing|            06-04-2023|            10-04-2023|               NO|           null|       null|        null|        null|  04-04-2023|          null|         null|    1.4299E+13|  29.0|         Xpressbees|                      380|               18|    448.0|                   380|            0|        null|            289.0|                  379.6610169|            0.0|          289.0| 06-04-2023|     669|\n",
      "|01-04-2023|1023675209|IND.TI...|    1023675209|23675209|5029385|       Mobile|20543164|    shipped_complete|    shipped|Multispan 96 x 96...|            1697.78|           1755.0|                    1697.784|             1|  258.784|             0.0|1697.78|    1000.0|  1000.0|         43.88|      18-08-2017| IND.TIM.14954290|     MarketPlace SKU|       FALSE|     LOCAL|       multispan|              Timers|Industrial Automa...|              Timers|    in stock|            N|  49.25|        0.0|            1755.0| credit_card|                null|      01-04-2023|    Tamil Nadu|         HOSUR|       Ramanujan K S|    Direct|              0|            0|       0.0|            0|                null|                null| 635109|industrybuying|1023675209|             1492.5|               null|                null|               null|               null|                29894|     Dhruv Enterprise|             MP|          null|               null|                null|Industrial Automa...|        Non PL|Medium GMV x High...|Non PL Industrial...|     Marketing|            02-04-2023|            07-04-2023|              YES|33AADVL7592E1ZG|       null|        null|        null|  05-04-2023|          null|         null|   3.23296E+11| 136.0|        Amazon ship|                     1439|               18|  1697.78|                  1439|            0|        null|           1000.0|                   1438.79661|            0.0|         1000.0| 06-04-2023|    2439|\n",
      "|01-04-2023|1023654716|LA.LA....|    1023654716|23654716| 769915|  Android App|20531876|             shipped|    shipped|Scientech SE-224 ...|               4980|           5500.0|                      5480.0|             1|    836.0|           500.0| 4980.0|    3465.0|  3465.0|          null|      21-07-2016| LA.LA.GE.1561022|     MarketPlace SKU|       FALSE|     LOCAL|       scientech|General Laborator...|        Lab Supplies|Laboratory Equipm...|    in stock|            N|  36.99|       null|              null| credit_card|                null|      01-04-2023|        Kerala|         adoor|           Principal|      null|              0|            0|       0.0|            0|                null|                null| 689501|industrybuying|1023654716|          4746.7035|               null|                null|               null|               null|                 5722| M/.s SCIENCE ENTE...|             MP|          null|               null|                null|        Lab Supplies|        Non PL|No GMV x No Order...| Non PL Lab Supplies|     Marketing|            03-04-2023|            08-04-2023|               NO|           null|       null|        null|        null|  01-04-2023|          null|         null|   1.77173E+13| 196.0|IMPL_Delhivery_10KG|                     4644|               18|   4980.0|                  4644|            0|        null|           3465.0|                  4220.338983|            0.0|         3465.0| 06-04-2023|    8109|\n",
      "|30-03-2023|1023602107|OFF.OF...|    1023602107|23602107|   null|      Desktop|20505595|           delivered|  delivered|Stolica Leatherit...|            5188.37|          6186.44|                   5188.3657|             1| 791.3656|             0.0|5188.37|    3300.0|  3300.0|         33.24|      28-03-2022| OFF.OFF.25841482|     MarketPlace SKU|       FALSE|  NATIONAL|         stolica|       Office Chairs|     Office Supplies|    Office Furniture|    in stock|            N|  36.99|       null|           6186.44|        neft|                null|      01-04-2023|   Maharashtra|          Pune|    Pushkar Indulkar|    Google|              0|            0|       0.0|            0|PLAPMAX_BR_Plan_I...|                 PLA| 411007|industrybuying|1023602107|            4520.67|               null|                null|               null|               null|                36086|    Dicor seating LLP|             MP|          null|               null|                null|     Office Supplies|        Non PL|        Longtail New|Non PL Office Sup...|     Marketing|            02-04-2023|            07-04-2023|              YES|27AAPPI3486F1ZE|       null|        null|        null|  01-04-2023|    04-04-2023|         null|    1.4299E+13|  29.0|         Xpressbees|                     4397|               18|  5188.37|                  4397|            0|        null|           3300.0|                  4396.923729|            0.0|         3300.0| 06-04-2023|    7697|\n",
      "|01-04-2023|1023657335|PNE.AI...|    1023657335|23657335|  52236|  Android App|20533362|           delivered|  delivered|Powerhouse 51mm 2...|            6524.18|         5528.966|                   6524.1797|             1| 995.1796|             0.0|6524.18|    3383.7|  3383.7|          63.4|      15-11-2021| PNE.AIR.95302537|   Private Label SKU|       FALSE|   PRIVATE|      powerhouse|Portable Air Comp...|Hydraulics and Pn...|Air Compressors a...|    in stock|            N|   63.4|        0.0|               0.0|         cod|                null|      01-04-2023|   Maharashtra|          Pune|      rahul mirajkar|    Google|              0|            0|     149.0|            0|PLAPMAX_Lab_Supplies|                 PLA| 411033|industrybuying|1023657335|          5528.9658|               null|                null|               null|               null|                 null|                 null|            JIT|           HR1|               null|                null|          Pneumatics|     pvt_label|              PL New|       PL Pneumatics|     Marketing|            02-04-2023|            07-04-2023|               NO|           null|       null|        null|        null|  02-04-2023|    06-04-2023|         null|   1.77173E+13| 196.0|IMPL_Delhivery_10KG|                     5529|               18|  6673.18|                  5529|         null|        null|             null|                  5528.966102|            0.0|         3383.7| 06-04-2023|  8912.7|\n",
      "|01-04-2023|1023678607|PNE.ST...|    1023678607|23678607|5081281|  Android App|20545283|    shipped_complete|  cancelled|Aeroflex MA 25 St...|              997.1|           1040.0|                       997.1|             1|    152.1|             0.0|  997.1|     676.0|   676.0|          25.0|      30-09-2022| PNE.STA.57024731|     MarketPlace SKU|       FALSE|     LOCAL|        aeroflex| Pneumatic Cylinders|Hydraulics and Pn...|Pneumatic System ...|out of stock|            N|  28.21|       null|            1040.0|         cod|It's brought by l...|      01-04-2023|   West Bengal|        Howrah| Prodip Kumar Mandal|  firebase|              0|            0|   33.1762|            0|PLAPMAX_Hydraulic...|                 PLA| 711112|industrybuying|1023678607|               null|2023-04-02T10:24:19|72d6018a-2f79-4e7...|Funds Not Available|               USER|                 null|                 null|           NONE|          null|               null|                null|                null|        Non PL|        Longtail New|   Non PL Pneumatics|     Marketing|                  null|                  null|               NO|           null|       null|        null|        null|        null|          null|         null|          null|  null|               null|                      845|               18|1030.2762|                   845|            0|        null|             null|                        845.0|            0.0|          676.0| 06-04-2023|    1521|\n",
      "|01-04-2023|1023685520|SA.SA....|    1023685520|23685520|4992243|  Android App|20548755|           delivered|  delivered|SS & WW MAKE Oran...|            1663.24|           1620.0|                   1663.2378|            36|  79.2378|             0.0|1663.24|      30.0|  1080.0|         46.67|      05-11-2016| SA.SA.CO.1639574|     MarketPlace SKU|       FALSE|     LOCAL|      sai safety|       Coated Gloves|              Safety|       Safety Gloves|    in stock|            Y|  51.52|       null|              45.0|         cod|                null|      01-04-2023| Uttar Pradesh|      Azamgarh|Musheer haider Sayed|    Google|              0|            0|      69.0|            0|GDNM_Product_Viewers|                 GDN| 276204|industrybuying|1023685520|             45.456|               null|                null|               null|               null|                 7306| Sai Safety And Wo...|             MP|          null|               null|                null|              Safety|        Non PL|       Non PL Safety|    C1 Safety Gloves|     Marketing|            02-04-2023|            06-04-2023|               NO|           null|       null|        null|        null|  04-04-2023|    06-04-2023|         null|    1.4299E+13|  29.0|         Xpressbees|                     1584|                5|  1732.24|                  1584|            0|        null|             30.0|                  1584.038095|            0.0|         1080.0| 06-04-2023|    2664|\n",
      "|01-04-2023|1023662051|SAF.SA...|    1023662051|23662051|4976143|  Android App|20535252|           cancelled|  cancelled|Hillson Swag 1903...|                745|         832.5111|                       828.0|             1|     89.0|            83.0|  745.0|     588.0|   588.0|          null|      09-01-2023| SAF.SAF.27783011|     MarketPlace SKU|       FALSE|  NATIONAL|         hillson|        Safety Shoes|              Safety|        Safety Shoes|    in stock|            N|  26.58|       null|              null| credit_card|       I need size 8|      01-04-2023|     Telangana|       Kadthal|      ramesh gaddala|      null|             59|            0|       0.0|            0|                null|                null| 501359|industrybuying|1023662051|           744.2904|2023-04-01T13:25:08|rameshgaddala04@g...|Funds Not Available|               USER|                38601| C.M. PIAREY LAL A...|             MP|          null|               null|                null|                null|        Non PL|        Longtail New|     C1 Safety Shoes|     Marketing|            05-04-2023|            10-04-2023|               NO|           null|       null|        null|        null|        null|          null|         null|          null|  null|               null|                      739|               12|    804.0|                   739|            0|        null|            588.0|                  665.1785714|            0.0|          588.0| 06-04-2023|    1327|\n",
      "|01-04-2023|1023665676|SOL.PE...|    1023665676|23665676| 664612|  Android App|20536901|             shipped|    shipped|Luminous 445W 24V...|              39300|          39800.0|                     39800.0|             2|   4264.0|           500.0|39300.0|   14910.0| 29820.0|          null|      16-09-2022| SOL.PER.76921305|Planned Inventory...|       FALSE|  NATIONAL|        luminous|Mono PERC Solar P...|               Solar|        Solar Panels|    in stock|            N|  19.16|       null|              null|         upi|                null|      01-04-2023|        Kerala|Pathanamthitta|             Anish.S|      null|              0|            0|       0.0|            0|                null|                null| 689647|industrybuying|1023665676|          17766.756|               null|                null|               null|               null|                 null|                 null|            JIT|           HR1|               null|                null|                null|Plan Inventory|        Longtail New|      Plan Inventory|     Marketing|            02-04-2023|            07-04-2023|               NO|           null|       null|        null|        null|  03-04-2023|          null|         null|     235448423| 172.0|      Delhivery B2B|                    35536|               12|  39300.0|                 35536|         null|        null|             null|                  35089.28571|            0.0|        29820.0| 06-04-2023|   65356|\n",
      "|01-04-2023|1023660195|TOO.HA...|    1023660195|23660195| 469277|  Android App|20534724|    shipped_complete|    shipped|Taparia High Spee...|             286.33|            315.0|                    286.3261|             5|  43.3261|             0.0| 286.33|     40.95|  204.75|         18.51|      09-07-2020| TOO.HAC.32728303|     MarketPlace SKU|       FALSE|  NATIONAL|         taparia|      Hacksaw Blades| Tooling and Cutting|      Cutting Blades|    in stock|            Y|  21.95|        0.0|              63.0|         cod|                null|      01-04-2023|  Chhattisgarh|      dhamtari|   Devendra Rajpuria|  WhatsApp|           34.5|            0|   27.5569|            0|atc_drop_multiple...|                Tech| 493773|industrybuying|1023660195|          49.938525|               null|                null|               null|               null|                23050| 3S ENGINEERING CO...|             MP|          null|               null|                null| Tooling and Cutting|      noorders|                 nan|      Non PL Tooling|     Marketing|            05-04-2023|            10-04-2023|               NO|           null|       null|        null|        null|  04-04-2023|          null|         null|    1.4299E+13|  29.0|         Xpressbees|                      243|               18| 348.3869|                   243|            0|        null|            40.95|                  242.6525424|            0.0|         204.75| 06-04-2023|  447.75|\n",
      "|01-04-2023|1023674605|ELE.FL...|    1023674605|23674605|4818476|  Android App|20542753|    shipped_complete|    shipped|Kalinga Gold 2.5 ...|            2484.25|         4313.559|                      2760.0|             2|    421.0|          275.75|2484.25|     661.7|  1323.4|          null|      04-12-2020|ELE.FLA.102859482|Planned Inventory...|       FALSE|  NATIONAL|         kalinga|Flame Retardant (...|          Electrical|    Cables and Wires|    in stock|            N|  69.49|       null|              null|         upi|                null|      01-04-2023|  Chhattisgarh|          Durg|   Akhilesh Parashar|      null|              0|            0|       0.0|            0|                null|                null| 491001|industrybuying|1023674605|         1121.51533|               null|                null|               null|               null|                 null|                 null|            JIT|           HR1|               null|                null|          Electrical|Plan Inventory|BR Plan Inventory...|      Plan Inventory|     Marketing|            02-04-2023|            07-04-2023|              YES|22DXKPS8924K1ZT|       null|        null|        null|  02-04-2023|          null|         null|    1.4299E+14|  29.0|         Xpressbees|                     2339|               18|  2484.25|                  2339|         null|        null|             null|                   2105.29661|            0.0|         1323.4| 06-04-2023|  3662.4|\n",
      "|01-04-2023|1023667271|SAF.SA...|    1023667271|23667271|   null|       Mobile|20537764|shipped_and_returned|        RTO|Safari Gumboot an...|                568|            568.0|                       568.0|             1|     61.0|             0.0|  568.0|     375.0|   375.0|         35.14|      04-08-2017| SAF.SAF.13827504|     MarketPlace SKU|       FALSE|  NATIONAL|          safari|        Safety Shoes|              Safety|        Safety Shoes|    in stock|            N|  35.14|       null|              null|         cod|                null|      01-04-2023|   Uttaranchal|    Uttarkashi|   Shashwat bhandari|   Organic|             59|            0|      39.0|            0|                null|https://www.googl...| 249193|industrybuying|1023667271|            506.775|               null|                null|               null|               null|                  657| M/S SOURCE INDIA ...|             MP|          null|                657|M/S SOURCE INDIA ...|              Safety|        Non PL|       Non PL Safety|     C1 Safety Shoes|     Marketing|            02-04-2023|            06-04-2023|               NO|           null|       null|        null|        null|  01-04-2023|          null|   05-04-2023|   1.77169E+13| 194.0| IMPL_Delhivery_3KG|                      507|               12|    666.0|                   507|            0|        null|            375.0|                  507.1428571|            0.0|          375.0| 06-04-2023|     882|\n",
      "|01-04-2023|1023673784|SAF.SA...|    1023673784|23673784|   null|       Mobile|20542146|             shipped|    shipped|Safari Gumboot an...|                438|            438.0|                       438.0|             1|     47.0|             0.0|  438.0|     320.0|   320.0|         21.17|      04-08-2017| SAF.SAF.19827466|     MarketPlace SKU|       FALSE|  NATIONAL|          safari|        Safety Shoes|              Safety|        Safety Shoes|    in stock|            N|  21.17|       null|             401.2| credit_card|                null|      01-04-2023|         Assam|     Karimganj|        Pranab borah|    Google|             69|            0|       0.0|            0|PLAPMAX_C1_Safety...|                 PLA| 788710|industrybuying|1023673784|            387.744|               null|                null|               null|               null|                  657| M/S SOURCE INDIA ...|             MP|          null|                657|M/S SOURCE INDIA ...|              Safety|        Non PL|       Non PL Safety|     C1 Safety Shoes|     Marketing|            06-04-2023|            11-04-2023|               NO|           null|       null|        null|        null|  04-04-2023|          null|         null|    1.4299E+13|  29.0|         Xpressbees|                      391|               12|    507.0|                   391|            0|        null|            320.0|                  391.0714286|            0.0|          320.0| 06-04-2023|     711|\n",
      "|01-04-2023|1023682505|HA.HA0...|    1023682505|23682505|5078643|      Desktop|20547195|              packed|  confirmed|Yato YT-8006 Axe ...|               9900|           9900.0|                      9900.0|             5|   1510.0|             0.0| 9900.0|   1392.11| 6960.55|         18.69|      12-03-2016|    HA.HA0.750207|     MarketPlace SKU|       FALSE|  NATIONAL|            yato|  Hammer Accessories|          Hand Tools|             Hammers|    in stock|            N|  21.95|        0.0|            1907.0| credit_card|                null|      01-04-2023|Madhya Pradesh|        Indore|BMR Wildlife Serv...|    Google|              0|            0|       0.0|            0|  PLAPMAX_Hand_Tools|                 PLA| 452011|industrybuying|1023682505|        1697.678145|               null|                null|               null|               null|                  745|    Aron Technologies|             MP|          null|                745|   Aron Technologies|          Hand Tools|        Non PL|Low GMV x Low Ord...|   Non PL Hand Tools|     Marketing|            06-04-2023|            11-04-2023|              YES|23AAWFB3652M1Z0|       null|        null|        null|        null|          null|         null|          null|  null|               null|                     8390|               18|   9900.0|                  8390|            0|        null|          1392.11|                  8389.830508|            0.0|        6960.55| 06-04-2023|15350.55|\n",
      "|01-04-2023|1023666931|HAN.SC...|    1023666931|23666931|2093907|  Android App|20537585|                 cod|  confirmed|Yato YT-2827 Insu...|                838|            943.0|                       838.0|             1|    128.0|             0.0|  838.0|    549.07|  549.07|         28.24|      30-07-2022| HAN.SCR.66635398|     MarketPlace SKU|       FALSE|  NATIONAL|            yato|     Screwdriver Set|          Hand Tools|Screwdriver & Nut...|    in stock|            N|  29.87|       null|             943.0|         cod|                null|      01-04-2023|        Kerala|        KOLLAM|               manoj|    Google|              0|            0|      69.0|            0|PLAPMAX_Private_L...|                 PLA| 691019|industrybuying|1023666931|         713.077209|               null|                null|               null|               null|                  745|    Aron Technologies|             MP|          null|                745|   Aron Technologies|                null|        Non PL|        Longtail New|   Non PL Hand Tools|     Marketing|            06-04-2023|            11-04-2023|               NO|           null|       null|        null|        null|        null|          null|         null|          null|  null|               null|                      710|               18|    907.0|                   710|            0|        null|           549.07|                  710.1694915|            0.0|         549.07| 06-04-2023| 1259.07|\n",
      "|01-04-2023|1023657838|LUB.BU...|    1023657838|23657838|  52236|  Android App|20533810|           cancelled|  cancelled|Yato Oil Transfer...|               1380|           1380.0|                      1380.0|             1|    211.0|             0.0| 1380.0|    970.56|  970.56|         14.94|      27-02-2023| LUB.BUC.98169421|     MarketPlace SKU|       FALSE|  NATIONAL|            yato|     Bucket Oil Pump| Lubricants and Oils|Fuel & Oil Transf...|    in stock|            N|  17.65|        0.0|            1348.0|         cod|            too dily|      01-04-2023|   Maharashtra|          Pune|      rahul mirajkar|    Google|              0|            0|      69.0|            0|PLAPMAX_Lab_Supplies|                 PLA| 411033|industrybuying|1023657838|         1141.86384|2023-04-05T21:18:26|               52236|  Delay In Delivery|               USER|                  745|    Aron Technologies|             MP|          null|                745|   Aron Technologies|                null|           NEW|                 NEW|New Launch Februa...|     Marketing|            05-04-2023|            10-04-2023|               NO|           null|       null|        null|        null|        null|          null|         null|          null|  null|               null|                     1169|               18|   1449.0|                  1169|            0|        null|           970.56|                  1169.491525|            0.0|         970.56| 06-04-2023| 2139.56|\n",
      "|01-04-2023|1023663516|LUB.OI...|    1023663516|23663516| 993601|  Android App|20535779|           cancelled|  cancelled|Yato Oil Can With...|                388|            395.0|                       388.0|             1|     59.0|             0.0|  388.0|     284.4|   284.4|         14.94|      27-02-2023| LUB.OIL.98169923|     MarketPlace SKU|       FALSE|  NATIONAL|            yato|            Oil cans| Lubricants and Oils|            Oil cans|    in stock|            N|  16.28|        0.0|             395.0|         cod|                 yes|      01-04-2023| Uttar Pradesh|         Rasra|Satya narayan sharma|    Direct|             59|            0|      39.0|            0|                null|                null| 221716|industrybuying|1023663516|          330.70032|2023-04-01T08:49:12|satyaasharma989@g...|  Delay In Delivery|               USER|                  745|    Aron Technologies|             MP|          null|                745|   Aron Technologies|                null|           NEW|                 NEW|New Launch Februa...|     Marketing|            05-04-2023|            09-04-2023|               NO|           null|       null|        null|        null|        null|          null|         null|          null|  null|               null|                      329|               18|    486.0|                   329|            0|        null|            284.4|                  328.8135593|            0.0|          284.4| 06-04-2023|   613.4|\n",
      "|01-04-2023|1023657550|ELE.HE...|    1023657550|23657550|4912245|      Desktop|20533567|   partially_shipped|  confirmed|Yato Heat Shrink ...|                268|            269.0|                       268.0|             1|     41.0|             0.0|  268.0|    193.68|  193.68|         14.94|      23-02-2023|ELE.HEA.108135108|     MarketPlace SKU|       FALSE|  NATIONAL|            yato|   Heat Shrink Tubes|Electronics & Rob...|       Interconnects|    in stock|            N|  17.65|        0.0|             269.0|         cod|                null|      01-04-2023|   West Bengal|       Birbhum|Dr. Sushil Bhatta...|     Email|              0|            0|    7.3537|            0|BE_31_03_23-Top_L...|           Broadcast| 731302|industrybuying|1023657550|          227.86452|               null|                null|               null|               null|                  745|    Aron Technologies|             MP|          null|                745|   Aron Technologies|                null|           NEW|                 NEW|New Launch Februa...|     Marketing|            05-04-2023|            10-04-2023|               NO|           null|       null|        null|        null|        null|          null|         null|          null|  null|               null|                      227|               18| 275.3537|                   227|            0|        null|           193.68|                  227.1186441|            0.0|         193.68| 06-04-2023|  420.68|\n",
      "|01-04-2023|1023657270|PU.MO....|    1023657270|23657270|5074727|       Mobile|20533295|           intransit|    shipped|Kirloskar Jalraj ...|               4990|           4990.0|                      4990.0|             1|    761.0|             0.0| 4990.0|    3800.0|  3800.0|         14.13|      19-05-2015|     PU.MO.286380|     MarketPlace SKU|       FALSE|  NATIONAL|       kirloskar|Domestic Monobloc...|               Pumps|         Water Pumps|    in stock|            N|  14.13|        0.0|           4528.13|         upi|                null|      01-04-2023|           Goa|     Sanvordem|   Dr. Nidhi Marathe|    Google|              0|            0|       0.0|            0|PLAPMAX_BR_Plan_I...|                 PLA| 403704|industrybuying|1023657270|            4336.94|               null|                null|               null|               null|                 null|                 null|            JIT|           HR1|                788|  Motor Sales Agency|               Pumps|Plan Inventory|BR Plan Inventory...|      Plan Inventory|     Marketing|            01-04-2023|            06-04-2023|               NO|           null|       null|        null|        null|  02-04-2023|          null|         null|   1.77173E+13| 196.0|IMPL_Delhivery_10KG|                     4229|               18|   4990.0|                  4229|         null|        null|             null|                  4228.813559|            0.0|         3800.0| 06-04-2023|    8029|\n",
      "+----------+--------------------+--------------+--------+-------+-------------+--------+--------------------+-----------+--------------------+-------------------+-----------------+----------------------------+--------------+---------+----------------+-------+----------+--------+--------------+----------------+-----------------+--------------------+------------+----------+----------------+--------------------+--------------------+--------------------+------------+-------------+-------+-----------+------------------+------------+--------------------+----------------+--------------+--------------+--------------------+----------+---------------+-------------+----------+-------------+--------------------+--------------------+-------+--------------+----------+-------------------+-------------------+--------------------+-------------------+-------------------+---------------------+---------------------+---------------+--------------+-------------------+--------------------+--------------------+--------------+--------------------+--------------------+--------------+----------------------+----------------------+-----------------+---------------+-----------+------------+------------+------------+--------------+-------------+--------------+------+-------------------+-------------------------+-----------------+---------+----------------------+-------------+------------+-----------------+-----------------------------+---------------+---------------+-----------+--------+\n",
      "only showing top 20 rows\n",
      "\n"
     ]
    }
   ],
   "source": [
    "df_pyspark.show()"
   ]
  },
  {
   "cell_type": "code",
   "execution_count": 18,
   "id": "b64f0a5a",
   "metadata": {},
   "outputs": [
    {
     "data": {
      "text/plain": [
       "pyspark.sql.dataframe.DataFrame"
      ]
     },
     "execution_count": 18,
     "metadata": {},
     "output_type": "execute_result"
    }
   ],
   "source": [
    "type(df_pyspark)"
   ]
  },
  {
   "cell_type": "code",
   "execution_count": 19,
   "id": "ebe0a1fa",
   "metadata": {},
   "outputs": [
    {
     "data": {
      "text/plain": [
       "['order_date',\n",
       " 'UID',\n",
       " 'order_no_final',\n",
       " 'order_id',\n",
       " 'user_id',\n",
       " 'booked_device',\n",
       " 'id',\n",
       " 'order_status',\n",
       " 'Line_status',\n",
       " 'Product_title',\n",
       " 'tax_inclusive_price',\n",
       " 'striked_off_price',\n",
       " 'original_tax_inclusive_price',\n",
       " 'order_quantity',\n",
       " 'order_tax',\n",
       " 'coupoun_discount',\n",
       " 'total',\n",
       " 'logical_cp',\n",
       " 'total_cp',\n",
       " 'logical_markup',\n",
       " 'Sku_created_Date',\n",
       " 'sku',\n",
       " 'sku_type',\n",
       " 'SpecialOrder',\n",
       " 'brand_type',\n",
       " 'Brand',\n",
       " 'leaf_category',\n",
       " 'category',\n",
       " 'c1_category',\n",
       " 'stock_status',\n",
       " 'is_consumable',\n",
       " 'mark_up',\n",
       " 'logical_mrp',\n",
       " 'logical_list_price',\n",
       " 'payment_mode',\n",
       " 'reason_cancellation',\n",
       " 'OrderconfirmDate',\n",
       " 'state',\n",
       " 'city',\n",
       " 'name',\n",
       " 'utm_source',\n",
       " 'shipping_charge',\n",
       " 'ib_cash_debit',\n",
       " 'cod_charge',\n",
       " 'bulk_discount',\n",
       " 'utm_campaign',\n",
       " 'utm_medium',\n",
       " 'pincode',\n",
       " 'category_env',\n",
       " 'order_no',\n",
       " 'tax_exclusive_price',\n",
       " 'cancellation_date',\n",
       " 'modified_by',\n",
       " 'cancel_comment',\n",
       " 'cancellation_source',\n",
       " 'allocated_vendor_code',\n",
       " 'allocated_vendor_name',\n",
       " 'allocation_mode',\n",
       " 'warehouse_code',\n",
       " 'logical_seller_code',\n",
       " 'logical_seller_name',\n",
       " 'custom_label_0',\n",
       " 'custom_label_1',\n",
       " 'custom_label_2',\n",
       " 'custom_label_3',\n",
       " 'custom_label_4',\n",
       " 'expected_dispatch_date',\n",
       " 'expected_delivery_date',\n",
       " 'Order_Check_Gstin',\n",
       " 'gstin_number',\n",
       " 'dealer_code',\n",
       " 'dealer_gstno',\n",
       " 'dealer_phone',\n",
       " 'Shipped_Date',\n",
       " 'Delivered_Date',\n",
       " 'Returned_Date',\n",
       " 'waybill_number',\n",
       " 'lsp_id',\n",
       " 'LSP_NAME',\n",
       " 'total_tax_exclusive_price',\n",
       " 'tax_in_percentage',\n",
       " 'B_GMV',\n",
       " 'tax_excl_incl_ship_cod',\n",
       " 'is_grab_order',\n",
       " 'grabbed_date',\n",
       " 'vendor_cost_price',\n",
       " 'tax_excl_price_exclude_coupon',\n",
       " 'part_cod_amount',\n",
       " 'total_cp_actual',\n",
       " 'report_date',\n",
       " 'Margin']"
      ]
     },
     "execution_count": 19,
     "metadata": {},
     "output_type": "execute_result"
    }
   ],
   "source": [
    "df_pyspark.columns"
   ]
  },
  {
   "cell_type": "code",
   "execution_count": 20,
   "id": "9cbbfe01",
   "metadata": {},
   "outputs": [
    {
     "data": {
      "text/plain": [
       "[Row(order_date='01-04-2023', UID='1023658188|CLE.IND.12522154', order_no_final=1023658188, order_id=23658188, user_id=None, booked_device='android', id=20534080, order_status='delivered', Line_status='delivered', Product_title='Aristo Wheel Waste Bin 120Ltr With Pedal Grey', tax_inclusive_price='2790', striked_off_price=4569.84, original_tax_inclusive_price=2790.0, order_quantity=1, order_tax=426.0, coupoun_discount=0.0, total=2790.0, logical_cp=1666.0, total_cp=1666.0, logical_markup=None, Sku_created_Date='04-05-2017', sku='CLE.IND.12522154', sku_type='Planned Inventory SKU', SpecialOrder='FALSE', brand_type='NATIONAL', Brand='aristo', leaf_category='Dustbins and Waste bins', category='Cleaning', c1_category='Waste & Recycling', stock_status='in stock', is_consumable='N', mark_up='41.44', logical_mrp=None, logical_list_price=None, payment_mode='upi', reason_cancellation=None, OrderconfirmDate='01-04-2023', state='Maharashtra', city='Pune', name='Yogiraj Chopade', utm_source=None, shipping_charge='0', ib_cash_debit=0, cod_charge=0.0, bulk_discount=0, utm_campaign=None, utm_medium=None, pincode='411019', category_env='industrybuying', order_no='1023658188', tax_exclusive_price=2356.3904, cancellation_date=None, modified_by=None, cancel_comment=None, cancellation_source=None, allocated_vendor_code=None, allocated_vendor_name=None, allocation_mode='JIT', warehouse_code='HR1', logical_seller_code=None, logical_seller_name=None, custom_label_0='Cleaning', custom_label_1='Plan Inventory', custom_label_2='0', custom_label_3='Plan Inventory', custom_label_4='Marketing', expected_dispatch_date='02-04-2023', expected_delivery_date='07-04-2023', Order_Check_Gstin='YES', gstin_number='27AABCW5970D1Z8', dealer_code=None, dealer_gstno=None, dealer_phone=None, Shipped_Date='02-04-2023', Delivered_Date='05-04-2023', Returned_Date=None, waybill_number='234047203', lsp_id=172.0, LSP_NAME='Delhivery B2B', total_tax_exclusive_price='2364', tax_in_percentage=18, B_GMV=2790.0, tax_excl_incl_ship_cod=2364, is_grab_order=None, grabbed_date=None, vendor_cost_price=None, tax_excl_price_exclude_coupon=2364.40678, part_cod_amount=0.0, total_cp_actual=1666.0, report_date='06-04-2023', Margin='4030')]"
      ]
     },
     "execution_count": 20,
     "metadata": {},
     "output_type": "execute_result"
    }
   ],
   "source": [
    "df_pyspark.head(1)"
   ]
  },
  {
   "cell_type": "code",
   "execution_count": 21,
   "id": "b9954da9",
   "metadata": {},
   "outputs": [
    {
     "data": {
      "text/plain": [
       "DataFrame[Name: string]"
      ]
     },
     "execution_count": 21,
     "metadata": {},
     "output_type": "execute_result"
    }
   ],
   "source": [
    "df_pyspark.select('Name') # for selecting specific column"
   ]
  },
  {
   "cell_type": "code",
   "execution_count": 22,
   "id": "d917e937",
   "metadata": {},
   "outputs": [
    {
     "name": "stdout",
     "output_type": "stream",
     "text": [
      "+--------------------+\n",
      "|                Name|\n",
      "+--------------------+\n",
      "|     Yogiraj Chopade|\n",
      "|       Satyanarayana|\n",
      "|       Ramanujan K S|\n",
      "|           Principal|\n",
      "|    Pushkar Indulkar|\n",
      "|      rahul mirajkar|\n",
      "| Prodip Kumar Mandal|\n",
      "|Musheer haider Sayed|\n",
      "|      ramesh gaddala|\n",
      "|             Anish.S|\n",
      "|   Devendra Rajpuria|\n",
      "|   Akhilesh Parashar|\n",
      "|   Shashwat bhandari|\n",
      "|        Pranab borah|\n",
      "|BMR Wildlife Serv...|\n",
      "|               manoj|\n",
      "|      rahul mirajkar|\n",
      "|Satya narayan sharma|\n",
      "|Dr. Sushil Bhatta...|\n",
      "|   Dr. Nidhi Marathe|\n",
      "+--------------------+\n",
      "only showing top 20 rows\n",
      "\n"
     ]
    }
   ],
   "source": [
    "df_pyspark.select('Name').show() #for 1 element "
   ]
  },
  {
   "cell_type": "code",
   "execution_count": 23,
   "id": "bb1f5889",
   "metadata": {},
   "outputs": [
    {
     "name": "stdout",
     "output_type": "stream",
     "text": [
      "+--------------------+---------+\n",
      "|                Name|    B_GMV|\n",
      "+--------------------+---------+\n",
      "|     Yogiraj Chopade|   2790.0|\n",
      "|       Satyanarayana|    448.0|\n",
      "|       Ramanujan K S|  1697.78|\n",
      "|           Principal|   4980.0|\n",
      "|    Pushkar Indulkar|  5188.37|\n",
      "|      rahul mirajkar|  6673.18|\n",
      "| Prodip Kumar Mandal|1030.2762|\n",
      "|Musheer haider Sayed|  1732.24|\n",
      "|      ramesh gaddala|    804.0|\n",
      "|             Anish.S|  39300.0|\n",
      "|   Devendra Rajpuria| 348.3869|\n",
      "|   Akhilesh Parashar|  2484.25|\n",
      "|   Shashwat bhandari|    666.0|\n",
      "|        Pranab borah|    507.0|\n",
      "|BMR Wildlife Serv...|   9900.0|\n",
      "|               manoj|    907.0|\n",
      "|      rahul mirajkar|   1449.0|\n",
      "|Satya narayan sharma|    486.0|\n",
      "|Dr. Sushil Bhatta...| 275.3537|\n",
      "|   Dr. Nidhi Marathe|   4990.0|\n",
      "+--------------------+---------+\n",
      "only showing top 20 rows\n",
      "\n"
     ]
    }
   ],
   "source": [
    "df_pyspark.select('Name','B_GMV').show() ##for 2 element "
   ]
  },
  {
   "cell_type": "code",
   "execution_count": 24,
   "id": "b8dbd392",
   "metadata": {},
   "outputs": [
    {
     "name": "stdout",
     "output_type": "stream",
     "text": [
      "+--------------------+---------+------------+\n",
      "|                Name|    B_GMV|payment_mode|\n",
      "+--------------------+---------+------------+\n",
      "|     Yogiraj Chopade|   2790.0|         upi|\n",
      "|       Satyanarayana|    448.0|         upi|\n",
      "|       Ramanujan K S|  1697.78| credit_card|\n",
      "|           Principal|   4980.0| credit_card|\n",
      "|    Pushkar Indulkar|  5188.37|        neft|\n",
      "|      rahul mirajkar|  6673.18|         cod|\n",
      "| Prodip Kumar Mandal|1030.2762|         cod|\n",
      "|Musheer haider Sayed|  1732.24|         cod|\n",
      "|      ramesh gaddala|    804.0| credit_card|\n",
      "|             Anish.S|  39300.0|         upi|\n",
      "|   Devendra Rajpuria| 348.3869|         cod|\n",
      "|   Akhilesh Parashar|  2484.25|         upi|\n",
      "|   Shashwat bhandari|    666.0|         cod|\n",
      "|        Pranab borah|    507.0| credit_card|\n",
      "|BMR Wildlife Serv...|   9900.0| credit_card|\n",
      "|               manoj|    907.0|         cod|\n",
      "|      rahul mirajkar|   1449.0|         cod|\n",
      "|Satya narayan sharma|    486.0|         cod|\n",
      "|Dr. Sushil Bhatta...| 275.3537|         cod|\n",
      "|   Dr. Nidhi Marathe|   4990.0|         upi|\n",
      "+--------------------+---------+------------+\n",
      "only showing top 20 rows\n",
      "\n"
     ]
    }
   ],
   "source": [
    "df_pyspark.select('Name','B_GMV', 'payment_mode').show() ##for 3 element "
   ]
  },
  {
   "cell_type": "code",
   "execution_count": 25,
   "id": "0d19f1d3",
   "metadata": {},
   "outputs": [
    {
     "data": {
      "text/plain": [
       "DataFrame[summary: string, order_date: string, UID: string, order_no_final: string, order_id: string, user_id: string, booked_device: string, id: string, order_status: string, Line_status: string, Product_title: string, tax_inclusive_price: string, striked_off_price: string, original_tax_inclusive_price: string, order_quantity: string, order_tax: string, coupoun_discount: string, total: string, logical_cp: string, total_cp: string, logical_markup: string, Sku_created_Date: string, sku: string, sku_type: string, SpecialOrder: string, brand_type: string, Brand: string, leaf_category: string, category: string, c1_category: string, stock_status: string, is_consumable: string, mark_up: string, logical_mrp: string, logical_list_price: string, payment_mode: string, reason_cancellation: string, OrderconfirmDate: string, state: string, city: string, name: string, utm_source: string, shipping_charge: string, ib_cash_debit: string, cod_charge: string, bulk_discount: string, utm_campaign: string, utm_medium: string, pincode: string, category_env: string, order_no: string, tax_exclusive_price: string, cancellation_date: string, modified_by: string, cancel_comment: string, cancellation_source: string, allocated_vendor_code: string, allocated_vendor_name: string, allocation_mode: string, warehouse_code: string, logical_seller_code: string, logical_seller_name: string, custom_label_0: string, custom_label_1: string, custom_label_2: string, custom_label_3: string, custom_label_4: string, expected_dispatch_date: string, expected_delivery_date: string, Order_Check_Gstin: string, gstin_number: string, dealer_code: string, dealer_gstno: string, dealer_phone: string, Shipped_Date: string, Delivered_Date: string, Returned_Date: string, waybill_number: string, lsp_id: string, LSP_NAME: string, total_tax_exclusive_price: string, tax_in_percentage: string, B_GMV: string, tax_excl_incl_ship_cod: string, is_grab_order: string, grabbed_date: string, vendor_cost_price: string, tax_excl_price_exclude_coupon: string, part_cod_amount: string, total_cp_actual: string, report_date: string, Margin: string]"
      ]
     },
     "execution_count": 25,
     "metadata": {},
     "output_type": "execute_result"
    }
   ],
   "source": [
    "df_pyspark.describe()"
   ]
  },
  {
   "cell_type": "code",
   "execution_count": 26,
   "id": "b90e66c0",
   "metadata": {},
   "outputs": [
    {
     "name": "stdout",
     "output_type": "stream",
     "text": [
      "+-------+----------+--------------------+--------------------+--------------------+------------------+-------------+--------------------+----------------+-----------+--------------------+--------------------+-----------------+----------------------------+------------------+-----------------+------------------+-----------------+------------------+-----------------+-----------------+-------------------+----------------+--------------------+------------+----------+--------------+--------------------+---------+--------------------+------------+-------------+------------------+------------------+------------------+------------+-------------------+----------------+-----------+-----------+----------------+----------+------------------+-------------+-----------------+-------------+--------------------+----------+--------------------+----------------+--------------------+-------------------+-----------------+--------------------+--------------------+-------------------+---------------------+---------------------+--------------------+--------------+-------------------+--------------------+--------------+--------------+---------------+-----------------+--------------------+----------------------+----------------------+-----------------+---------------+------------+---------------+--------------------+------------+--------------+-------------+--------------------+--------------------+-----------------+-------------------------+------------------+-----------------+----------------------+------------------+------------+------------------+-----------------------------+------------------+------------------+-----------------+-----------------+\n",
      "|summary|order_date|                 UID|      order_no_final|            order_id|           user_id|booked_device|                  id|    order_status|Line_status|       Product_title| tax_inclusive_price|striked_off_price|original_tax_inclusive_price|    order_quantity|        order_tax|  coupoun_discount|            total|        logical_cp|         total_cp|   logical_markup|   Sku_created_Date|             sku|            sku_type|SpecialOrder|brand_type|         Brand|       leaf_category| category|         c1_category|stock_status|is_consumable|           mark_up|       logical_mrp|logical_list_price|payment_mode|reason_cancellation|OrderconfirmDate|      state|       city|            name|utm_source|   shipping_charge|ib_cash_debit|       cod_charge|bulk_discount|        utm_campaign|utm_medium|             pincode|    category_env|            order_no|tax_exclusive_price|cancellation_date|         modified_by|      cancel_comment|cancellation_source|allocated_vendor_code|allocated_vendor_name|     allocation_mode|warehouse_code|logical_seller_code| logical_seller_name|custom_label_0|custom_label_1| custom_label_2|   custom_label_3|      custom_label_4|expected_dispatch_date|expected_delivery_date|Order_Check_Gstin|   gstin_number| dealer_code|   dealer_gstno|        dealer_phone|Shipped_Date|Delivered_Date|Returned_Date|      waybill_number|              lsp_id|         LSP_NAME|total_tax_exclusive_price| tax_in_percentage|            B_GMV|tax_excl_incl_ship_cod|     is_grab_order|grabbed_date| vendor_cost_price|tax_excl_price_exclude_coupon|   part_cod_amount|   total_cp_actual|      report_date|           Margin|\n",
      "+-------+----------+--------------------+--------------------+--------------------+------------------+-------------+--------------------+----------------+-----------+--------------------+--------------------+-----------------+----------------------------+------------------+-----------------+------------------+-----------------+------------------+-----------------+-----------------+-------------------+----------------+--------------------+------------+----------+--------------+--------------------+---------+--------------------+------------+-------------+------------------+------------------+------------------+------------+-------------------+----------------+-----------+-----------+----------------+----------+------------------+-------------+-----------------+-------------+--------------------+----------+--------------------+----------------+--------------------+-------------------+-----------------+--------------------+--------------------+-------------------+---------------------+---------------------+--------------------+--------------+-------------------+--------------------+--------------+--------------+---------------+-----------------+--------------------+----------------------+----------------------+-----------------+---------------+------------+---------------+--------------------+------------+--------------+-------------+--------------------+--------------------+-----------------+-------------------------+------------------+-----------------+----------------------+------------------+------------+------------------+-----------------------------+------------------+------------------+-----------------+-----------------+\n",
      "|  count|      5829|                5829|                5829|                5829|              4221|         5829|                5829|            5829|       5829|                5829|                5829|             5829|                        5829|              5829|             5829|              5829|             5829|              5829|             5829|             5705|               5827|            5829|                5829|        5819|      5827|          5827|                5827|     5827|                5827|        5829|         5821|              5829|              3639|              5251|        5827|                424|            5827|       5829|       5829|            5829|      5706|              5829|         5829|             5829|         5829|                3604|      4353|                5828|            5829|                5829|               5509|              543|                 541|                 541|                541|                 3489|                 3490|                5828|          2006|               5672|                5673|          3844|          5819|           5813|             5829|                5829|                  5775|                  5774|             5828|           1388|         177|            177|                 177|        3321|           520|           58|                3751|                3753|             3753|                     5829|              5829|             5829|                  5829|              3825|          10|              3780|                         5828|              5829|              5829|             5829|             5829|\n",
      "|   mean|      null|                null|1.0237393024093326E9|2.3739302409332648E7|3695304.2146410802|         null|2.0582486846972037E7|            null|       null|                null|   4631.407750128708|5534.450675381714|            4692.25921111683| 2.760164693772517|681.3065605421173|62.106532852976514|4629.836157145305|2234.9442065534345|3181.487435237606|32.36936546888677|              42.89|            null|                null|        null|      null|      Infinity|                null|     null|                null|        null|         null| 33.74922944911607| 652.6649134377575|2821.6537726147435|         0.0|                1.0|            null|       null|       null|            null|      null|10.238036725587781|          0.0|73.71779037570764|          0.0|                 0.0|      null|  503535.54504891025|        530048.5|1.0237392586305131E9|  374672.0315535521|         672.9903|  3977634.3695652173|                null|               null|   28793.431642304386|              31489.0|                null|          null| 23515.051842708515|             16744.5|           NaN|           NaN|            NaN|             null|                null|                  null|                  null|             null|            0.0|        null|           null| 8.842927336977402E9|        null|          null|         null| 3.21166383254657E13| 3.896151725257128E9|             82.5|        4011.935816028831|17.491679533367645|4713.777148756215|    4010.9358380511235|0.5105882352941177|         0.0|1720.6046190476216|           3958.3498530521997|0.7790649325441755| 3187.339167953334|            661.5|7194.357175218814|\n",
      "| stddev|      null|                null|  43627.505114873544|   43627.50511552604|1740512.6880074344|         null|   28106.23573276291|            null|       null|                null|  24024.252950298363|25431.84759429196|          24039.156456168024|23.561229940763578|3631.608743015416|  174.820709253833|24020.28022057111| 3368.268467891973|18513.02916232887|23.21605016559769|0.04242640687119446|            null|                null|        null|      null|           NaN|                null|     null|                null|        null|         null|20.365773010263204|3049.6495151977233| 5080.931249814246|         0.0|               null|            null|       null|       null|            null|      null|22.682618850974258|          0.0|127.2434771828335|          0.0|                 0.0|      null|   219493.5228049912|42439.8419000354|  43617.800409167816| 1.95038369283091E7|545.6625650690911|  1694309.5272318542|                null|               null|   12700.715902896396|                 null|                null|          null| 15145.073079435402|    20851.8718704101|           NaN|           NaN|            NaN|             null|                null|                  null|                  null|             null|           null|        null|           null|1.0533047844055263E9|        null|          null|         null|4.489975073381926E13|2.334665784892350...|75.66042558696059|        20422.18090253817|18.117386084293326| 24038.0290103467|    20418.748085620085|  22.4031961093579|        null| 2918.012219050509|           20403.900187946347|18.704886076861793|18516.143775589906|82.73149339882606|38909.04313495841|\n",
      "|    min|01-04-2023|1023513882|ME.TE....|          1023513882|            23513882|               774|  Android App|            20459203|       allocated|     Packed|\"AASONS 16\"\" Chai...| M22×1.5 Female 1...|              1.0|                         1.0|                 1|              0.0|               0.0|              0.0|              0.81|             0.81|           -33.33|         01-02-2021|      25-08-2022|    CLE.PRE.56767574|       FALSE|     FALSE|11 enterprises|         Accessories|Abrasives|           AC Drives|    Inactive|            N|            -33.33|               0.0|               0.0|           0| delivered problem |      01-04-2023| 01-04-2023|   AGARTALA|. Maithali saran|       APN|                 0|            0|              0.0|            0|                   0|01-04-2023|              110001|          500039|          1023513882|           1.121607|         1058.832|0401c68e-abf7-405...|      Bought Locally|              ADMIN|                  453|       11 ENTERPRISES|                 JIT|           DSW|              10053|      11 ENTERPRISES|             0|             0|              0|C1 Automobile Oil|C1 Magnetic Products|            01-04-2023|            01-05-2023|       10-04-2023| 03AABCE2487P1Z|IBDEALER1003|01AAEFG9271B1ZV|          6300856617|  01-04-2023|    02-04-2023|   04-04-2023|          1.4299E+13|                29.0|              136|                        1|                 0|             18.0|                     1|                 0|           0|              0.87|                  0.892857143|               0.0|               0.0|       06-04-2023|       06-04-2023|\n",
      "|    max|31-03-2023|1023810727|AUT.FO...|          1023810727|            23810727|           5120541|      ios app|            20629850|shipped_complete|    shipped|wipro 5W LED Tabl...|             9994.88|        1716000.0|                   1716000.0|              1280|         261763.0|            1500.0|        1716000.0|           46662.0|        1320000.0|            720.0|              42.92|WEL.WEL.77057361|Test SKU-Private ...|        TRUE|   PRIVATE|  zytech solar|reduced Shank drills|  Welding|paint, wire & wir...|out of stock|     in stock|                 N|           46690.0|           66660.0|      wallet|                yes|      06-04-2023|West Bengal|west bengal|      zonunsanga|    google|           Organic|            0|            999.0|            0|top_cat(Non_Email...|icubeswire|https://www.googl...|  industrybuying|      industrybuying|      1.023779166E9|         287.1486| zdhmaajan@gmail.com|IB-Vendor not res...|               USER|                39806| wellworth wire ro...|PERMANENT MAGNETS...|            MP|                HR1|wellworth wire ro...|           nan|     pvt_label|non pl material|           others|         PL Cleaning|             Marketing|            30-04-2023|              YES|             NO| IBDEALER981|           null|          9927584197|  07-04-2023|    06-04-2023|   07-04-2023|          IBHR1P1210|           1.4299E13|       Xpressbees|               Xpressbees|              1085|        1716000.0|               1454237|              1085|     54:53.0|           46662.0|                  1454237.288|       1084.745763|         1320000.0|              720|           9989.3|\n",
      "+-------+----------+--------------------+--------------------+--------------------+------------------+-------------+--------------------+----------------+-----------+--------------------+--------------------+-----------------+----------------------------+------------------+-----------------+------------------+-----------------+------------------+-----------------+-----------------+-------------------+----------------+--------------------+------------+----------+--------------+--------------------+---------+--------------------+------------+-------------+------------------+------------------+------------------+------------+-------------------+----------------+-----------+-----------+----------------+----------+------------------+-------------+-----------------+-------------+--------------------+----------+--------------------+----------------+--------------------+-------------------+-----------------+--------------------+--------------------+-------------------+---------------------+---------------------+--------------------+--------------+-------------------+--------------------+--------------+--------------+---------------+-----------------+--------------------+----------------------+----------------------+-----------------+---------------+------------+---------------+--------------------+------------+--------------+-------------+--------------------+--------------------+-----------------+-------------------------+------------------+-----------------+----------------------+------------------+------------+------------------+-----------------------------+------------------+------------------+-----------------+-----------------+\n",
      "\n"
     ]
    }
   ],
   "source": [
    "df_pyspark.describe().show()"
   ]
  },
  {
   "cell_type": "code",
   "execution_count": 27,
   "id": "0e1505ba",
   "metadata": {},
   "outputs": [
    {
     "name": "stdout",
     "output_type": "stream",
     "text": [
      "+----------+--------------------+--------------+--------+-------+-------------+--------+--------------------+-----------+--------------------+-------------------+-----------------+----------------------------+--------------+---------+----------------+-------+----------+--------+--------------+----------------+-----------------+--------------------+------------+----------+----------------+--------------------+--------------------+--------------------+------------+-------------+-------+-----------+------------------+------------+--------------------+----------------+--------------+--------------+--------------------+----------+---------------+-------------+----------+-------------+--------------------+--------------------+-------+--------------+----------+-------------------+-------------------+--------------------+-------------------+-------------------+---------------------+---------------------+---------------+--------------+-------------------+--------------------+--------------------+--------------+--------------------+--------------------+--------------+----------------------+----------------------+-----------------+---------------+-----------+------------+------------+------------+--------------+-------------+--------------+------+-------------------+-------------------------+-----------------+---------+----------------------+-------------+------------+-----------------+-----------------------------+---------------+---------------+-----------+--------+------------------+\n",
      "|order_date|                 UID|order_no_final|order_id|user_id|booked_device|      id|        order_status|Line_status|       Product_title|tax_inclusive_price|striked_off_price|original_tax_inclusive_price|order_quantity|order_tax|coupoun_discount|  total|logical_cp|total_cp|logical_markup|Sku_created_Date|              sku|            sku_type|SpecialOrder|brand_type|           Brand|       leaf_category|            category|         c1_category|stock_status|is_consumable|mark_up|logical_mrp|logical_list_price|payment_mode| reason_cancellation|OrderconfirmDate|         state|          city|                name|utm_source|shipping_charge|ib_cash_debit|cod_charge|bulk_discount|        utm_campaign|          utm_medium|pincode|  category_env|  order_no|tax_exclusive_price|  cancellation_date|         modified_by|     cancel_comment|cancellation_source|allocated_vendor_code|allocated_vendor_name|allocation_mode|warehouse_code|logical_seller_code| logical_seller_name|      custom_label_0|custom_label_1|      custom_label_2|      custom_label_3|custom_label_4|expected_dispatch_date|expected_delivery_date|Order_Check_Gstin|   gstin_number|dealer_code|dealer_gstno|dealer_phone|Shipped_Date|Delivered_Date|Returned_Date|waybill_number|lsp_id|           LSP_NAME|total_tax_exclusive_price|tax_in_percentage|    B_GMV|tax_excl_incl_ship_cod|is_grab_order|grabbed_date|vendor_cost_price|tax_excl_price_exclude_coupon|part_cod_amount|total_cp_actual|report_date|  Margin|  Addtional_Column|\n",
      "+----------+--------------------+--------------+--------+-------+-------------+--------+--------------------+-----------+--------------------+-------------------+-----------------+----------------------------+--------------+---------+----------------+-------+----------+--------+--------------+----------------+-----------------+--------------------+------------+----------+----------------+--------------------+--------------------+--------------------+------------+-------------+-------+-----------+------------------+------------+--------------------+----------------+--------------+--------------+--------------------+----------+---------------+-------------+----------+-------------+--------------------+--------------------+-------+--------------+----------+-------------------+-------------------+--------------------+-------------------+-------------------+---------------------+---------------------+---------------+--------------+-------------------+--------------------+--------------------+--------------+--------------------+--------------------+--------------+----------------------+----------------------+-----------------+---------------+-----------+------------+------------+------------+--------------+-------------+--------------+------+-------------------+-------------------------+-----------------+---------+----------------------+-------------+------------+-----------------+-----------------------------+---------------+---------------+-----------+--------+------------------+\n",
      "|01-04-2023|1023658188|CLE.IN...|    1023658188|23658188|   null|      android|20534080|           delivered|  delivered|Aristo Wheel Wast...|               2790|          4569.84|                      2790.0|             1|    426.0|             0.0| 2790.0|    1666.0|  1666.0|          null|      04-05-2017| CLE.IND.12522154|Planned Inventory...|       FALSE|  NATIONAL|          aristo|Dustbins and Wast...|            Cleaning|   Waste & Recycling|    in stock|            N|  41.44|       null|              null|         upi|                null|      01-04-2023|   Maharashtra|          Pune|     Yogiraj Chopade|      null|              0|            0|       0.0|            0|                null|                null| 411019|industrybuying|1023658188|          2356.3904|               null|                null|               null|               null|                 null|                 null|            JIT|           HR1|               null|                null|            Cleaning|Plan Inventory|                   0|      Plan Inventory|     Marketing|            02-04-2023|            07-04-2023|              YES|27AABCW5970D1Z8|       null|        null|        null|  02-04-2023|    05-04-2023|         null|     234047203| 172.0|      Delhivery B2B|                     2364|               18|   2790.0|                  2364|         null|        null|             null|                   2364.40678|            0.0|         1666.0| 06-04-2023|    4030|           12790.0|\n",
      "|01-04-2023|1023678514|FAS.SE...|    1023678514|23678514|5081506|      android|20545228|   partially_shipped|    shipped|Agarwal Fastners ...|                448|            448.0|                       448.0|             1|     68.0|             0.0|  448.0|     289.0|   289.0|          null|      23-08-2021| FAS.SET.64648835|     MarketPlace SKU|       FALSE|  NATIONAL|agarwal fastners|          Set Screws|           Fasteners|          Set Screws|    in stock|            Y|  33.33|       null|              null|         upi|                null|      01-04-2023|     Telangana|   Karim Nagar|       Satyanarayana|      null|              0|            0|       0.0|            0|                null|                null| 505001|industrybuying|1023678514|           385.3237|               null|                null|               null|               null|                 2177| AB INDUSTRIAL SUP...|             MP|          null|               null|                null|           Fasteners|        Non PL|        Longtail New|    Non PL Fasteners|     Marketing|            06-04-2023|            10-04-2023|               NO|           null|       null|        null|        null|  04-04-2023|          null|         null|    1.4299E+13|  29.0|         Xpressbees|                      380|               18|    448.0|                   380|            0|        null|            289.0|                  379.6610169|            0.0|          289.0| 06-04-2023|     669|           10448.0|\n",
      "|01-04-2023|1023675209|IND.TI...|    1023675209|23675209|5029385|       Mobile|20543164|    shipped_complete|    shipped|Multispan 96 x 96...|            1697.78|           1755.0|                    1697.784|             1|  258.784|             0.0|1697.78|    1000.0|  1000.0|         43.88|      18-08-2017| IND.TIM.14954290|     MarketPlace SKU|       FALSE|     LOCAL|       multispan|              Timers|Industrial Automa...|              Timers|    in stock|            N|  49.25|        0.0|            1755.0| credit_card|                null|      01-04-2023|    Tamil Nadu|         HOSUR|       Ramanujan K S|    Direct|              0|            0|       0.0|            0|                null|                null| 635109|industrybuying|1023675209|             1492.5|               null|                null|               null|               null|                29894|     Dhruv Enterprise|             MP|          null|               null|                null|Industrial Automa...|        Non PL|Medium GMV x High...|Non PL Industrial...|     Marketing|            02-04-2023|            07-04-2023|              YES|33AADVL7592E1ZG|       null|        null|        null|  05-04-2023|          null|         null|   3.23296E+11| 136.0|        Amazon ship|                     1439|               18|  1697.78|                  1439|            0|        null|           1000.0|                   1438.79661|            0.0|         1000.0| 06-04-2023|    2439|          11697.78|\n",
      "|01-04-2023|1023654716|LA.LA....|    1023654716|23654716| 769915|  Android App|20531876|             shipped|    shipped|Scientech SE-224 ...|               4980|           5500.0|                      5480.0|             1|    836.0|           500.0| 4980.0|    3465.0|  3465.0|          null|      21-07-2016| LA.LA.GE.1561022|     MarketPlace SKU|       FALSE|     LOCAL|       scientech|General Laborator...|        Lab Supplies|Laboratory Equipm...|    in stock|            N|  36.99|       null|              null| credit_card|                null|      01-04-2023|        Kerala|         adoor|           Principal|      null|              0|            0|       0.0|            0|                null|                null| 689501|industrybuying|1023654716|          4746.7035|               null|                null|               null|               null|                 5722| M/.s SCIENCE ENTE...|             MP|          null|               null|                null|        Lab Supplies|        Non PL|No GMV x No Order...| Non PL Lab Supplies|     Marketing|            03-04-2023|            08-04-2023|               NO|           null|       null|        null|        null|  01-04-2023|          null|         null|   1.77173E+13| 196.0|IMPL_Delhivery_10KG|                     4644|               18|   4980.0|                  4644|            0|        null|           3465.0|                  4220.338983|            0.0|         3465.0| 06-04-2023|    8109|           14980.0|\n",
      "|30-03-2023|1023602107|OFF.OF...|    1023602107|23602107|   null|      Desktop|20505595|           delivered|  delivered|Stolica Leatherit...|            5188.37|          6186.44|                   5188.3657|             1| 791.3656|             0.0|5188.37|    3300.0|  3300.0|         33.24|      28-03-2022| OFF.OFF.25841482|     MarketPlace SKU|       FALSE|  NATIONAL|         stolica|       Office Chairs|     Office Supplies|    Office Furniture|    in stock|            N|  36.99|       null|           6186.44|        neft|                null|      01-04-2023|   Maharashtra|          Pune|    Pushkar Indulkar|    Google|              0|            0|       0.0|            0|PLAPMAX_BR_Plan_I...|                 PLA| 411007|industrybuying|1023602107|            4520.67|               null|                null|               null|               null|                36086|    Dicor seating LLP|             MP|          null|               null|                null|     Office Supplies|        Non PL|        Longtail New|Non PL Office Sup...|     Marketing|            02-04-2023|            07-04-2023|              YES|27AAPPI3486F1ZE|       null|        null|        null|  01-04-2023|    04-04-2023|         null|    1.4299E+13|  29.0|         Xpressbees|                     4397|               18|  5188.37|                  4397|            0|        null|           3300.0|                  4396.923729|            0.0|         3300.0| 06-04-2023|    7697|15188.369999999999|\n",
      "|01-04-2023|1023657335|PNE.AI...|    1023657335|23657335|  52236|  Android App|20533362|           delivered|  delivered|Powerhouse 51mm 2...|            6524.18|         5528.966|                   6524.1797|             1| 995.1796|             0.0|6524.18|    3383.7|  3383.7|          63.4|      15-11-2021| PNE.AIR.95302537|   Private Label SKU|       FALSE|   PRIVATE|      powerhouse|Portable Air Comp...|Hydraulics and Pn...|Air Compressors a...|    in stock|            N|   63.4|        0.0|               0.0|         cod|                null|      01-04-2023|   Maharashtra|          Pune|      rahul mirajkar|    Google|              0|            0|     149.0|            0|PLAPMAX_Lab_Supplies|                 PLA| 411033|industrybuying|1023657335|          5528.9658|               null|                null|               null|               null|                 null|                 null|            JIT|           HR1|               null|                null|          Pneumatics|     pvt_label|              PL New|       PL Pneumatics|     Marketing|            02-04-2023|            07-04-2023|               NO|           null|       null|        null|        null|  02-04-2023|    06-04-2023|         null|   1.77173E+13| 196.0|IMPL_Delhivery_10KG|                     5529|               18|  6673.18|                  5529|         null|        null|             null|                  5528.966102|            0.0|         3383.7| 06-04-2023|  8912.7|          16673.18|\n",
      "|01-04-2023|1023678607|PNE.ST...|    1023678607|23678607|5081281|  Android App|20545283|    shipped_complete|  cancelled|Aeroflex MA 25 St...|              997.1|           1040.0|                       997.1|             1|    152.1|             0.0|  997.1|     676.0|   676.0|          25.0|      30-09-2022| PNE.STA.57024731|     MarketPlace SKU|       FALSE|     LOCAL|        aeroflex| Pneumatic Cylinders|Hydraulics and Pn...|Pneumatic System ...|out of stock|            N|  28.21|       null|            1040.0|         cod|It's brought by l...|      01-04-2023|   West Bengal|        Howrah| Prodip Kumar Mandal|  firebase|              0|            0|   33.1762|            0|PLAPMAX_Hydraulic...|                 PLA| 711112|industrybuying|1023678607|               null|2023-04-02T10:24:19|72d6018a-2f79-4e7...|Funds Not Available|               USER|                 null|                 null|           NONE|          null|               null|                null|                null|        Non PL|        Longtail New|   Non PL Pneumatics|     Marketing|                  null|                  null|               NO|           null|       null|        null|        null|        null|          null|         null|          null|  null|               null|                      845|               18|1030.2762|                   845|            0|        null|             null|                        845.0|            0.0|          676.0| 06-04-2023|    1521|        11030.2762|\n",
      "|01-04-2023|1023685520|SA.SA....|    1023685520|23685520|4992243|  Android App|20548755|           delivered|  delivered|SS & WW MAKE Oran...|            1663.24|           1620.0|                   1663.2378|            36|  79.2378|             0.0|1663.24|      30.0|  1080.0|         46.67|      05-11-2016| SA.SA.CO.1639574|     MarketPlace SKU|       FALSE|     LOCAL|      sai safety|       Coated Gloves|              Safety|       Safety Gloves|    in stock|            Y|  51.52|       null|              45.0|         cod|                null|      01-04-2023| Uttar Pradesh|      Azamgarh|Musheer haider Sayed|    Google|              0|            0|      69.0|            0|GDNM_Product_Viewers|                 GDN| 276204|industrybuying|1023685520|             45.456|               null|                null|               null|               null|                 7306| Sai Safety And Wo...|             MP|          null|               null|                null|              Safety|        Non PL|       Non PL Safety|    C1 Safety Gloves|     Marketing|            02-04-2023|            06-04-2023|               NO|           null|       null|        null|        null|  04-04-2023|    06-04-2023|         null|    1.4299E+13|  29.0|         Xpressbees|                     1584|                5|  1732.24|                  1584|            0|        null|             30.0|                  1584.038095|            0.0|         1080.0| 06-04-2023|    2664|          11732.24|\n",
      "|01-04-2023|1023662051|SAF.SA...|    1023662051|23662051|4976143|  Android App|20535252|           cancelled|  cancelled|Hillson Swag 1903...|                745|         832.5111|                       828.0|             1|     89.0|            83.0|  745.0|     588.0|   588.0|          null|      09-01-2023| SAF.SAF.27783011|     MarketPlace SKU|       FALSE|  NATIONAL|         hillson|        Safety Shoes|              Safety|        Safety Shoes|    in stock|            N|  26.58|       null|              null| credit_card|       I need size 8|      01-04-2023|     Telangana|       Kadthal|      ramesh gaddala|      null|             59|            0|       0.0|            0|                null|                null| 501359|industrybuying|1023662051|           744.2904|2023-04-01T13:25:08|rameshgaddala04@g...|Funds Not Available|               USER|                38601| C.M. PIAREY LAL A...|             MP|          null|               null|                null|                null|        Non PL|        Longtail New|     C1 Safety Shoes|     Marketing|            05-04-2023|            10-04-2023|               NO|           null|       null|        null|        null|        null|          null|         null|          null|  null|               null|                      739|               12|    804.0|                   739|            0|        null|            588.0|                  665.1785714|            0.0|          588.0| 06-04-2023|    1327|           10804.0|\n",
      "|01-04-2023|1023665676|SOL.PE...|    1023665676|23665676| 664612|  Android App|20536901|             shipped|    shipped|Luminous 445W 24V...|              39300|          39800.0|                     39800.0|             2|   4264.0|           500.0|39300.0|   14910.0| 29820.0|          null|      16-09-2022| SOL.PER.76921305|Planned Inventory...|       FALSE|  NATIONAL|        luminous|Mono PERC Solar P...|               Solar|        Solar Panels|    in stock|            N|  19.16|       null|              null|         upi|                null|      01-04-2023|        Kerala|Pathanamthitta|             Anish.S|      null|              0|            0|       0.0|            0|                null|                null| 689647|industrybuying|1023665676|          17766.756|               null|                null|               null|               null|                 null|                 null|            JIT|           HR1|               null|                null|                null|Plan Inventory|        Longtail New|      Plan Inventory|     Marketing|            02-04-2023|            07-04-2023|               NO|           null|       null|        null|        null|  03-04-2023|          null|         null|     235448423| 172.0|      Delhivery B2B|                    35536|               12|  39300.0|                 35536|         null|        null|             null|                  35089.28571|            0.0|        29820.0| 06-04-2023|   65356|           49300.0|\n",
      "|01-04-2023|1023660195|TOO.HA...|    1023660195|23660195| 469277|  Android App|20534724|    shipped_complete|    shipped|Taparia High Spee...|             286.33|            315.0|                    286.3261|             5|  43.3261|             0.0| 286.33|     40.95|  204.75|         18.51|      09-07-2020| TOO.HAC.32728303|     MarketPlace SKU|       FALSE|  NATIONAL|         taparia|      Hacksaw Blades| Tooling and Cutting|      Cutting Blades|    in stock|            Y|  21.95|        0.0|              63.0|         cod|                null|      01-04-2023|  Chhattisgarh|      dhamtari|   Devendra Rajpuria|  WhatsApp|           34.5|            0|   27.5569|            0|atc_drop_multiple...|                Tech| 493773|industrybuying|1023660195|          49.938525|               null|                null|               null|               null|                23050| 3S ENGINEERING CO...|             MP|          null|               null|                null| Tooling and Cutting|      noorders|                 nan|      Non PL Tooling|     Marketing|            05-04-2023|            10-04-2023|               NO|           null|       null|        null|        null|  04-04-2023|          null|         null|    1.4299E+13|  29.0|         Xpressbees|                      243|               18| 348.3869|                   243|            0|        null|            40.95|                  242.6525424|            0.0|         204.75| 06-04-2023|  447.75|        10348.3869|\n",
      "|01-04-2023|1023674605|ELE.FL...|    1023674605|23674605|4818476|  Android App|20542753|    shipped_complete|    shipped|Kalinga Gold 2.5 ...|            2484.25|         4313.559|                      2760.0|             2|    421.0|          275.75|2484.25|     661.7|  1323.4|          null|      04-12-2020|ELE.FLA.102859482|Planned Inventory...|       FALSE|  NATIONAL|         kalinga|Flame Retardant (...|          Electrical|    Cables and Wires|    in stock|            N|  69.49|       null|              null|         upi|                null|      01-04-2023|  Chhattisgarh|          Durg|   Akhilesh Parashar|      null|              0|            0|       0.0|            0|                null|                null| 491001|industrybuying|1023674605|         1121.51533|               null|                null|               null|               null|                 null|                 null|            JIT|           HR1|               null|                null|          Electrical|Plan Inventory|BR Plan Inventory...|      Plan Inventory|     Marketing|            02-04-2023|            07-04-2023|              YES|22DXKPS8924K1ZT|       null|        null|        null|  02-04-2023|          null|         null|    1.4299E+14|  29.0|         Xpressbees|                     2339|               18|  2484.25|                  2339|         null|        null|             null|                   2105.29661|            0.0|         1323.4| 06-04-2023|  3662.4|          12484.25|\n",
      "|01-04-2023|1023667271|SAF.SA...|    1023667271|23667271|   null|       Mobile|20537764|shipped_and_returned|        RTO|Safari Gumboot an...|                568|            568.0|                       568.0|             1|     61.0|             0.0|  568.0|     375.0|   375.0|         35.14|      04-08-2017| SAF.SAF.13827504|     MarketPlace SKU|       FALSE|  NATIONAL|          safari|        Safety Shoes|              Safety|        Safety Shoes|    in stock|            N|  35.14|       null|              null|         cod|                null|      01-04-2023|   Uttaranchal|    Uttarkashi|   Shashwat bhandari|   Organic|             59|            0|      39.0|            0|                null|https://www.googl...| 249193|industrybuying|1023667271|            506.775|               null|                null|               null|               null|                  657| M/S SOURCE INDIA ...|             MP|          null|                657|M/S SOURCE INDIA ...|              Safety|        Non PL|       Non PL Safety|     C1 Safety Shoes|     Marketing|            02-04-2023|            06-04-2023|               NO|           null|       null|        null|        null|  01-04-2023|          null|   05-04-2023|   1.77169E+13| 194.0| IMPL_Delhivery_3KG|                      507|               12|    666.0|                   507|            0|        null|            375.0|                  507.1428571|            0.0|          375.0| 06-04-2023|     882|           10666.0|\n",
      "|01-04-2023|1023673784|SAF.SA...|    1023673784|23673784|   null|       Mobile|20542146|             shipped|    shipped|Safari Gumboot an...|                438|            438.0|                       438.0|             1|     47.0|             0.0|  438.0|     320.0|   320.0|         21.17|      04-08-2017| SAF.SAF.19827466|     MarketPlace SKU|       FALSE|  NATIONAL|          safari|        Safety Shoes|              Safety|        Safety Shoes|    in stock|            N|  21.17|       null|             401.2| credit_card|                null|      01-04-2023|         Assam|     Karimganj|        Pranab borah|    Google|             69|            0|       0.0|            0|PLAPMAX_C1_Safety...|                 PLA| 788710|industrybuying|1023673784|            387.744|               null|                null|               null|               null|                  657| M/S SOURCE INDIA ...|             MP|          null|                657|M/S SOURCE INDIA ...|              Safety|        Non PL|       Non PL Safety|     C1 Safety Shoes|     Marketing|            06-04-2023|            11-04-2023|               NO|           null|       null|        null|        null|  04-04-2023|          null|         null|    1.4299E+13|  29.0|         Xpressbees|                      391|               12|    507.0|                   391|            0|        null|            320.0|                  391.0714286|            0.0|          320.0| 06-04-2023|     711|           10507.0|\n",
      "|01-04-2023|1023682505|HA.HA0...|    1023682505|23682505|5078643|      Desktop|20547195|              packed|  confirmed|Yato YT-8006 Axe ...|               9900|           9900.0|                      9900.0|             5|   1510.0|             0.0| 9900.0|   1392.11| 6960.55|         18.69|      12-03-2016|    HA.HA0.750207|     MarketPlace SKU|       FALSE|  NATIONAL|            yato|  Hammer Accessories|          Hand Tools|             Hammers|    in stock|            N|  21.95|        0.0|            1907.0| credit_card|                null|      01-04-2023|Madhya Pradesh|        Indore|BMR Wildlife Serv...|    Google|              0|            0|       0.0|            0|  PLAPMAX_Hand_Tools|                 PLA| 452011|industrybuying|1023682505|        1697.678145|               null|                null|               null|               null|                  745|    Aron Technologies|             MP|          null|                745|   Aron Technologies|          Hand Tools|        Non PL|Low GMV x Low Ord...|   Non PL Hand Tools|     Marketing|            06-04-2023|            11-04-2023|              YES|23AAWFB3652M1Z0|       null|        null|        null|        null|          null|         null|          null|  null|               null|                     8390|               18|   9900.0|                  8390|            0|        null|          1392.11|                  8389.830508|            0.0|        6960.55| 06-04-2023|15350.55|           19900.0|\n",
      "|01-04-2023|1023666931|HAN.SC...|    1023666931|23666931|2093907|  Android App|20537585|                 cod|  confirmed|Yato YT-2827 Insu...|                838|            943.0|                       838.0|             1|    128.0|             0.0|  838.0|    549.07|  549.07|         28.24|      30-07-2022| HAN.SCR.66635398|     MarketPlace SKU|       FALSE|  NATIONAL|            yato|     Screwdriver Set|          Hand Tools|Screwdriver & Nut...|    in stock|            N|  29.87|       null|             943.0|         cod|                null|      01-04-2023|        Kerala|        KOLLAM|               manoj|    Google|              0|            0|      69.0|            0|PLAPMAX_Private_L...|                 PLA| 691019|industrybuying|1023666931|         713.077209|               null|                null|               null|               null|                  745|    Aron Technologies|             MP|          null|                745|   Aron Technologies|                null|        Non PL|        Longtail New|   Non PL Hand Tools|     Marketing|            06-04-2023|            11-04-2023|               NO|           null|       null|        null|        null|        null|          null|         null|          null|  null|               null|                      710|               18|    907.0|                   710|            0|        null|           549.07|                  710.1694915|            0.0|         549.07| 06-04-2023| 1259.07|           10907.0|\n",
      "|01-04-2023|1023657838|LUB.BU...|    1023657838|23657838|  52236|  Android App|20533810|           cancelled|  cancelled|Yato Oil Transfer...|               1380|           1380.0|                      1380.0|             1|    211.0|             0.0| 1380.0|    970.56|  970.56|         14.94|      27-02-2023| LUB.BUC.98169421|     MarketPlace SKU|       FALSE|  NATIONAL|            yato|     Bucket Oil Pump| Lubricants and Oils|Fuel & Oil Transf...|    in stock|            N|  17.65|        0.0|            1348.0|         cod|            too dily|      01-04-2023|   Maharashtra|          Pune|      rahul mirajkar|    Google|              0|            0|      69.0|            0|PLAPMAX_Lab_Supplies|                 PLA| 411033|industrybuying|1023657838|         1141.86384|2023-04-05T21:18:26|               52236|  Delay In Delivery|               USER|                  745|    Aron Technologies|             MP|          null|                745|   Aron Technologies|                null|           NEW|                 NEW|New Launch Februa...|     Marketing|            05-04-2023|            10-04-2023|               NO|           null|       null|        null|        null|        null|          null|         null|          null|  null|               null|                     1169|               18|   1449.0|                  1169|            0|        null|           970.56|                  1169.491525|            0.0|         970.56| 06-04-2023| 2139.56|           11449.0|\n",
      "|01-04-2023|1023663516|LUB.OI...|    1023663516|23663516| 993601|  Android App|20535779|           cancelled|  cancelled|Yato Oil Can With...|                388|            395.0|                       388.0|             1|     59.0|             0.0|  388.0|     284.4|   284.4|         14.94|      27-02-2023| LUB.OIL.98169923|     MarketPlace SKU|       FALSE|  NATIONAL|            yato|            Oil cans| Lubricants and Oils|            Oil cans|    in stock|            N|  16.28|        0.0|             395.0|         cod|                 yes|      01-04-2023| Uttar Pradesh|         Rasra|Satya narayan sharma|    Direct|             59|            0|      39.0|            0|                null|                null| 221716|industrybuying|1023663516|          330.70032|2023-04-01T08:49:12|satyaasharma989@g...|  Delay In Delivery|               USER|                  745|    Aron Technologies|             MP|          null|                745|   Aron Technologies|                null|           NEW|                 NEW|New Launch Februa...|     Marketing|            05-04-2023|            09-04-2023|               NO|           null|       null|        null|        null|        null|          null|         null|          null|  null|               null|                      329|               18|    486.0|                   329|            0|        null|            284.4|                  328.8135593|            0.0|          284.4| 06-04-2023|   613.4|           10486.0|\n",
      "|01-04-2023|1023657550|ELE.HE...|    1023657550|23657550|4912245|      Desktop|20533567|   partially_shipped|  confirmed|Yato Heat Shrink ...|                268|            269.0|                       268.0|             1|     41.0|             0.0|  268.0|    193.68|  193.68|         14.94|      23-02-2023|ELE.HEA.108135108|     MarketPlace SKU|       FALSE|  NATIONAL|            yato|   Heat Shrink Tubes|Electronics & Rob...|       Interconnects|    in stock|            N|  17.65|        0.0|             269.0|         cod|                null|      01-04-2023|   West Bengal|       Birbhum|Dr. Sushil Bhatta...|     Email|              0|            0|    7.3537|            0|BE_31_03_23-Top_L...|           Broadcast| 731302|industrybuying|1023657550|          227.86452|               null|                null|               null|               null|                  745|    Aron Technologies|             MP|          null|                745|   Aron Technologies|                null|           NEW|                 NEW|New Launch Februa...|     Marketing|            05-04-2023|            10-04-2023|               NO|           null|       null|        null|        null|        null|          null|         null|          null|  null|               null|                      227|               18| 275.3537|                   227|            0|        null|           193.68|                  227.1186441|            0.0|         193.68| 06-04-2023|  420.68|        10275.3537|\n",
      "|01-04-2023|1023657270|PU.MO....|    1023657270|23657270|5074727|       Mobile|20533295|           intransit|    shipped|Kirloskar Jalraj ...|               4990|           4990.0|                      4990.0|             1|    761.0|             0.0| 4990.0|    3800.0|  3800.0|         14.13|      19-05-2015|     PU.MO.286380|     MarketPlace SKU|       FALSE|  NATIONAL|       kirloskar|Domestic Monobloc...|               Pumps|         Water Pumps|    in stock|            N|  14.13|        0.0|           4528.13|         upi|                null|      01-04-2023|           Goa|     Sanvordem|   Dr. Nidhi Marathe|    Google|              0|            0|       0.0|            0|PLAPMAX_BR_Plan_I...|                 PLA| 403704|industrybuying|1023657270|            4336.94|               null|                null|               null|               null|                 null|                 null|            JIT|           HR1|                788|  Motor Sales Agency|               Pumps|Plan Inventory|BR Plan Inventory...|      Plan Inventory|     Marketing|            01-04-2023|            06-04-2023|               NO|           null|       null|        null|        null|  02-04-2023|          null|         null|   1.77173E+13| 196.0|IMPL_Delhivery_10KG|                     4229|               18|   4990.0|                  4229|         null|        null|             null|                  4228.813559|            0.0|         3800.0| 06-04-2023|    8029|           14990.0|\n",
      "+----------+--------------------+--------------+--------+-------+-------------+--------+--------------------+-----------+--------------------+-------------------+-----------------+----------------------------+--------------+---------+----------------+-------+----------+--------+--------------+----------------+-----------------+--------------------+------------+----------+----------------+--------------------+--------------------+--------------------+------------+-------------+-------+-----------+------------------+------------+--------------------+----------------+--------------+--------------+--------------------+----------+---------------+-------------+----------+-------------+--------------------+--------------------+-------+--------------+----------+-------------------+-------------------+--------------------+-------------------+-------------------+---------------------+---------------------+---------------+--------------+-------------------+--------------------+--------------------+--------------+--------------------+--------------------+--------------+----------------------+----------------------+-----------------+---------------+-----------+------------+------------+------------+--------------+-------------+--------------+------+-------------------+-------------------------+-----------------+---------+----------------------+-------------+------------+-----------------+-----------------------------+---------------+---------------+-----------+--------+------------------+\n",
      "only showing top 20 rows\n",
      "\n"
     ]
    }
   ],
   "source": [
    "#adding column in dataframe \n",
    "\n",
    "df_pyspark.withColumn('Addtional_Column', df_pyspark['B_GMV']+10000).show()"
   ]
  },
  {
   "cell_type": "code",
   "execution_count": 28,
   "id": "8d55e3e1",
   "metadata": {},
   "outputs": [],
   "source": [
    "# df_pyspark.select('total', 'Addtional_Column').show() ##for 3 element "
   ]
  },
  {
   "cell_type": "code",
   "execution_count": 29,
   "id": "6f7a89e9",
   "metadata": {},
   "outputs": [],
   "source": [
    "#for dropping column\n",
    "\n",
    "df_pyspark=df_pyspark.drop(\n",
    " 'UID',\n",
    " 'order_no_final',\n",
    " 'user_id',\n",
    " 'id',\n",
    " 'order_status', \n",
    " 'Product_title',\n",
    " 'tax_inclusive_price',\n",
    " 'striked_off_price',\n",
    " 'original_tax_inclusive_price',\n",
    " 'order_quantity',\n",
    " 'order_tax',\n",
    " 'coupoun_discount',\n",
    " 'logical_cp',\n",
    " 'total_cp',\n",
    " 'logical_markup',\n",
    " 'Sku_created_Date',\n",
    " 'sku',\n",
    " 'sku_type',\n",
    " 'SpecialOrder',\n",
    " 'brand_type',\n",
    " 'Brand',\n",
    " 'leaf_category',\n",
    " 'category',\n",
    " 'c1_category',\n",
    " 'stock_status',\n",
    " 'is_consumable',\n",
    " 'mark_up',\n",
    " 'logical_mrp',\n",
    " 'logical_list_price',\n",
    " 'payment_mode',\n",
    " 'reason_cancellation',\n",
    " 'OrderconfirmDate',\n",
    " 'state',\n",
    " 'city',\n",
    "    'name',\n",
    " 'utm_source',\n",
    " 'shipping_charge',\n",
    " 'ib_cash_debit',\n",
    " 'cod_charge',\n",
    " 'bulk_discount',\n",
    " 'utm_campaign',\n",
    " 'utm_medium',\n",
    " 'pincode',\n",
    " 'category_env',\n",
    " 'order_no',\n",
    " 'tax_exclusive_price',\n",
    " 'cancellation_date',\n",
    " 'modified_by',\n",
    " 'cancel_comment',\n",
    " 'cancellation_source',\n",
    " 'allocated_vendor_code',\n",
    " 'allocated_vendor_name',\n",
    " 'allocation_mode',\n",
    " 'warehouse_code',\n",
    " 'logical_seller_code',\n",
    " 'logical_seller_name',\n",
    " 'custom_label_0',\n",
    " 'custom_label_1',\n",
    " 'custom_label_2',\n",
    " 'custom_label_3',\n",
    " 'custom_label_4',\n",
    " 'expected_dispatch_date',\n",
    " 'expected_delivery_date',\n",
    " 'Order_Check_Gstin',\n",
    " 'gstin_number',\n",
    " 'dealer_code',\n",
    " 'dealer_gstno',\n",
    " 'dealer_phone',\n",
    " 'Shipped_Date',\n",
    " 'Delivered_Date',\n",
    " 'Returned_Date',\n",
    " 'waybill_number',\n",
    " 'lsp_id',\n",
    " 'LSP_NAME',\n",
    " 'total_tax_exclusive_price',\n",
    " 'tax_in_percentage',\n",
    " 'tax_excl_incl_ship_cod',\n",
    " 'is_grab_order',\n",
    " 'grabbed_date',\n",
    " 'vendor_cost_price',\n",
    " 'tax_excl_price_exclude_coupon',\n",
    " 'part_cod_amount',\n",
    " 'total_cp_actual',\n",
    " 'report_date')"
   ]
  },
  {
   "cell_type": "code",
   "execution_count": null,
   "id": "9676d076",
   "metadata": {},
   "outputs": [],
   "source": []
  },
  {
   "cell_type": "code",
   "execution_count": 30,
   "id": "6d2b4f01",
   "metadata": {},
   "outputs": [
    {
     "data": {
      "text/plain": [
       "['order_date',\n",
       " 'order_id',\n",
       " 'booked_device',\n",
       " 'Line_status',\n",
       " 'total',\n",
       " 'B_GMV',\n",
       " 'Margin']"
      ]
     },
     "execution_count": 30,
     "metadata": {},
     "output_type": "execute_result"
    }
   ],
   "source": [
    "df_pyspark.columns"
   ]
  },
  {
   "cell_type": "code",
   "execution_count": null,
   "id": "ed2fafba",
   "metadata": {},
   "outputs": [],
   "source": []
  },
  {
   "cell_type": "code",
   "execution_count": 31,
   "id": "07d142b8",
   "metadata": {},
   "outputs": [
    {
     "name": "stdout",
     "output_type": "stream",
     "text": [
      "+----------+--------+-------------+-----------+-------+---------+--------+\n",
      "|order_date|order_id|booked_device|Line_status|  total|  Revenue|  Margin|\n",
      "+----------+--------+-------------+-----------+-------+---------+--------+\n",
      "|01-04-2023|23658188|      android|  delivered| 2790.0|   2790.0|    4030|\n",
      "|01-04-2023|23678514|      android|    shipped|  448.0|    448.0|     669|\n",
      "|01-04-2023|23675209|       Mobile|    shipped|1697.78|  1697.78|    2439|\n",
      "|01-04-2023|23654716|  Android App|    shipped| 4980.0|   4980.0|    8109|\n",
      "|30-03-2023|23602107|      Desktop|  delivered|5188.37|  5188.37|    7697|\n",
      "|01-04-2023|23657335|  Android App|  delivered|6524.18|  6673.18|  8912.7|\n",
      "|01-04-2023|23678607|  Android App|  cancelled|  997.1|1030.2762|    1521|\n",
      "|01-04-2023|23685520|  Android App|  delivered|1663.24|  1732.24|    2664|\n",
      "|01-04-2023|23662051|  Android App|  cancelled|  745.0|    804.0|    1327|\n",
      "|01-04-2023|23665676|  Android App|    shipped|39300.0|  39300.0|   65356|\n",
      "|01-04-2023|23660195|  Android App|    shipped| 286.33| 348.3869|  447.75|\n",
      "|01-04-2023|23674605|  Android App|    shipped|2484.25|  2484.25|  3662.4|\n",
      "|01-04-2023|23667271|       Mobile|        RTO|  568.0|    666.0|     882|\n",
      "|01-04-2023|23673784|       Mobile|    shipped|  438.0|    507.0|     711|\n",
      "|01-04-2023|23682505|      Desktop|  confirmed| 9900.0|   9900.0|15350.55|\n",
      "|01-04-2023|23666931|  Android App|  confirmed|  838.0|    907.0| 1259.07|\n",
      "|01-04-2023|23657838|  Android App|  cancelled| 1380.0|   1449.0| 2139.56|\n",
      "|01-04-2023|23663516|  Android App|  cancelled|  388.0|    486.0|   613.4|\n",
      "|01-04-2023|23657550|      Desktop|  confirmed|  268.0| 275.3537|  420.68|\n",
      "|01-04-2023|23657270|       Mobile|    shipped| 4990.0|   4990.0|    8029|\n",
      "+----------+--------+-------------+-----------+-------+---------+--------+\n",
      "only showing top 20 rows\n",
      "\n"
     ]
    }
   ],
   "source": [
    "#rename Column\n",
    "df_pyspark.withColumnRenamed('B_GMV','Revenue').show()  #renaming column "
   ]
  },
  {
   "cell_type": "code",
   "execution_count": 32,
   "id": "608ab9fc",
   "metadata": {},
   "outputs": [
    {
     "name": "stdout",
     "output_type": "stream",
     "text": [
      "+----------+--------+-------------+-----------+-------+---------+--------+\n",
      "|order_date|order_id|booked_device|Line_status|  total|    B_GMV|  Margin|\n",
      "+----------+--------+-------------+-----------+-------+---------+--------+\n",
      "|01-04-2023|23658188|      android|  delivered| 2790.0|   2790.0|    4030|\n",
      "|01-04-2023|23678514|      android|    shipped|  448.0|    448.0|     669|\n",
      "|01-04-2023|23675209|       Mobile|    shipped|1697.78|  1697.78|    2439|\n",
      "|01-04-2023|23654716|  Android App|    shipped| 4980.0|   4980.0|    8109|\n",
      "|30-03-2023|23602107|      Desktop|  delivered|5188.37|  5188.37|    7697|\n",
      "|01-04-2023|23657335|  Android App|  delivered|6524.18|  6673.18|  8912.7|\n",
      "|01-04-2023|23678607|  Android App|  cancelled|  997.1|1030.2762|    1521|\n",
      "|01-04-2023|23685520|  Android App|  delivered|1663.24|  1732.24|    2664|\n",
      "|01-04-2023|23662051|  Android App|  cancelled|  745.0|    804.0|    1327|\n",
      "|01-04-2023|23665676|  Android App|    shipped|39300.0|  39300.0|   65356|\n",
      "|01-04-2023|23660195|  Android App|    shipped| 286.33| 348.3869|  447.75|\n",
      "|01-04-2023|23674605|  Android App|    shipped|2484.25|  2484.25|  3662.4|\n",
      "|01-04-2023|23667271|       Mobile|        RTO|  568.0|    666.0|     882|\n",
      "|01-04-2023|23673784|       Mobile|    shipped|  438.0|    507.0|     711|\n",
      "|01-04-2023|23682505|      Desktop|  confirmed| 9900.0|   9900.0|15350.55|\n",
      "|01-04-2023|23666931|  Android App|  confirmed|  838.0|    907.0| 1259.07|\n",
      "|01-04-2023|23657838|  Android App|  cancelled| 1380.0|   1449.0| 2139.56|\n",
      "|01-04-2023|23663516|  Android App|  cancelled|  388.0|    486.0|   613.4|\n",
      "|01-04-2023|23657550|      Desktop|  confirmed|  268.0| 275.3537|  420.68|\n",
      "|01-04-2023|23657270|       Mobile|    shipped| 4990.0|   4990.0|    8029|\n",
      "+----------+--------+-------------+-----------+-------+---------+--------+\n",
      "only showing top 20 rows\n",
      "\n"
     ]
    }
   ],
   "source": [
    "df_pyspark.na.drop().show()   #dropping null"
   ]
  },
  {
   "cell_type": "code",
   "execution_count": 33,
   "id": "1362f942",
   "metadata": {},
   "outputs": [
    {
     "name": "stdout",
     "output_type": "stream",
     "text": [
      "+----------+--------+-------------+-----------+-------+---------+--------+\n",
      "|order_date|order_id|booked_device|Line_status|  total|    B_GMV|  Margin|\n",
      "+----------+--------+-------------+-----------+-------+---------+--------+\n",
      "|01-04-2023|23658188|      android|  delivered| 2790.0|   2790.0|    4030|\n",
      "|01-04-2023|23678514|      android|    shipped|  448.0|    448.0|     669|\n",
      "|01-04-2023|23675209|       Mobile|    shipped|1697.78|  1697.78|    2439|\n",
      "|01-04-2023|23654716|  Android App|    shipped| 4980.0|   4980.0|    8109|\n",
      "|30-03-2023|23602107|      Desktop|  delivered|5188.37|  5188.37|    7697|\n",
      "|01-04-2023|23657335|  Android App|  delivered|6524.18|  6673.18|  8912.7|\n",
      "|01-04-2023|23678607|  Android App|  cancelled|  997.1|1030.2762|    1521|\n",
      "|01-04-2023|23685520|  Android App|  delivered|1663.24|  1732.24|    2664|\n",
      "|01-04-2023|23662051|  Android App|  cancelled|  745.0|    804.0|    1327|\n",
      "|01-04-2023|23665676|  Android App|    shipped|39300.0|  39300.0|   65356|\n",
      "|01-04-2023|23660195|  Android App|    shipped| 286.33| 348.3869|  447.75|\n",
      "|01-04-2023|23674605|  Android App|    shipped|2484.25|  2484.25|  3662.4|\n",
      "|01-04-2023|23667271|       Mobile|        RTO|  568.0|    666.0|     882|\n",
      "|01-04-2023|23673784|       Mobile|    shipped|  438.0|    507.0|     711|\n",
      "|01-04-2023|23682505|      Desktop|  confirmed| 9900.0|   9900.0|15350.55|\n",
      "|01-04-2023|23666931|  Android App|  confirmed|  838.0|    907.0| 1259.07|\n",
      "|01-04-2023|23657838|  Android App|  cancelled| 1380.0|   1449.0| 2139.56|\n",
      "|01-04-2023|23663516|  Android App|  cancelled|  388.0|    486.0|   613.4|\n",
      "|01-04-2023|23657550|      Desktop|  confirmed|  268.0| 275.3537|  420.68|\n",
      "|01-04-2023|23657270|       Mobile|    shipped| 4990.0|   4990.0|    8029|\n",
      "+----------+--------+-------------+-----------+-------+---------+--------+\n",
      "only showing top 20 rows\n",
      "\n"
     ]
    }
   ],
   "source": [
    "df_pyspark.na.drop(how='all').show() #Here its mean all nul value should be there in row \n"
   ]
  },
  {
   "cell_type": "code",
   "execution_count": 34,
   "id": "1510ab70",
   "metadata": {},
   "outputs": [
    {
     "name": "stdout",
     "output_type": "stream",
     "text": [
      "+----------+--------+-------------+-----------+-------+---------+--------+\n",
      "|order_date|order_id|booked_device|Line_status|  total|    B_GMV|  Margin|\n",
      "+----------+--------+-------------+-----------+-------+---------+--------+\n",
      "|01-04-2023|23658188|      android|  delivered| 2790.0|   2790.0|    4030|\n",
      "|01-04-2023|23678514|      android|    shipped|  448.0|    448.0|     669|\n",
      "|01-04-2023|23675209|       Mobile|    shipped|1697.78|  1697.78|    2439|\n",
      "|01-04-2023|23654716|  Android App|    shipped| 4980.0|   4980.0|    8109|\n",
      "|30-03-2023|23602107|      Desktop|  delivered|5188.37|  5188.37|    7697|\n",
      "|01-04-2023|23657335|  Android App|  delivered|6524.18|  6673.18|  8912.7|\n",
      "|01-04-2023|23678607|  Android App|  cancelled|  997.1|1030.2762|    1521|\n",
      "|01-04-2023|23685520|  Android App|  delivered|1663.24|  1732.24|    2664|\n",
      "|01-04-2023|23662051|  Android App|  cancelled|  745.0|    804.0|    1327|\n",
      "|01-04-2023|23665676|  Android App|    shipped|39300.0|  39300.0|   65356|\n",
      "|01-04-2023|23660195|  Android App|    shipped| 286.33| 348.3869|  447.75|\n",
      "|01-04-2023|23674605|  Android App|    shipped|2484.25|  2484.25|  3662.4|\n",
      "|01-04-2023|23667271|       Mobile|        RTO|  568.0|    666.0|     882|\n",
      "|01-04-2023|23673784|       Mobile|    shipped|  438.0|    507.0|     711|\n",
      "|01-04-2023|23682505|      Desktop|  confirmed| 9900.0|   9900.0|15350.55|\n",
      "|01-04-2023|23666931|  Android App|  confirmed|  838.0|    907.0| 1259.07|\n",
      "|01-04-2023|23657838|  Android App|  cancelled| 1380.0|   1449.0| 2139.56|\n",
      "|01-04-2023|23663516|  Android App|  cancelled|  388.0|    486.0|   613.4|\n",
      "|01-04-2023|23657550|      Desktop|  confirmed|  268.0| 275.3537|  420.68|\n",
      "|01-04-2023|23657270|       Mobile|    shipped| 4990.0|   4990.0|    8029|\n",
      "+----------+--------+-------------+-----------+-------+---------+--------+\n",
      "only showing top 20 rows\n",
      "\n"
     ]
    }
   ],
   "source": [
    "df_pyspark.na.drop(how='any',thresh=2).show()"
   ]
  },
  {
   "cell_type": "code",
   "execution_count": 35,
   "id": "0ae12fe7",
   "metadata": {},
   "outputs": [
    {
     "name": "stdout",
     "output_type": "stream",
     "text": [
      "+----------+--------+-------------+-----------+-------+---------+--------+\n",
      "|order_date|order_id|booked_device|Line_status|  total|    B_GMV|  Margin|\n",
      "+----------+--------+-------------+-----------+-------+---------+--------+\n",
      "|01-04-2023|23658188|      android|  delivered| 2790.0|   2790.0|    4030|\n",
      "|01-04-2023|23678514|      android|    shipped|  448.0|    448.0|     669|\n",
      "|01-04-2023|23675209|       Mobile|    shipped|1697.78|  1697.78|    2439|\n",
      "|01-04-2023|23654716|  Android App|    shipped| 4980.0|   4980.0|    8109|\n",
      "|30-03-2023|23602107|      Desktop|  delivered|5188.37|  5188.37|    7697|\n",
      "|01-04-2023|23657335|  Android App|  delivered|6524.18|  6673.18|  8912.7|\n",
      "|01-04-2023|23678607|  Android App|  cancelled|  997.1|1030.2762|    1521|\n",
      "|01-04-2023|23685520|  Android App|  delivered|1663.24|  1732.24|    2664|\n",
      "|01-04-2023|23662051|  Android App|  cancelled|  745.0|    804.0|    1327|\n",
      "|01-04-2023|23665676|  Android App|    shipped|39300.0|  39300.0|   65356|\n",
      "|01-04-2023|23660195|  Android App|    shipped| 286.33| 348.3869|  447.75|\n",
      "|01-04-2023|23674605|  Android App|    shipped|2484.25|  2484.25|  3662.4|\n",
      "|01-04-2023|23667271|       Mobile|        RTO|  568.0|    666.0|     882|\n",
      "|01-04-2023|23673784|       Mobile|    shipped|  438.0|    507.0|     711|\n",
      "|01-04-2023|23682505|      Desktop|  confirmed| 9900.0|   9900.0|15350.55|\n",
      "|01-04-2023|23666931|  Android App|  confirmed|  838.0|    907.0| 1259.07|\n",
      "|01-04-2023|23657838|  Android App|  cancelled| 1380.0|   1449.0| 2139.56|\n",
      "|01-04-2023|23663516|  Android App|  cancelled|  388.0|    486.0|   613.4|\n",
      "|01-04-2023|23657550|      Desktop|  confirmed|  268.0| 275.3537|  420.68|\n",
      "|01-04-2023|23657270|       Mobile|    shipped| 4990.0|   4990.0|    8029|\n",
      "+----------+--------+-------------+-----------+-------+---------+--------+\n",
      "only showing top 20 rows\n",
      "\n"
     ]
    }
   ],
   "source": [
    "df_pyspark.na.drop(how='any',subset=['Line_status']).show() #this subset will delete na from this subset column only "
   ]
  },
  {
   "cell_type": "code",
   "execution_count": 36,
   "id": "a9dc0393",
   "metadata": {
    "scrolled": true
   },
   "outputs": [
    {
     "name": "stdout",
     "output_type": "stream",
     "text": [
      "+----------+--------+-------------+-----------+-------+---------+--------+\n",
      "|order_date|order_id|booked_device|Line_status|  total|    B_GMV|  Margin|\n",
      "+----------+--------+-------------+-----------+-------+---------+--------+\n",
      "|01-04-2023|23658188|      android|  delivered| 2790.0|   2790.0|    4030|\n",
      "|01-04-2023|23678514|      android|    shipped|  448.0|    448.0|     669|\n",
      "|01-04-2023|23675209|       Mobile|    shipped|1697.78|  1697.78|    2439|\n",
      "|01-04-2023|23654716|  Android App|    shipped| 4980.0|   4980.0|    8109|\n",
      "|30-03-2023|23602107|      Desktop|  delivered|5188.37|  5188.37|    7697|\n",
      "|01-04-2023|23657335|  Android App|  delivered|6524.18|  6673.18|  8912.7|\n",
      "|01-04-2023|23678607|  Android App|  cancelled|  997.1|1030.2762|    1521|\n",
      "|01-04-2023|23685520|  Android App|  delivered|1663.24|  1732.24|    2664|\n",
      "|01-04-2023|23662051|  Android App|  cancelled|  745.0|    804.0|    1327|\n",
      "|01-04-2023|23665676|  Android App|    shipped|39300.0|  39300.0|   65356|\n",
      "|01-04-2023|23660195|  Android App|    shipped| 286.33| 348.3869|  447.75|\n",
      "|01-04-2023|23674605|  Android App|    shipped|2484.25|  2484.25|  3662.4|\n",
      "|01-04-2023|23667271|       Mobile|        RTO|  568.0|    666.0|     882|\n",
      "|01-04-2023|23673784|       Mobile|    shipped|  438.0|    507.0|     711|\n",
      "|01-04-2023|23682505|      Desktop|  confirmed| 9900.0|   9900.0|15350.55|\n",
      "|01-04-2023|23666931|  Android App|  confirmed|  838.0|    907.0| 1259.07|\n",
      "|01-04-2023|23657838|  Android App|  cancelled| 1380.0|   1449.0| 2139.56|\n",
      "|01-04-2023|23663516|  Android App|  cancelled|  388.0|    486.0|   613.4|\n",
      "|01-04-2023|23657550|      Desktop|  confirmed|  268.0| 275.3537|  420.68|\n",
      "|01-04-2023|23657270|       Mobile|    shipped| 4990.0|   4990.0|    8029|\n",
      "+----------+--------+-------------+-----------+-------+---------+--------+\n",
      "only showing top 20 rows\n",
      "\n"
     ]
    }
   ],
   "source": [
    "#filling the missing value \n",
    "df_pyspark.na.fill('missing_value').show() #where the missing value will be, it will be filled by missing value"
   ]
  },
  {
   "cell_type": "code",
   "execution_count": 37,
   "id": "3d4ff9d7",
   "metadata": {},
   "outputs": [
    {
     "name": "stdout",
     "output_type": "stream",
     "text": [
      "+----------+--------+-------------+-----------+-------+---------+--------+\n",
      "|order_date|order_id|booked_device|Line_status|  total|    B_GMV|  Margin|\n",
      "+----------+--------+-------------+-----------+-------+---------+--------+\n",
      "|01-04-2023|23658188|      android|  delivered| 2790.0|   2790.0|    4030|\n",
      "|01-04-2023|23678514|      android|    shipped|  448.0|    448.0|     669|\n",
      "|01-04-2023|23675209|       Mobile|    shipped|1697.78|  1697.78|    2439|\n",
      "|01-04-2023|23654716|  Android App|    shipped| 4980.0|   4980.0|    8109|\n",
      "|30-03-2023|23602107|      Desktop|  delivered|5188.37|  5188.37|    7697|\n",
      "|01-04-2023|23657335|  Android App|  delivered|6524.18|  6673.18|  8912.7|\n",
      "|01-04-2023|23678607|  Android App|  cancelled|  997.1|1030.2762|    1521|\n",
      "|01-04-2023|23685520|  Android App|  delivered|1663.24|  1732.24|    2664|\n",
      "|01-04-2023|23662051|  Android App|  cancelled|  745.0|    804.0|    1327|\n",
      "|01-04-2023|23665676|  Android App|    shipped|39300.0|  39300.0|   65356|\n",
      "|01-04-2023|23660195|  Android App|    shipped| 286.33| 348.3869|  447.75|\n",
      "|01-04-2023|23674605|  Android App|    shipped|2484.25|  2484.25|  3662.4|\n",
      "|01-04-2023|23667271|       Mobile|        RTO|  568.0|    666.0|     882|\n",
      "|01-04-2023|23673784|       Mobile|    shipped|  438.0|    507.0|     711|\n",
      "|01-04-2023|23682505|      Desktop|  confirmed| 9900.0|   9900.0|15350.55|\n",
      "|01-04-2023|23666931|  Android App|  confirmed|  838.0|    907.0| 1259.07|\n",
      "|01-04-2023|23657838|  Android App|  cancelled| 1380.0|   1449.0| 2139.56|\n",
      "|01-04-2023|23663516|  Android App|  cancelled|  388.0|    486.0|   613.4|\n",
      "|01-04-2023|23657550|      Desktop|  confirmed|  268.0| 275.3537|  420.68|\n",
      "|01-04-2023|23657270|       Mobile|    shipped| 4990.0|   4990.0|    8029|\n",
      "+----------+--------+-------------+-----------+-------+---------+--------+\n",
      "only showing top 20 rows\n",
      "\n"
     ]
    }
   ],
   "source": [
    " df_pyspark.show()"
   ]
  },
  {
   "cell_type": "code",
   "execution_count": 38,
   "id": "9d077b89",
   "metadata": {},
   "outputs": [],
   "source": [
    "# from pyspark.ml.feature import Imputer\n",
    "\n",
    "# imputer = Imputer(\n",
    "#     inputCols=['total', 'total', 'B_GMV'], \n",
    "#     outputCols=[\"{}_imputed\".format(c) for c in ['total', 'total', 'B_GMV']]\n",
    "#     ).setStrategy(\"median\")"
   ]
  },
  {
   "cell_type": "code",
   "execution_count": 39,
   "id": "18f26c7b",
   "metadata": {},
   "outputs": [],
   "source": [
    "# # Add imputation cols to df\n",
    "# imputer.fit(df_pyspark).transform(df_pyspark).show()"
   ]
  },
  {
   "cell_type": "code",
   "execution_count": 40,
   "id": "0d174a39",
   "metadata": {},
   "outputs": [
    {
     "name": "stdout",
     "output_type": "stream",
     "text": [
      "+----------+--------+-------------+--------------------+--------+----------+--------+\n",
      "|order_date|order_id|booked_device|         Line_status|   total|     B_GMV|  Margin|\n",
      "+----------+--------+-------------+--------------------+--------+----------+--------+\n",
      "|01-04-2023|23665676|  Android App|             shipped| 39300.0|   39300.0|   65356|\n",
      "|01-04-2023|23679380|      Desktop|awaiting procurement|  9990.0|   10179.0| 16155.2|\n",
      "|01-04-2023|23668697|      Desktop|             shipped| 38800.0|   39799.0|59541.54|\n",
      "|01-04-2023|23675522|      Desktop|             shipped| 36900.0|   37899.0|54153.06|\n",
      "|01-04-2023|23672782|      Desktop|             shipped|36954.39|37899.0531|54153.06|\n",
      "|01-04-2023|23659447|  Android App|             shipped|37433.02|38366.0436|54153.06|\n",
      "|01-04-2023|23668738|      Desktop|             shipped| 26600.0|   27599.0|39573.36|\n",
      "|01-04-2023|23669166|       Mobile|           cancelled| 14800.0|   15099.0| 21033.6|\n",
      "|01-04-2023|23668073|      Desktop|           delivered| 32400.0|   33399.0|   53139|\n",
      "|01-04-2023|23671214|      Desktop|           delivered| 15008.0|   15008.0|24417.44|\n",
      "|01-04-2023|23685185|  Android App|           delivered| 13800.0|   14099.0|20747.52|\n",
      "|01-04-2023|23681958|       Mobile|             shipped| 15800.0|   16199.0|21569.37|\n",
      "|01-04-2023|23673405|      Desktop|           cancelled| 23800.0|   24299.0|   34788|\n",
      "|31-03-2023|23644439|      Desktop|           delivered| 28556.0|   28556.0|   50720|\n",
      "|01-04-2023|23678232|       Mobile|              Packed| 12760.0|   12760.0|   20501|\n",
      "|01-04-2023|23672675|      Desktop|           delivered| 15704.4|   15704.4|24664.58|\n",
      "|01-04-2023|23656896|       Mobile|           allocated| 16800.0|   16800.0|   24887|\n",
      "|01-04-2023|23674520|      Desktop|           confirmed| 13800.0|   13800.0|   20495|\n",
      "|01-04-2023|23676940|  Android App|             shipped| 28800.0|   28800.0|46652.31|\n",
      "|01-04-2023|23681280|  Android App|           cancelled| 13300.0|   13599.0|   20995|\n",
      "+----------+--------+-------------+--------------------+--------+----------+--------+\n",
      "only showing top 20 rows\n",
      "\n"
     ]
    }
   ],
   "source": [
    "##Filter Operations\n",
    "df_pyspark.filter(\"B_GMV>10000\").show()\n",
    "    "
   ]
  },
  {
   "cell_type": "code",
   "execution_count": 41,
   "id": "433f13e7",
   "metadata": {},
   "outputs": [
    {
     "name": "stdout",
     "output_type": "stream",
     "text": [
      "+----------+-------------+----------+\n",
      "|order_date|booked_device|     B_GMV|\n",
      "+----------+-------------+----------+\n",
      "|01-04-2023|  Android App|   39300.0|\n",
      "|01-04-2023|      Desktop|   10179.0|\n",
      "|01-04-2023|      Desktop|   39799.0|\n",
      "|01-04-2023|      Desktop|   37899.0|\n",
      "|01-04-2023|      Desktop|37899.0531|\n",
      "|01-04-2023|  Android App|38366.0436|\n",
      "|01-04-2023|      Desktop|   27599.0|\n",
      "|01-04-2023|       Mobile|   15099.0|\n",
      "|01-04-2023|      Desktop|   33399.0|\n",
      "|01-04-2023|      Desktop|   15008.0|\n",
      "|01-04-2023|  Android App|   14099.0|\n",
      "|01-04-2023|       Mobile|   16199.0|\n",
      "|01-04-2023|      Desktop|   24299.0|\n",
      "|31-03-2023|      Desktop|   28556.0|\n",
      "|01-04-2023|       Mobile|   12760.0|\n",
      "|01-04-2023|      Desktop|   15704.4|\n",
      "|01-04-2023|       Mobile|   16800.0|\n",
      "|01-04-2023|      Desktop|   13800.0|\n",
      "|01-04-2023|  Android App|   28800.0|\n",
      "|01-04-2023|  Android App|   13599.0|\n",
      "+----------+-------------+----------+\n",
      "only showing top 20 rows\n",
      "\n"
     ]
    }
   ],
   "source": [
    "##Filter Operations\n",
    "df_pyspark.filter(\"B_GMV>10000\").select(['order_date','booked_device','B_GMV']).show() #for selecting  specific columns.    "
   ]
  },
  {
   "cell_type": "code",
   "execution_count": 42,
   "id": "2480bddb",
   "metadata": {},
   "outputs": [
    {
     "name": "stdout",
     "output_type": "stream",
     "text": [
      "+----------+--------+-------------+--------------------+---------+----------+--------+\n",
      "|order_date|order_id|booked_device|         Line_status|    total|     B_GMV|  Margin|\n",
      "+----------+--------+-------------+--------------------+---------+----------+--------+\n",
      "|01-04-2023|23665676|  Android App|             shipped|  39300.0|   39300.0|   65356|\n",
      "|01-04-2023|23668697|      Desktop|             shipped|  38800.0|   39799.0|59541.54|\n",
      "|01-04-2023|23675522|      Desktop|             shipped|  36900.0|   37899.0|54153.06|\n",
      "|01-04-2023|23672782|      Desktop|             shipped| 36954.39|37899.0531|54153.06|\n",
      "|01-04-2023|23659447|  Android App|             shipped| 37433.02|38366.0436|54153.06|\n",
      "|01-04-2023|23668738|      Desktop|             shipped|  26600.0|   27599.0|39573.36|\n",
      "|01-04-2023|23668073|      Desktop|           delivered|  32400.0|   33399.0|   53139|\n",
      "|01-04-2023|23673405|      Desktop|           cancelled|  23800.0|   24299.0|   34788|\n",
      "|31-03-2023|23644439|      Desktop|           delivered|  28556.0|   28556.0|   50720|\n",
      "|01-04-2023|23676940|  Android App|             shipped|  28800.0|   28800.0|46652.31|\n",
      "|01-04-2023|23673270|       Mobile|             shipped|  22170.0|   22669.0|   33233|\n",
      "|01-04-2023|23685921|  Android App|             shipped|  22300.0|   22799.0|   36513|\n",
      "|01-04-2023|23669389|       Mobile|awaiting procurement|  29900.0|   29900.0|   44819|\n",
      "|01-04-2023|23674604|      Desktop|             shipped|1716000.0| 1716000.0| 2774237|\n",
      "|01-04-2023|23668421|       Mobile|             shipped|  25800.0|   26799.0| 41764.5|\n",
      "|01-04-2023|23667013|      Desktop|           delivered|  24510.0|   24510.0| 41764.5|\n",
      "|01-04-2023|23665110|      Desktop|             shipped|  23000.0|   23499.0|   37200|\n",
      "|01-04-2023|23666984|      Desktop|             shipped|  29600.0|   29600.0|   45485|\n",
      "|01-04-2023|23666963|      Desktop|awaiting procurement|  49600.0|   49600.0|   78514|\n",
      "|01-04-2023|23676645|      Desktop|              Packed|  24370.0|   24869.0|   40696|\n",
      "+----------+--------+-------------+--------------------+---------+----------+--------+\n",
      "only showing top 20 rows\n",
      "\n"
     ]
    }
   ],
   "source": [
    "\n",
    "df_pyspark.filter(df_pyspark['B_GMV']>20000).show()"
   ]
  },
  {
   "cell_type": "code",
   "execution_count": 43,
   "id": "e9292a3c",
   "metadata": {},
   "outputs": [
    {
     "name": "stdout",
     "output_type": "stream",
     "text": [
      "+----------+--------+-------------+--------------------+---------+----------+--------+\n",
      "|order_date|order_id|booked_device|         Line_status|    total|     B_GMV|  Margin|\n",
      "+----------+--------+-------------+--------------------+---------+----------+--------+\n",
      "|01-04-2023|23665676|  Android App|             shipped|  39300.0|   39300.0|   65356|\n",
      "|01-04-2023|23668697|      Desktop|             shipped|  38800.0|   39799.0|59541.54|\n",
      "|01-04-2023|23675522|      Desktop|             shipped|  36900.0|   37899.0|54153.06|\n",
      "|01-04-2023|23672782|      Desktop|             shipped| 36954.39|37899.0531|54153.06|\n",
      "|01-04-2023|23659447|  Android App|             shipped| 37433.02|38366.0436|54153.06|\n",
      "|01-04-2023|23668738|      Desktop|             shipped|  26600.0|   27599.0|39573.36|\n",
      "|01-04-2023|23668073|      Desktop|           delivered|  32400.0|   33399.0|   53139|\n",
      "|01-04-2023|23673405|      Desktop|           cancelled|  23800.0|   24299.0|   34788|\n",
      "|31-03-2023|23644439|      Desktop|           delivered|  28556.0|   28556.0|   50720|\n",
      "|01-04-2023|23676940|  Android App|             shipped|  28800.0|   28800.0|46652.31|\n",
      "|01-04-2023|23673270|       Mobile|             shipped|  22170.0|   22669.0|   33233|\n",
      "|01-04-2023|23685921|  Android App|             shipped|  22300.0|   22799.0|   36513|\n",
      "|01-04-2023|23669389|       Mobile|awaiting procurement|  29900.0|   29900.0|   44819|\n",
      "|01-04-2023|23674604|      Desktop|             shipped|1716000.0| 1716000.0| 2774237|\n",
      "|01-04-2023|23668421|       Mobile|             shipped|  25800.0|   26799.0| 41764.5|\n",
      "|01-04-2023|23667013|      Desktop|           delivered|  24510.0|   24510.0| 41764.5|\n",
      "|01-04-2023|23665110|      Desktop|             shipped|  23000.0|   23499.0|   37200|\n",
      "|01-04-2023|23666984|      Desktop|             shipped|  29600.0|   29600.0|   45485|\n",
      "|01-04-2023|23666963|      Desktop|awaiting procurement|  49600.0|   49600.0|   78514|\n",
      "|01-04-2023|23676645|      Desktop|              Packed|  24370.0|   24869.0|   40696|\n",
      "+----------+--------+-------------+--------------------+---------+----------+--------+\n",
      "only showing top 20 rows\n",
      "\n"
     ]
    }
   ],
   "source": [
    "\n",
    "df_pyspark.filter(df_pyspark['B_GMV']>20000).show()"
   ]
  },
  {
   "cell_type": "code",
   "execution_count": 44,
   "id": "9ad4435a",
   "metadata": {},
   "outputs": [
    {
     "name": "stdout",
     "output_type": "stream",
     "text": [
      "+----------+--------+-------------+-----------+-------+----------+--------+\n",
      "|order_date|order_id|booked_device|Line_status|  total|     B_GMV|  Margin|\n",
      "+----------+--------+-------------+-----------+-------+----------+--------+\n",
      "|01-04-2023|23673405|      Desktop|  cancelled|23800.0|   24299.0|   34788|\n",
      "|01-04-2023|23673270|       Mobile|    shipped|22170.0|   22669.0|   33233|\n",
      "|01-04-2023|23685921|  Android App|    shipped|22300.0|   22799.0|   36513|\n",
      "|01-04-2023|23667013|      Desktop|  delivered|24510.0|   24510.0| 41764.5|\n",
      "|01-04-2023|23665110|      Desktop|    shipped|23000.0|   23499.0|   37200|\n",
      "|01-04-2023|23676645|      Desktop|     Packed|24370.0|   24869.0|   40696|\n",
      "|01-04-2023|23670728|      Desktop|  cancelled|22960.0|   22960.0|   34705|\n",
      "|01-04-2023|23677967|      Desktop|  delivered|21600.0|   21600.0|   35426|\n",
      "|01-04-2023|23664841|      Desktop|  cancelled|23800.0|   24299.0| 39579.5|\n",
      "|01-04-2023|23667957|       Mobile|  cancelled|19800.0|   20199.0| 30241.5|\n",
      "|01-04-2023|23664193|       Mobile|    shipped|22800.0|   23299.0|   36513|\n",
      "|01-04-2023|23665323|      Desktop|    shipped|23000.0|   23499.0|   37200|\n",
      "|01-04-2023|23662881|       Mobile|  confirmed|19900.0|   20299.0|   28797|\n",
      "|01-04-2023|23683329|  Android App|  confirmed|21800.0|22379.5465|36008.19|\n",
      "|02-04-2023|23709969|       Mobile|    shipped|19900.0|   20299.0|29770.77|\n",
      "|02-04-2023|23695150|      Desktop|    shipped|24300.0|   24799.0|34414.71|\n",
      "|02-04-2023|23695367|      Desktop|    shipped|24300.0|   24799.0|34414.71|\n",
      "|02-04-2023|23698941|      Desktop|  delivered|22900.0|   22900.0|36991.29|\n",
      "|02-04-2023|23701866|       Mobile|    shipped|23900.0|   23900.0|36991.29|\n",
      "|02-04-2023|23713735|  Android App|    shipped|21800.0|   22299.0|32023.26|\n",
      "+----------+--------+-------------+-----------+-------+----------+--------+\n",
      "only showing top 20 rows\n",
      "\n"
     ]
    }
   ],
   "source": [
    "\n",
    "df_pyspark.filter((df_pyspark['B_GMV']>20000) & (df_pyspark['B_GMV']<25000)).show() #here if we want to put more condition like and or "
   ]
  },
  {
   "cell_type": "code",
   "execution_count": 45,
   "id": "5a673d96",
   "metadata": {},
   "outputs": [
    {
     "name": "stdout",
     "output_type": "stream",
     "text": [
      "+----------+--------+-------------+-----------+-------+---------+--------+\n",
      "|order_date|order_id|booked_device|Line_status|  total|    B_GMV|  Margin|\n",
      "+----------+--------+-------------+-----------+-------+---------+--------+\n",
      "|01-04-2023|23658188|      android|  delivered| 2790.0|   2790.0|    4030|\n",
      "|01-04-2023|23678514|      android|    shipped|  448.0|    448.0|     669|\n",
      "|01-04-2023|23675209|       Mobile|    shipped|1697.78|  1697.78|    2439|\n",
      "|01-04-2023|23654716|  Android App|    shipped| 4980.0|   4980.0|    8109|\n",
      "|30-03-2023|23602107|      Desktop|  delivered|5188.37|  5188.37|    7697|\n",
      "|01-04-2023|23657335|  Android App|  delivered|6524.18|  6673.18|  8912.7|\n",
      "|01-04-2023|23678607|  Android App|  cancelled|  997.1|1030.2762|    1521|\n",
      "|01-04-2023|23685520|  Android App|  delivered|1663.24|  1732.24|    2664|\n",
      "|01-04-2023|23662051|  Android App|  cancelled|  745.0|    804.0|    1327|\n",
      "|01-04-2023|23665676|  Android App|    shipped|39300.0|  39300.0|   65356|\n",
      "|01-04-2023|23660195|  Android App|    shipped| 286.33| 348.3869|  447.75|\n",
      "|01-04-2023|23674605|  Android App|    shipped|2484.25|  2484.25|  3662.4|\n",
      "|01-04-2023|23667271|       Mobile|        RTO|  568.0|    666.0|     882|\n",
      "|01-04-2023|23673784|       Mobile|    shipped|  438.0|    507.0|     711|\n",
      "|01-04-2023|23682505|      Desktop|  confirmed| 9900.0|   9900.0|15350.55|\n",
      "|01-04-2023|23666931|  Android App|  confirmed|  838.0|    907.0| 1259.07|\n",
      "|01-04-2023|23657838|  Android App|  cancelled| 1380.0|   1449.0| 2139.56|\n",
      "|01-04-2023|23663516|  Android App|  cancelled|  388.0|    486.0|   613.4|\n",
      "|01-04-2023|23657550|      Desktop|  confirmed|  268.0| 275.3537|  420.68|\n",
      "|01-04-2023|23657270|       Mobile|    shipped| 4990.0|   4990.0|    8029|\n",
      "+----------+--------+-------------+-----------+-------+---------+--------+\n",
      "only showing top 20 rows\n",
      "\n"
     ]
    }
   ],
   "source": [
    "\n",
    "df_pyspark.filter((df_pyspark['B_GMV']>20000) | (df_pyspark['B_GMV']<25000)).show() #here if we want to put more condition like or "
   ]
  },
  {
   "cell_type": "code",
   "execution_count": 46,
   "id": "0a264de1",
   "metadata": {},
   "outputs": [
    {
     "name": "stdout",
     "output_type": "stream",
     "text": [
      "+--------------------+--------------------+\n",
      "|         Line_status|          sum(total)|\n",
      "+--------------------+--------------------+\n",
      "|       RTO_DELIVERED|              6972.0|\n",
      "|awaiting procurement|   966744.3599999999|\n",
      "|           allocated|  1415813.4400000004|\n",
      "|             shipped|1.3775366360000005E7|\n",
      "|           cancelled|          2632896.96|\n",
      "|                 RTO|            285129.0|\n",
      "|              Packed|  1450433.6600000001|\n",
      "|              packed|  307724.54000000004|\n",
      "|           delivered|  2432452.6200000006|\n",
      "|              picked|  186213.49999999997|\n",
      "|           confirmed|  3527568.5199999996|\n",
      "+--------------------+--------------------+\n",
      "\n"
     ]
    }
   ],
   "source": [
    "#groupby\n",
    "df_pyspark.groupBy(\"Line_status\").sum('total').show()"
   ]
  },
  {
   "cell_type": "code",
   "execution_count": 47,
   "id": "f110c341",
   "metadata": {},
   "outputs": [
    {
     "name": "stdout",
     "output_type": "stream",
     "text": [
      "+--------------------+-----+\n",
      "|         Line_status|count|\n",
      "+--------------------+-----+\n",
      "|       RTO_DELIVERED|    3|\n",
      "|awaiting procurement|  282|\n",
      "|           allocated|  189|\n",
      "|             shipped| 2753|\n",
      "|           cancelled|  541|\n",
      "|                 RTO|   55|\n",
      "|              Packed|  392|\n",
      "|              packed|   27|\n",
      "|           delivered|  512|\n",
      "|              picked|   20|\n",
      "|           confirmed| 1055|\n",
      "+--------------------+-----+\n",
      "\n"
     ]
    }
   ],
   "source": [
    "#groupby count\n",
    "\n",
    "df_pyspark.groupBy(\"Line_status\").count().show()"
   ]
  },
  {
   "cell_type": "code",
   "execution_count": 48,
   "id": "bd2f81b6",
   "metadata": {},
   "outputs": [
    {
     "name": "stdout",
     "output_type": "stream",
     "text": [
      "+-------------------+\n",
      "|         sum(B_GMV)|\n",
      "+-------------------+\n",
      "|2.747660700009998E7|\n",
      "+-------------------+\n",
      "\n"
     ]
    }
   ],
   "source": [
    "#total_Sum\n",
    "\n",
    "df_pyspark.agg({'B_GMV':'sum'}).show()"
   ]
  },
  {
   "cell_type": "code",
   "execution_count": 49,
   "id": "753b94fa",
   "metadata": {},
   "outputs": [
    {
     "name": "stdout",
     "output_type": "stream",
     "text": [
      "+-------+-------------+----------+----------+\n",
      "|  total|max(order_id)|max(total)|max(B_GMV)|\n",
      "+-------+-------------+----------+----------+\n",
      "| 3980.0|     23767730|    3980.0|    4079.0|\n",
      "|  558.0|     23800321|     558.0|     666.0|\n",
      "|  596.0|     23758597|     596.0|     665.0|\n",
      "|  299.0|     23795415|     299.0|     397.0|\n",
      "| 2862.0|     23801205|    2862.0|    2961.0|\n",
      "|  229.6|     23686453|     229.6|     250.6|\n",
      "| 5972.4|     23675346|    5972.4|    5972.4|\n",
      "| 5360.0|     23780337|    5360.0|    5509.0|\n",
      "|  496.0|     23802943|     496.0|     565.0|\n",
      "| 161.11|     23753979|    161.11|    161.11|\n",
      "|13160.0|     23663284|   13160.0|   13459.0|\n",
      "| 3690.0|     23796371|    3690.0|    3789.0|\n",
      "|  576.0|     23801084|     576.0|     645.0|\n",
      "| 1756.8|     23712584|    1756.8|    1756.8|\n",
      "| 743.33|     23712626|    743.33|   759.276|\n",
      "|  170.0|     23784173|     170.0|     268.0|\n",
      "| 3432.0|     23721530|    3432.0|    3531.0|\n",
      "| 5680.9|     23748924|    5680.9|    5680.9|\n",
      "|  184.0|     23758721|     184.0|     213.5|\n",
      "| 131.44|     23810110|    131.44|    131.44|\n",
      "+-------+-------------+----------+----------+\n",
      "only showing top 20 rows\n",
      "\n"
     ]
    }
   ],
   "source": [
    "#groupby countmax\n",
    "\n",
    "df_pyspark.groupBy(\"total\").max().show()"
   ]
  },
  {
   "cell_type": "code",
   "execution_count": 50,
   "id": "f4613815",
   "metadata": {},
   "outputs": [
    {
     "name": "stdout",
     "output_type": "stream",
     "text": [
      "+--------------------+--------------------+------------------+------------------+\n",
      "|         Line_status|       avg(order_id)|        avg(total)|        avg(B_GMV)|\n",
      "+--------------------+--------------------+------------------+------------------+\n",
      "|       RTO_DELIVERED|2.3679199333333332E7|            2324.0|         2361.4627|\n",
      "|awaiting procurement|2.3722282106382977E7| 3428.171489361702|3502.5275585106383|\n",
      "|           allocated|2.3785036354497354E7| 7491.076402116404| 7595.993843915347|\n",
      "|             shipped| 2.373555749618598E7| 5003.765477660736| 5087.278199854703|\n",
      "|           cancelled|2.3731977343807764E7| 4866.722661737523| 4996.749571534197|\n",
      "|                 RTO| 2.369589812727273E7| 5184.163636363636|5334.5181527272725|\n",
      "|              Packed| 2.376210381887755E7|3700.0858673469393|3777.9904709183675|\n",
      "|              packed|         2.3776913E7|11397.205185185187|11471.316296296296|\n",
      "|           delivered|2.3697410220703125E7| 4750.884023437501| 4814.953790039063|\n",
      "|              picked|         2.3783833E7|          9310.675| 9440.663149999998|\n",
      "|           confirmed|2.3761672751658767E7|3343.6668436018954|3411.8319384834117|\n",
      "+--------------------+--------------------+------------------+------------------+\n",
      "\n"
     ]
    }
   ],
   "source": [
    "df_pyspark.groupBy(\"Line_status\").avg().show()"
   ]
  },
  {
   "cell_type": "code",
   "execution_count": 51,
   "id": "7919aa67",
   "metadata": {},
   "outputs": [],
   "source": [
    "#ML\n",
    "\n",
    "\n",
    "training=spark.read.csv('test.csv',header=True, inferSchema=True)"
   ]
  },
  {
   "cell_type": "code",
   "execution_count": 52,
   "id": "f4dd9184",
   "metadata": {},
   "outputs": [
    {
     "name": "stdout",
     "output_type": "stream",
     "text": [
      "+----------+--------------------+--------------+--------+-------+-------------+--------+--------------------+-----------+--------------------+-------------------+-----------------+----------------------------+--------------+---------+----------------+-------+----------+--------+--------------+----------------+-----------------+--------------------+------------+----------+----------------+--------------------+--------------------+--------------------+------------+-------------+-------+-----------+------------------+------------+--------------------+----------------+--------------+--------------+--------------------+----------+---------------+-------------+----------+-------------+--------------------+--------------------+-------+--------------+----------+-------------------+-------------------+--------------------+-------------------+-------------------+---------------------+---------------------+---------------+--------------+-------------------+--------------------+--------------------+--------------+--------------------+--------------------+--------------+----------------------+----------------------+-----------------+---------------+-----------+------------+------------+------------+--------------+-------------+--------------+------+-------------------+-------------------------+-----------------+---------+----------------------+-------------+------------+-----------------+-----------------------------+---------------+---------------+-----------+--------+\n",
      "|order_date|                 UID|order_no_final|order_id|user_id|booked_device|      id|        order_status|Line_status|       Product_title|tax_inclusive_price|striked_off_price|original_tax_inclusive_price|order_quantity|order_tax|coupoun_discount|  total|logical_cp|total_cp|logical_markup|Sku_created_Date|              sku|            sku_type|SpecialOrder|brand_type|           Brand|       leaf_category|            category|         c1_category|stock_status|is_consumable|mark_up|logical_mrp|logical_list_price|payment_mode| reason_cancellation|OrderconfirmDate|         state|          city|                name|utm_source|shipping_charge|ib_cash_debit|cod_charge|bulk_discount|        utm_campaign|          utm_medium|pincode|  category_env|  order_no|tax_exclusive_price|  cancellation_date|         modified_by|     cancel_comment|cancellation_source|allocated_vendor_code|allocated_vendor_name|allocation_mode|warehouse_code|logical_seller_code| logical_seller_name|      custom_label_0|custom_label_1|      custom_label_2|      custom_label_3|custom_label_4|expected_dispatch_date|expected_delivery_date|Order_Check_Gstin|   gstin_number|dealer_code|dealer_gstno|dealer_phone|Shipped_Date|Delivered_Date|Returned_Date|waybill_number|lsp_id|           LSP_NAME|total_tax_exclusive_price|tax_in_percentage|    B_GMV|tax_excl_incl_ship_cod|is_grab_order|grabbed_date|vendor_cost_price|tax_excl_price_exclude_coupon|part_cod_amount|total_cp_actual|report_date|  Margin|\n",
      "+----------+--------------------+--------------+--------+-------+-------------+--------+--------------------+-----------+--------------------+-------------------+-----------------+----------------------------+--------------+---------+----------------+-------+----------+--------+--------------+----------------+-----------------+--------------------+------------+----------+----------------+--------------------+--------------------+--------------------+------------+-------------+-------+-----------+------------------+------------+--------------------+----------------+--------------+--------------+--------------------+----------+---------------+-------------+----------+-------------+--------------------+--------------------+-------+--------------+----------+-------------------+-------------------+--------------------+-------------------+-------------------+---------------------+---------------------+---------------+--------------+-------------------+--------------------+--------------------+--------------+--------------------+--------------------+--------------+----------------------+----------------------+-----------------+---------------+-----------+------------+------------+------------+--------------+-------------+--------------+------+-------------------+-------------------------+-----------------+---------+----------------------+-------------+------------+-----------------+-----------------------------+---------------+---------------+-----------+--------+\n",
      "|01-04-2023|1023658188|CLE.IN...|    1023658188|23658188|   null|      android|20534080|           delivered|  delivered|Aristo Wheel Wast...|               2790|          4569.84|                      2790.0|             1|    426.0|             0.0| 2790.0|    1666.0|  1666.0|          null|      04-05-2017| CLE.IND.12522154|Planned Inventory...|       FALSE|  NATIONAL|          aristo|Dustbins and Wast...|            Cleaning|   Waste & Recycling|    in stock|            N|  41.44|       null|              null|         upi|                null|      01-04-2023|   Maharashtra|          Pune|     Yogiraj Chopade|      null|              0|            0|       0.0|            0|                null|                null| 411019|industrybuying|1023658188|          2356.3904|               null|                null|               null|               null|                 null|                 null|            JIT|           HR1|               null|                null|            Cleaning|Plan Inventory|                   0|      Plan Inventory|     Marketing|            02-04-2023|            07-04-2023|              YES|27AABCW5970D1Z8|       null|        null|        null|  02-04-2023|    05-04-2023|         null|     234047203| 172.0|      Delhivery B2B|                     2364|               18|   2790.0|                  2364|         null|        null|             null|                   2364.40678|            0.0|         1666.0| 06-04-2023|    4030|\n",
      "|01-04-2023|1023678514|FAS.SE...|    1023678514|23678514|5081506|      android|20545228|   partially_shipped|    shipped|Agarwal Fastners ...|                448|            448.0|                       448.0|             1|     68.0|             0.0|  448.0|     289.0|   289.0|          null|      23-08-2021| FAS.SET.64648835|     MarketPlace SKU|       FALSE|  NATIONAL|agarwal fastners|          Set Screws|           Fasteners|          Set Screws|    in stock|            Y|  33.33|       null|              null|         upi|                null|      01-04-2023|     Telangana|   Karim Nagar|       Satyanarayana|      null|              0|            0|       0.0|            0|                null|                null| 505001|industrybuying|1023678514|           385.3237|               null|                null|               null|               null|                 2177| AB INDUSTRIAL SUP...|             MP|          null|               null|                null|           Fasteners|        Non PL|        Longtail New|    Non PL Fasteners|     Marketing|            06-04-2023|            10-04-2023|               NO|           null|       null|        null|        null|  04-04-2023|          null|         null|    1.4299E+13|  29.0|         Xpressbees|                      380|               18|    448.0|                   380|            0|        null|            289.0|                  379.6610169|            0.0|          289.0| 06-04-2023|     669|\n",
      "|01-04-2023|1023675209|IND.TI...|    1023675209|23675209|5029385|       Mobile|20543164|    shipped_complete|    shipped|Multispan 96 x 96...|            1697.78|           1755.0|                    1697.784|             1|  258.784|             0.0|1697.78|    1000.0|  1000.0|         43.88|      18-08-2017| IND.TIM.14954290|     MarketPlace SKU|       FALSE|     LOCAL|       multispan|              Timers|Industrial Automa...|              Timers|    in stock|            N|  49.25|        0.0|            1755.0| credit_card|                null|      01-04-2023|    Tamil Nadu|         HOSUR|       Ramanujan K S|    Direct|              0|            0|       0.0|            0|                null|                null| 635109|industrybuying|1023675209|             1492.5|               null|                null|               null|               null|                29894|     Dhruv Enterprise|             MP|          null|               null|                null|Industrial Automa...|        Non PL|Medium GMV x High...|Non PL Industrial...|     Marketing|            02-04-2023|            07-04-2023|              YES|33AADVL7592E1ZG|       null|        null|        null|  05-04-2023|          null|         null|   3.23296E+11| 136.0|        Amazon ship|                     1439|               18|  1697.78|                  1439|            0|        null|           1000.0|                   1438.79661|            0.0|         1000.0| 06-04-2023|    2439|\n",
      "|01-04-2023|1023654716|LA.LA....|    1023654716|23654716| 769915|  Android App|20531876|             shipped|    shipped|Scientech SE-224 ...|               4980|           5500.0|                      5480.0|             1|    836.0|           500.0| 4980.0|    3465.0|  3465.0|          null|      21-07-2016| LA.LA.GE.1561022|     MarketPlace SKU|       FALSE|     LOCAL|       scientech|General Laborator...|        Lab Supplies|Laboratory Equipm...|    in stock|            N|  36.99|       null|              null| credit_card|                null|      01-04-2023|        Kerala|         adoor|           Principal|      null|              0|            0|       0.0|            0|                null|                null| 689501|industrybuying|1023654716|          4746.7035|               null|                null|               null|               null|                 5722| M/.s SCIENCE ENTE...|             MP|          null|               null|                null|        Lab Supplies|        Non PL|No GMV x No Order...| Non PL Lab Supplies|     Marketing|            03-04-2023|            08-04-2023|               NO|           null|       null|        null|        null|  01-04-2023|          null|         null|   1.77173E+13| 196.0|IMPL_Delhivery_10KG|                     4644|               18|   4980.0|                  4644|            0|        null|           3465.0|                  4220.338983|            0.0|         3465.0| 06-04-2023|    8109|\n",
      "|30-03-2023|1023602107|OFF.OF...|    1023602107|23602107|   null|      Desktop|20505595|           delivered|  delivered|Stolica Leatherit...|            5188.37|          6186.44|                   5188.3657|             1| 791.3656|             0.0|5188.37|    3300.0|  3300.0|         33.24|      28-03-2022| OFF.OFF.25841482|     MarketPlace SKU|       FALSE|  NATIONAL|         stolica|       Office Chairs|     Office Supplies|    Office Furniture|    in stock|            N|  36.99|       null|           6186.44|        neft|                null|      01-04-2023|   Maharashtra|          Pune|    Pushkar Indulkar|    Google|              0|            0|       0.0|            0|PLAPMAX_BR_Plan_I...|                 PLA| 411007|industrybuying|1023602107|            4520.67|               null|                null|               null|               null|                36086|    Dicor seating LLP|             MP|          null|               null|                null|     Office Supplies|        Non PL|        Longtail New|Non PL Office Sup...|     Marketing|            02-04-2023|            07-04-2023|              YES|27AAPPI3486F1ZE|       null|        null|        null|  01-04-2023|    04-04-2023|         null|    1.4299E+13|  29.0|         Xpressbees|                     4397|               18|  5188.37|                  4397|            0|        null|           3300.0|                  4396.923729|            0.0|         3300.0| 06-04-2023|    7697|\n",
      "|01-04-2023|1023657335|PNE.AI...|    1023657335|23657335|  52236|  Android App|20533362|           delivered|  delivered|Powerhouse 51mm 2...|            6524.18|         5528.966|                   6524.1797|             1| 995.1796|             0.0|6524.18|    3383.7|  3383.7|          63.4|      15-11-2021| PNE.AIR.95302537|   Private Label SKU|       FALSE|   PRIVATE|      powerhouse|Portable Air Comp...|Hydraulics and Pn...|Air Compressors a...|    in stock|            N|   63.4|        0.0|               0.0|         cod|                null|      01-04-2023|   Maharashtra|          Pune|      rahul mirajkar|    Google|              0|            0|     149.0|            0|PLAPMAX_Lab_Supplies|                 PLA| 411033|industrybuying|1023657335|          5528.9658|               null|                null|               null|               null|                 null|                 null|            JIT|           HR1|               null|                null|          Pneumatics|     pvt_label|              PL New|       PL Pneumatics|     Marketing|            02-04-2023|            07-04-2023|               NO|           null|       null|        null|        null|  02-04-2023|    06-04-2023|         null|   1.77173E+13| 196.0|IMPL_Delhivery_10KG|                     5529|               18|  6673.18|                  5529|         null|        null|             null|                  5528.966102|            0.0|         3383.7| 06-04-2023|  8912.7|\n",
      "|01-04-2023|1023678607|PNE.ST...|    1023678607|23678607|5081281|  Android App|20545283|    shipped_complete|  cancelled|Aeroflex MA 25 St...|              997.1|           1040.0|                       997.1|             1|    152.1|             0.0|  997.1|     676.0|   676.0|          25.0|      30-09-2022| PNE.STA.57024731|     MarketPlace SKU|       FALSE|     LOCAL|        aeroflex| Pneumatic Cylinders|Hydraulics and Pn...|Pneumatic System ...|out of stock|            N|  28.21|       null|            1040.0|         cod|It's brought by l...|      01-04-2023|   West Bengal|        Howrah| Prodip Kumar Mandal|  firebase|              0|            0|   33.1762|            0|PLAPMAX_Hydraulic...|                 PLA| 711112|industrybuying|1023678607|               null|2023-04-02T10:24:19|72d6018a-2f79-4e7...|Funds Not Available|               USER|                 null|                 null|           NONE|          null|               null|                null|                null|        Non PL|        Longtail New|   Non PL Pneumatics|     Marketing|                  null|                  null|               NO|           null|       null|        null|        null|        null|          null|         null|          null|  null|               null|                      845|               18|1030.2762|                   845|            0|        null|             null|                        845.0|            0.0|          676.0| 06-04-2023|    1521|\n",
      "|01-04-2023|1023685520|SA.SA....|    1023685520|23685520|4992243|  Android App|20548755|           delivered|  delivered|SS & WW MAKE Oran...|            1663.24|           1620.0|                   1663.2378|            36|  79.2378|             0.0|1663.24|      30.0|  1080.0|         46.67|      05-11-2016| SA.SA.CO.1639574|     MarketPlace SKU|       FALSE|     LOCAL|      sai safety|       Coated Gloves|              Safety|       Safety Gloves|    in stock|            Y|  51.52|       null|              45.0|         cod|                null|      01-04-2023| Uttar Pradesh|      Azamgarh|Musheer haider Sayed|    Google|              0|            0|      69.0|            0|GDNM_Product_Viewers|                 GDN| 276204|industrybuying|1023685520|             45.456|               null|                null|               null|               null|                 7306| Sai Safety And Wo...|             MP|          null|               null|                null|              Safety|        Non PL|       Non PL Safety|    C1 Safety Gloves|     Marketing|            02-04-2023|            06-04-2023|               NO|           null|       null|        null|        null|  04-04-2023|    06-04-2023|         null|    1.4299E+13|  29.0|         Xpressbees|                     1584|                5|  1732.24|                  1584|            0|        null|             30.0|                  1584.038095|            0.0|         1080.0| 06-04-2023|    2664|\n",
      "|01-04-2023|1023662051|SAF.SA...|    1023662051|23662051|4976143|  Android App|20535252|           cancelled|  cancelled|Hillson Swag 1903...|                745|         832.5111|                       828.0|             1|     89.0|            83.0|  745.0|     588.0|   588.0|          null|      09-01-2023| SAF.SAF.27783011|     MarketPlace SKU|       FALSE|  NATIONAL|         hillson|        Safety Shoes|              Safety|        Safety Shoes|    in stock|            N|  26.58|       null|              null| credit_card|       I need size 8|      01-04-2023|     Telangana|       Kadthal|      ramesh gaddala|      null|             59|            0|       0.0|            0|                null|                null| 501359|industrybuying|1023662051|           744.2904|2023-04-01T13:25:08|rameshgaddala04@g...|Funds Not Available|               USER|                38601| C.M. PIAREY LAL A...|             MP|          null|               null|                null|                null|        Non PL|        Longtail New|     C1 Safety Shoes|     Marketing|            05-04-2023|            10-04-2023|               NO|           null|       null|        null|        null|        null|          null|         null|          null|  null|               null|                      739|               12|    804.0|                   739|            0|        null|            588.0|                  665.1785714|            0.0|          588.0| 06-04-2023|    1327|\n",
      "|01-04-2023|1023665676|SOL.PE...|    1023665676|23665676| 664612|  Android App|20536901|             shipped|    shipped|Luminous 445W 24V...|              39300|          39800.0|                     39800.0|             2|   4264.0|           500.0|39300.0|   14910.0| 29820.0|          null|      16-09-2022| SOL.PER.76921305|Planned Inventory...|       FALSE|  NATIONAL|        luminous|Mono PERC Solar P...|               Solar|        Solar Panels|    in stock|            N|  19.16|       null|              null|         upi|                null|      01-04-2023|        Kerala|Pathanamthitta|             Anish.S|      null|              0|            0|       0.0|            0|                null|                null| 689647|industrybuying|1023665676|          17766.756|               null|                null|               null|               null|                 null|                 null|            JIT|           HR1|               null|                null|                null|Plan Inventory|        Longtail New|      Plan Inventory|     Marketing|            02-04-2023|            07-04-2023|               NO|           null|       null|        null|        null|  03-04-2023|          null|         null|     235448423| 172.0|      Delhivery B2B|                    35536|               12|  39300.0|                 35536|         null|        null|             null|                  35089.28571|            0.0|        29820.0| 06-04-2023|   65356|\n",
      "|01-04-2023|1023660195|TOO.HA...|    1023660195|23660195| 469277|  Android App|20534724|    shipped_complete|    shipped|Taparia High Spee...|             286.33|            315.0|                    286.3261|             5|  43.3261|             0.0| 286.33|     40.95|  204.75|         18.51|      09-07-2020| TOO.HAC.32728303|     MarketPlace SKU|       FALSE|  NATIONAL|         taparia|      Hacksaw Blades| Tooling and Cutting|      Cutting Blades|    in stock|            Y|  21.95|        0.0|              63.0|         cod|                null|      01-04-2023|  Chhattisgarh|      dhamtari|   Devendra Rajpuria|  WhatsApp|           34.5|            0|   27.5569|            0|atc_drop_multiple...|                Tech| 493773|industrybuying|1023660195|          49.938525|               null|                null|               null|               null|                23050| 3S ENGINEERING CO...|             MP|          null|               null|                null| Tooling and Cutting|      noorders|                 nan|      Non PL Tooling|     Marketing|            05-04-2023|            10-04-2023|               NO|           null|       null|        null|        null|  04-04-2023|          null|         null|    1.4299E+13|  29.0|         Xpressbees|                      243|               18| 348.3869|                   243|            0|        null|            40.95|                  242.6525424|            0.0|         204.75| 06-04-2023|  447.75|\n",
      "|01-04-2023|1023674605|ELE.FL...|    1023674605|23674605|4818476|  Android App|20542753|    shipped_complete|    shipped|Kalinga Gold 2.5 ...|            2484.25|         4313.559|                      2760.0|             2|    421.0|          275.75|2484.25|     661.7|  1323.4|          null|      04-12-2020|ELE.FLA.102859482|Planned Inventory...|       FALSE|  NATIONAL|         kalinga|Flame Retardant (...|          Electrical|    Cables and Wires|    in stock|            N|  69.49|       null|              null|         upi|                null|      01-04-2023|  Chhattisgarh|          Durg|   Akhilesh Parashar|      null|              0|            0|       0.0|            0|                null|                null| 491001|industrybuying|1023674605|         1121.51533|               null|                null|               null|               null|                 null|                 null|            JIT|           HR1|               null|                null|          Electrical|Plan Inventory|BR Plan Inventory...|      Plan Inventory|     Marketing|            02-04-2023|            07-04-2023|              YES|22DXKPS8924K1ZT|       null|        null|        null|  02-04-2023|          null|         null|    1.4299E+14|  29.0|         Xpressbees|                     2339|               18|  2484.25|                  2339|         null|        null|             null|                   2105.29661|            0.0|         1323.4| 06-04-2023|  3662.4|\n",
      "|01-04-2023|1023667271|SAF.SA...|    1023667271|23667271|   null|       Mobile|20537764|shipped_and_returned|        RTO|Safari Gumboot an...|                568|            568.0|                       568.0|             1|     61.0|             0.0|  568.0|     375.0|   375.0|         35.14|      04-08-2017| SAF.SAF.13827504|     MarketPlace SKU|       FALSE|  NATIONAL|          safari|        Safety Shoes|              Safety|        Safety Shoes|    in stock|            N|  35.14|       null|              null|         cod|                null|      01-04-2023|   Uttaranchal|    Uttarkashi|   Shashwat bhandari|   Organic|             59|            0|      39.0|            0|                null|https://www.googl...| 249193|industrybuying|1023667271|            506.775|               null|                null|               null|               null|                  657| M/S SOURCE INDIA ...|             MP|          null|                657|M/S SOURCE INDIA ...|              Safety|        Non PL|       Non PL Safety|     C1 Safety Shoes|     Marketing|            02-04-2023|            06-04-2023|               NO|           null|       null|        null|        null|  01-04-2023|          null|   05-04-2023|   1.77169E+13| 194.0| IMPL_Delhivery_3KG|                      507|               12|    666.0|                   507|            0|        null|            375.0|                  507.1428571|            0.0|          375.0| 06-04-2023|     882|\n",
      "|01-04-2023|1023673784|SAF.SA...|    1023673784|23673784|   null|       Mobile|20542146|             shipped|    shipped|Safari Gumboot an...|                438|            438.0|                       438.0|             1|     47.0|             0.0|  438.0|     320.0|   320.0|         21.17|      04-08-2017| SAF.SAF.19827466|     MarketPlace SKU|       FALSE|  NATIONAL|          safari|        Safety Shoes|              Safety|        Safety Shoes|    in stock|            N|  21.17|       null|             401.2| credit_card|                null|      01-04-2023|         Assam|     Karimganj|        Pranab borah|    Google|             69|            0|       0.0|            0|PLAPMAX_C1_Safety...|                 PLA| 788710|industrybuying|1023673784|            387.744|               null|                null|               null|               null|                  657| M/S SOURCE INDIA ...|             MP|          null|                657|M/S SOURCE INDIA ...|              Safety|        Non PL|       Non PL Safety|     C1 Safety Shoes|     Marketing|            06-04-2023|            11-04-2023|               NO|           null|       null|        null|        null|  04-04-2023|          null|         null|    1.4299E+13|  29.0|         Xpressbees|                      391|               12|    507.0|                   391|            0|        null|            320.0|                  391.0714286|            0.0|          320.0| 06-04-2023|     711|\n",
      "|01-04-2023|1023682505|HA.HA0...|    1023682505|23682505|5078643|      Desktop|20547195|              packed|  confirmed|Yato YT-8006 Axe ...|               9900|           9900.0|                      9900.0|             5|   1510.0|             0.0| 9900.0|   1392.11| 6960.55|         18.69|      12-03-2016|    HA.HA0.750207|     MarketPlace SKU|       FALSE|  NATIONAL|            yato|  Hammer Accessories|          Hand Tools|             Hammers|    in stock|            N|  21.95|        0.0|            1907.0| credit_card|                null|      01-04-2023|Madhya Pradesh|        Indore|BMR Wildlife Serv...|    Google|              0|            0|       0.0|            0|  PLAPMAX_Hand_Tools|                 PLA| 452011|industrybuying|1023682505|        1697.678145|               null|                null|               null|               null|                  745|    Aron Technologies|             MP|          null|                745|   Aron Technologies|          Hand Tools|        Non PL|Low GMV x Low Ord...|   Non PL Hand Tools|     Marketing|            06-04-2023|            11-04-2023|              YES|23AAWFB3652M1Z0|       null|        null|        null|        null|          null|         null|          null|  null|               null|                     8390|               18|   9900.0|                  8390|            0|        null|          1392.11|                  8389.830508|            0.0|        6960.55| 06-04-2023|15350.55|\n",
      "|01-04-2023|1023666931|HAN.SC...|    1023666931|23666931|2093907|  Android App|20537585|                 cod|  confirmed|Yato YT-2827 Insu...|                838|            943.0|                       838.0|             1|    128.0|             0.0|  838.0|    549.07|  549.07|         28.24|      30-07-2022| HAN.SCR.66635398|     MarketPlace SKU|       FALSE|  NATIONAL|            yato|     Screwdriver Set|          Hand Tools|Screwdriver & Nut...|    in stock|            N|  29.87|       null|             943.0|         cod|                null|      01-04-2023|        Kerala|        KOLLAM|               manoj|    Google|              0|            0|      69.0|            0|PLAPMAX_Private_L...|                 PLA| 691019|industrybuying|1023666931|         713.077209|               null|                null|               null|               null|                  745|    Aron Technologies|             MP|          null|                745|   Aron Technologies|                null|        Non PL|        Longtail New|   Non PL Hand Tools|     Marketing|            06-04-2023|            11-04-2023|               NO|           null|       null|        null|        null|        null|          null|         null|          null|  null|               null|                      710|               18|    907.0|                   710|            0|        null|           549.07|                  710.1694915|            0.0|         549.07| 06-04-2023| 1259.07|\n",
      "|01-04-2023|1023657838|LUB.BU...|    1023657838|23657838|  52236|  Android App|20533810|           cancelled|  cancelled|Yato Oil Transfer...|               1380|           1380.0|                      1380.0|             1|    211.0|             0.0| 1380.0|    970.56|  970.56|         14.94|      27-02-2023| LUB.BUC.98169421|     MarketPlace SKU|       FALSE|  NATIONAL|            yato|     Bucket Oil Pump| Lubricants and Oils|Fuel & Oil Transf...|    in stock|            N|  17.65|        0.0|            1348.0|         cod|            too dily|      01-04-2023|   Maharashtra|          Pune|      rahul mirajkar|    Google|              0|            0|      69.0|            0|PLAPMAX_Lab_Supplies|                 PLA| 411033|industrybuying|1023657838|         1141.86384|2023-04-05T21:18:26|               52236|  Delay In Delivery|               USER|                  745|    Aron Technologies|             MP|          null|                745|   Aron Technologies|                null|           NEW|                 NEW|New Launch Februa...|     Marketing|            05-04-2023|            10-04-2023|               NO|           null|       null|        null|        null|        null|          null|         null|          null|  null|               null|                     1169|               18|   1449.0|                  1169|            0|        null|           970.56|                  1169.491525|            0.0|         970.56| 06-04-2023| 2139.56|\n",
      "|01-04-2023|1023663516|LUB.OI...|    1023663516|23663516| 993601|  Android App|20535779|           cancelled|  cancelled|Yato Oil Can With...|                388|            395.0|                       388.0|             1|     59.0|             0.0|  388.0|     284.4|   284.4|         14.94|      27-02-2023| LUB.OIL.98169923|     MarketPlace SKU|       FALSE|  NATIONAL|            yato|            Oil cans| Lubricants and Oils|            Oil cans|    in stock|            N|  16.28|        0.0|             395.0|         cod|                 yes|      01-04-2023| Uttar Pradesh|         Rasra|Satya narayan sharma|    Direct|             59|            0|      39.0|            0|                null|                null| 221716|industrybuying|1023663516|          330.70032|2023-04-01T08:49:12|satyaasharma989@g...|  Delay In Delivery|               USER|                  745|    Aron Technologies|             MP|          null|                745|   Aron Technologies|                null|           NEW|                 NEW|New Launch Februa...|     Marketing|            05-04-2023|            09-04-2023|               NO|           null|       null|        null|        null|        null|          null|         null|          null|  null|               null|                      329|               18|    486.0|                   329|            0|        null|            284.4|                  328.8135593|            0.0|          284.4| 06-04-2023|   613.4|\n",
      "|01-04-2023|1023657550|ELE.HE...|    1023657550|23657550|4912245|      Desktop|20533567|   partially_shipped|  confirmed|Yato Heat Shrink ...|                268|            269.0|                       268.0|             1|     41.0|             0.0|  268.0|    193.68|  193.68|         14.94|      23-02-2023|ELE.HEA.108135108|     MarketPlace SKU|       FALSE|  NATIONAL|            yato|   Heat Shrink Tubes|Electronics & Rob...|       Interconnects|    in stock|            N|  17.65|        0.0|             269.0|         cod|                null|      01-04-2023|   West Bengal|       Birbhum|Dr. Sushil Bhatta...|     Email|              0|            0|    7.3537|            0|BE_31_03_23-Top_L...|           Broadcast| 731302|industrybuying|1023657550|          227.86452|               null|                null|               null|               null|                  745|    Aron Technologies|             MP|          null|                745|   Aron Technologies|                null|           NEW|                 NEW|New Launch Februa...|     Marketing|            05-04-2023|            10-04-2023|               NO|           null|       null|        null|        null|        null|          null|         null|          null|  null|               null|                      227|               18| 275.3537|                   227|            0|        null|           193.68|                  227.1186441|            0.0|         193.68| 06-04-2023|  420.68|\n",
      "|01-04-2023|1023657270|PU.MO....|    1023657270|23657270|5074727|       Mobile|20533295|           intransit|    shipped|Kirloskar Jalraj ...|               4990|           4990.0|                      4990.0|             1|    761.0|             0.0| 4990.0|    3800.0|  3800.0|         14.13|      19-05-2015|     PU.MO.286380|     MarketPlace SKU|       FALSE|  NATIONAL|       kirloskar|Domestic Monobloc...|               Pumps|         Water Pumps|    in stock|            N|  14.13|        0.0|           4528.13|         upi|                null|      01-04-2023|           Goa|     Sanvordem|   Dr. Nidhi Marathe|    Google|              0|            0|       0.0|            0|PLAPMAX_BR_Plan_I...|                 PLA| 403704|industrybuying|1023657270|            4336.94|               null|                null|               null|               null|                 null|                 null|            JIT|           HR1|                788|  Motor Sales Agency|               Pumps|Plan Inventory|BR Plan Inventory...|      Plan Inventory|     Marketing|            01-04-2023|            06-04-2023|               NO|           null|       null|        null|        null|  02-04-2023|          null|         null|   1.77173E+13| 196.0|IMPL_Delhivery_10KG|                     4229|               18|   4990.0|                  4229|         null|        null|             null|                  4228.813559|            0.0|         3800.0| 06-04-2023|    8029|\n",
      "+----------+--------------------+--------------+--------+-------+-------------+--------+--------------------+-----------+--------------------+-------------------+-----------------+----------------------------+--------------+---------+----------------+-------+----------+--------+--------------+----------------+-----------------+--------------------+------------+----------+----------------+--------------------+--------------------+--------------------+------------+-------------+-------+-----------+------------------+------------+--------------------+----------------+--------------+--------------+--------------------+----------+---------------+-------------+----------+-------------+--------------------+--------------------+-------+--------------+----------+-------------------+-------------------+--------------------+-------------------+-------------------+---------------------+---------------------+---------------+--------------+-------------------+--------------------+--------------------+--------------+--------------------+--------------------+--------------+----------------------+----------------------+-----------------+---------------+-----------+------------+------------+------------+--------------+-------------+--------------+------+-------------------+-------------------------+-----------------+---------+----------------------+-------------+------------+-----------------+-----------------------------+---------------+---------------+-----------+--------+\n",
      "only showing top 20 rows\n",
      "\n"
     ]
    }
   ],
   "source": [
    "training.show()"
   ]
  },
  {
   "cell_type": "code",
   "execution_count": 79,
   "id": "18f8cf4d",
   "metadata": {},
   "outputs": [
    {
     "data": {
      "text/plain": [
       "DataFrame[order_date: string, UID: string, order_no_final: int, order_id: int, user_id: int, booked_device: string, id: int, order_status: string, Line_status: string, Product_title: string, tax_inclusive_price: string, striked_off_price: double, original_tax_inclusive_price: double, order_quantity: int, order_tax: double, coupoun_discount: double, total: double, logical_cp: double, total_cp: double, logical_markup: double, Sku_created_Date: string, sku: string, sku_type: string, SpecialOrder: string, brand_type: string, Brand: string, leaf_category: string, category: string, c1_category: string, stock_status: string, is_consumable: string, mark_up: string, logical_mrp: double, logical_list_price: double, payment_mode: string, reason_cancellation: string, OrderconfirmDate: string, state: string, city: string, name: string, utm_source: string, shipping_charge: string, ib_cash_debit: int, cod_charge: double, bulk_discount: int, utm_campaign: string, utm_medium: string, pincode: string, category_env: string, order_no: string, tax_exclusive_price: double, cancellation_date: string, modified_by: string, cancel_comment: string, cancellation_source: string, allocated_vendor_code: int, allocated_vendor_name: string, allocation_mode: string, warehouse_code: string, logical_seller_code: string, logical_seller_name: string, custom_label_0: string, custom_label_1: string, custom_label_2: string, custom_label_3: string, custom_label_4: string, expected_dispatch_date: string, expected_delivery_date: string, Order_Check_Gstin: string, gstin_number: string, dealer_code: string, dealer_gstno: string, dealer_phone: bigint, Shipped_Date: string, Delivered_Date: string, Returned_Date: string, waybill_number: string, lsp_id: double, LSP_NAME: string, total_tax_exclusive_price: string, tax_in_percentage: int, B_GMV: double, tax_excl_incl_ship_cod: int, is_grab_order: int, grabbed_date: string, vendor_cost_price: double, tax_excl_price_exclude_coupon: double, part_cod_amount: double, total_cp_actual: double, report_date: string, Margin: string]"
      ]
     },
     "execution_count": 79,
     "metadata": {},
     "output_type": "execute_result"
    }
   ],
   "source": [
    "training.dropna()"
   ]
  },
  {
   "cell_type": "code",
   "execution_count": 59,
   "id": "e9feac8e",
   "metadata": {},
   "outputs": [
    {
     "name": "stdout",
     "output_type": "stream",
     "text": [
      "root\n",
      " |-- order_date: string (nullable = true)\n",
      " |-- UID: string (nullable = true)\n",
      " |-- order_no_final: integer (nullable = true)\n",
      " |-- order_id: integer (nullable = true)\n",
      " |-- user_id: integer (nullable = true)\n",
      " |-- booked_device: string (nullable = true)\n",
      " |-- id: integer (nullable = true)\n",
      " |-- order_status: string (nullable = true)\n",
      " |-- Line_status: string (nullable = true)\n",
      " |-- Product_title: string (nullable = true)\n",
      " |-- tax_inclusive_price: string (nullable = true)\n",
      " |-- striked_off_price: double (nullable = true)\n",
      " |-- original_tax_inclusive_price: double (nullable = true)\n",
      " |-- order_quantity: integer (nullable = true)\n",
      " |-- order_tax: double (nullable = true)\n",
      " |-- coupoun_discount: double (nullable = true)\n",
      " |-- total: double (nullable = true)\n",
      " |-- logical_cp: double (nullable = true)\n",
      " |-- total_cp: double (nullable = true)\n",
      " |-- logical_markup: double (nullable = true)\n",
      " |-- Sku_created_Date: string (nullable = true)\n",
      " |-- sku: string (nullable = true)\n",
      " |-- sku_type: string (nullable = true)\n",
      " |-- SpecialOrder: string (nullable = true)\n",
      " |-- brand_type: string (nullable = true)\n",
      " |-- Brand: string (nullable = true)\n",
      " |-- leaf_category: string (nullable = true)\n",
      " |-- category: string (nullable = true)\n",
      " |-- c1_category: string (nullable = true)\n",
      " |-- stock_status: string (nullable = true)\n",
      " |-- is_consumable: string (nullable = true)\n",
      " |-- mark_up: string (nullable = true)\n",
      " |-- logical_mrp: double (nullable = true)\n",
      " |-- logical_list_price: double (nullable = true)\n",
      " |-- payment_mode: string (nullable = true)\n",
      " |-- reason_cancellation: string (nullable = true)\n",
      " |-- OrderconfirmDate: string (nullable = true)\n",
      " |-- state: string (nullable = true)\n",
      " |-- city: string (nullable = true)\n",
      " |-- name: string (nullable = true)\n",
      " |-- utm_source: string (nullable = true)\n",
      " |-- shipping_charge: string (nullable = true)\n",
      " |-- ib_cash_debit: integer (nullable = true)\n",
      " |-- cod_charge: double (nullable = true)\n",
      " |-- bulk_discount: integer (nullable = true)\n",
      " |-- utm_campaign: string (nullable = true)\n",
      " |-- utm_medium: string (nullable = true)\n",
      " |-- pincode: string (nullable = true)\n",
      " |-- category_env: string (nullable = true)\n",
      " |-- order_no: string (nullable = true)\n",
      " |-- tax_exclusive_price: double (nullable = true)\n",
      " |-- cancellation_date: string (nullable = true)\n",
      " |-- modified_by: string (nullable = true)\n",
      " |-- cancel_comment: string (nullable = true)\n",
      " |-- cancellation_source: string (nullable = true)\n",
      " |-- allocated_vendor_code: integer (nullable = true)\n",
      " |-- allocated_vendor_name: string (nullable = true)\n",
      " |-- allocation_mode: string (nullable = true)\n",
      " |-- warehouse_code: string (nullable = true)\n",
      " |-- logical_seller_code: string (nullable = true)\n",
      " |-- logical_seller_name: string (nullable = true)\n",
      " |-- custom_label_0: string (nullable = true)\n",
      " |-- custom_label_1: string (nullable = true)\n",
      " |-- custom_label_2: string (nullable = true)\n",
      " |-- custom_label_3: string (nullable = true)\n",
      " |-- custom_label_4: string (nullable = true)\n",
      " |-- expected_dispatch_date: string (nullable = true)\n",
      " |-- expected_delivery_date: string (nullable = true)\n",
      " |-- Order_Check_Gstin: string (nullable = true)\n",
      " |-- gstin_number: string (nullable = true)\n",
      " |-- dealer_code: string (nullable = true)\n",
      " |-- dealer_gstno: string (nullable = true)\n",
      " |-- dealer_phone: long (nullable = true)\n",
      " |-- Shipped_Date: string (nullable = true)\n",
      " |-- Delivered_Date: string (nullable = true)\n",
      " |-- Returned_Date: string (nullable = true)\n",
      " |-- waybill_number: string (nullable = true)\n",
      " |-- lsp_id: double (nullable = true)\n",
      " |-- LSP_NAME: string (nullable = true)\n",
      " |-- total_tax_exclusive_price: string (nullable = true)\n",
      " |-- tax_in_percentage: integer (nullable = true)\n",
      " |-- B_GMV: double (nullable = true)\n",
      " |-- tax_excl_incl_ship_cod: integer (nullable = true)\n",
      " |-- is_grab_order: integer (nullable = true)\n",
      " |-- grabbed_date: string (nullable = true)\n",
      " |-- vendor_cost_price: double (nullable = true)\n",
      " |-- tax_excl_price_exclude_coupon: double (nullable = true)\n",
      " |-- part_cod_amount: double (nullable = true)\n",
      " |-- total_cp_actual: double (nullable = true)\n",
      " |-- report_date: string (nullable = true)\n",
      " |-- Margin: string (nullable = true)\n",
      "\n"
     ]
    }
   ],
   "source": [
    "#to find schema\n",
    "training.printSchema()"
   ]
  },
  {
   "cell_type": "code",
   "execution_count": 54,
   "id": "0a80dbd5",
   "metadata": {},
   "outputs": [
    {
     "data": {
      "text/plain": [
       "['order_date',\n",
       " 'UID',\n",
       " 'order_no_final',\n",
       " 'order_id',\n",
       " 'user_id',\n",
       " 'booked_device',\n",
       " 'id',\n",
       " 'order_status',\n",
       " 'Line_status',\n",
       " 'Product_title',\n",
       " 'tax_inclusive_price',\n",
       " 'striked_off_price',\n",
       " 'original_tax_inclusive_price',\n",
       " 'order_quantity',\n",
       " 'order_tax',\n",
       " 'coupoun_discount',\n",
       " 'total',\n",
       " 'logical_cp',\n",
       " 'total_cp',\n",
       " 'logical_markup',\n",
       " 'Sku_created_Date',\n",
       " 'sku',\n",
       " 'sku_type',\n",
       " 'SpecialOrder',\n",
       " 'brand_type',\n",
       " 'Brand',\n",
       " 'leaf_category',\n",
       " 'category',\n",
       " 'c1_category',\n",
       " 'stock_status',\n",
       " 'is_consumable',\n",
       " 'mark_up',\n",
       " 'logical_mrp',\n",
       " 'logical_list_price',\n",
       " 'payment_mode',\n",
       " 'reason_cancellation',\n",
       " 'OrderconfirmDate',\n",
       " 'state',\n",
       " 'city',\n",
       " 'name',\n",
       " 'utm_source',\n",
       " 'shipping_charge',\n",
       " 'ib_cash_debit',\n",
       " 'cod_charge',\n",
       " 'bulk_discount',\n",
       " 'utm_campaign',\n",
       " 'utm_medium',\n",
       " 'pincode',\n",
       " 'category_env',\n",
       " 'order_no',\n",
       " 'tax_exclusive_price',\n",
       " 'cancellation_date',\n",
       " 'modified_by',\n",
       " 'cancel_comment',\n",
       " 'cancellation_source',\n",
       " 'allocated_vendor_code',\n",
       " 'allocated_vendor_name',\n",
       " 'allocation_mode',\n",
       " 'warehouse_code',\n",
       " 'logical_seller_code',\n",
       " 'logical_seller_name',\n",
       " 'custom_label_0',\n",
       " 'custom_label_1',\n",
       " 'custom_label_2',\n",
       " 'custom_label_3',\n",
       " 'custom_label_4',\n",
       " 'expected_dispatch_date',\n",
       " 'expected_delivery_date',\n",
       " 'Order_Check_Gstin',\n",
       " 'gstin_number',\n",
       " 'dealer_code',\n",
       " 'dealer_gstno',\n",
       " 'dealer_phone',\n",
       " 'Shipped_Date',\n",
       " 'Delivered_Date',\n",
       " 'Returned_Date',\n",
       " 'waybill_number',\n",
       " 'lsp_id',\n",
       " 'LSP_NAME',\n",
       " 'total_tax_exclusive_price',\n",
       " 'tax_in_percentage',\n",
       " 'B_GMV',\n",
       " 'tax_excl_incl_ship_cod',\n",
       " 'is_grab_order',\n",
       " 'grabbed_date',\n",
       " 'vendor_cost_price',\n",
       " 'tax_excl_price_exclude_coupon',\n",
       " 'part_cod_amount',\n",
       " 'total_cp_actual',\n",
       " 'report_date',\n",
       " 'Margin']"
      ]
     },
     "execution_count": 54,
     "metadata": {},
     "output_type": "execute_result"
    }
   ],
   "source": [
    "training.columns"
   ]
  },
  {
   "cell_type": "code",
   "execution_count": 100,
   "id": "5a31feb1",
   "metadata": {},
   "outputs": [],
   "source": [
    "training = training.dropna(subset=['tax_exclusive_price'])"
   ]
  },
  {
   "cell_type": "code",
   "execution_count": 101,
   "id": "520a35a5",
   "metadata": {},
   "outputs": [],
   "source": [
    "from pyspark.ml.feature import VectorAssembler"
   ]
  },
  {
   "cell_type": "code",
   "execution_count": 102,
   "id": "3a14e71d",
   "metadata": {},
   "outputs": [],
   "source": [
    "featureassembbler=VectorAssembler(inputCols=['total_cp','tax_exclusive_price'],outputCol='Independent Features')"
   ]
  },
  {
   "cell_type": "code",
   "execution_count": 103,
   "id": "ba52544d",
   "metadata": {},
   "outputs": [],
   "source": [
    "output=featureassembbler.transform(training)"
   ]
  },
  {
   "cell_type": "code",
   "execution_count": 104,
   "id": "239ebf8c",
   "metadata": {},
   "outputs": [
    {
     "name": "stdout",
     "output_type": "stream",
     "text": [
      "+----------+--------------------+--------------+--------+-------+-------------+--------+--------------------+-----------+--------------------+-------------------+-----------------+----------------------------+--------------+---------+----------------+-------+----------+--------+--------------+----------------+-----------------+--------------------+------------+----------+----------------+--------------------+--------------------+--------------------+------------+-------------+-------+-----------+------------------+------------+-------------------+----------------+--------------+--------------+--------------------+------------------+---------------+-------------+----------+-------------+--------------------+--------------------+-------+--------------+----------+-------------------+-------------------+--------------------+-------------------+-------------------+---------------------+---------------------+---------------+--------------+-------------------+--------------------+--------------------+--------------+--------------------+--------------------+--------------+----------------------+----------------------+-----------------+---------------+-----------+------------+------------+------------+--------------+-------------+--------------+------+-------------------+-------------------------+-----------------+--------+----------------------+-------------+------------+-----------------+-----------------------------+---------------+---------------+-----------+--------+--------------------+\n",
      "|order_date|                 UID|order_no_final|order_id|user_id|booked_device|      id|        order_status|Line_status|       Product_title|tax_inclusive_price|striked_off_price|original_tax_inclusive_price|order_quantity|order_tax|coupoun_discount|  total|logical_cp|total_cp|logical_markup|Sku_created_Date|              sku|            sku_type|SpecialOrder|brand_type|           Brand|       leaf_category|            category|         c1_category|stock_status|is_consumable|mark_up|logical_mrp|logical_list_price|payment_mode|reason_cancellation|OrderconfirmDate|         state|          city|                name|        utm_source|shipping_charge|ib_cash_debit|cod_charge|bulk_discount|        utm_campaign|          utm_medium|pincode|  category_env|  order_no|tax_exclusive_price|  cancellation_date|         modified_by|     cancel_comment|cancellation_source|allocated_vendor_code|allocated_vendor_name|allocation_mode|warehouse_code|logical_seller_code| logical_seller_name|      custom_label_0|custom_label_1|      custom_label_2|      custom_label_3|custom_label_4|expected_dispatch_date|expected_delivery_date|Order_Check_Gstin|   gstin_number|dealer_code|dealer_gstno|dealer_phone|Shipped_Date|Delivered_Date|Returned_Date|waybill_number|lsp_id|           LSP_NAME|total_tax_exclusive_price|tax_in_percentage|   B_GMV|tax_excl_incl_ship_cod|is_grab_order|grabbed_date|vendor_cost_price|tax_excl_price_exclude_coupon|part_cod_amount|total_cp_actual|report_date|  Margin|Independent Features|\n",
      "+----------+--------------------+--------------+--------+-------+-------------+--------+--------------------+-----------+--------------------+-------------------+-----------------+----------------------------+--------------+---------+----------------+-------+----------+--------+--------------+----------------+-----------------+--------------------+------------+----------+----------------+--------------------+--------------------+--------------------+------------+-------------+-------+-----------+------------------+------------+-------------------+----------------+--------------+--------------+--------------------+------------------+---------------+-------------+----------+-------------+--------------------+--------------------+-------+--------------+----------+-------------------+-------------------+--------------------+-------------------+-------------------+---------------------+---------------------+---------------+--------------+-------------------+--------------------+--------------------+--------------+--------------------+--------------------+--------------+----------------------+----------------------+-----------------+---------------+-----------+------------+------------+------------+--------------+-------------+--------------+------+-------------------+-------------------------+-----------------+--------+----------------------+-------------+------------+-----------------+-----------------------------+---------------+---------------+-----------+--------+--------------------+\n",
      "|01-04-2023|1023658188|CLE.IN...|    1023658188|23658188|   null|      android|20534080|           delivered|  delivered|Aristo Wheel Wast...|               2790|          4569.84|                      2790.0|             1|    426.0|             0.0| 2790.0|    1666.0|  1666.0|          null|      04-05-2017| CLE.IND.12522154|Planned Inventory...|       FALSE|  NATIONAL|          aristo|Dustbins and Wast...|            Cleaning|   Waste & Recycling|    in stock|            N|  41.44|       null|              null|         upi|               null|      01-04-2023|   Maharashtra|          Pune|     Yogiraj Chopade|              null|              0|            0|       0.0|            0|                null|                null| 411019|industrybuying|1023658188|          2356.3904|               null|                null|               null|               null|                 null|                 null|            JIT|           HR1|               null|                null|            Cleaning|Plan Inventory|                   0|      Plan Inventory|     Marketing|            02-04-2023|            07-04-2023|              YES|27AABCW5970D1Z8|       null|        null|        null|  02-04-2023|    05-04-2023|         null|     234047203| 172.0|      Delhivery B2B|                     2364|               18|  2790.0|                  2364|         null|        null|             null|                   2364.40678|            0.0|         1666.0| 06-04-2023|    4030|  [1666.0,2356.3904]|\n",
      "|01-04-2023|1023678514|FAS.SE...|    1023678514|23678514|5081506|      android|20545228|   partially_shipped|    shipped|Agarwal Fastners ...|                448|            448.0|                       448.0|             1|     68.0|             0.0|  448.0|     289.0|   289.0|          null|      23-08-2021| FAS.SET.64648835|     MarketPlace SKU|       FALSE|  NATIONAL|agarwal fastners|          Set Screws|           Fasteners|          Set Screws|    in stock|            Y|  33.33|       null|              null|         upi|               null|      01-04-2023|     Telangana|   Karim Nagar|       Satyanarayana|              null|              0|            0|       0.0|            0|                null|                null| 505001|industrybuying|1023678514|           385.3237|               null|                null|               null|               null|                 2177| AB INDUSTRIAL SUP...|             MP|          null|               null|                null|           Fasteners|        Non PL|        Longtail New|    Non PL Fasteners|     Marketing|            06-04-2023|            10-04-2023|               NO|           null|       null|        null|        null|  04-04-2023|          null|         null|    1.4299E+13|  29.0|         Xpressbees|                      380|               18|   448.0|                   380|            0|        null|            289.0|                  379.6610169|            0.0|          289.0| 06-04-2023|     669|    [289.0,385.3237]|\n",
      "|01-04-2023|1023675209|IND.TI...|    1023675209|23675209|5029385|       Mobile|20543164|    shipped_complete|    shipped|Multispan 96 x 96...|            1697.78|           1755.0|                    1697.784|             1|  258.784|             0.0|1697.78|    1000.0|  1000.0|         43.88|      18-08-2017| IND.TIM.14954290|     MarketPlace SKU|       FALSE|     LOCAL|       multispan|              Timers|Industrial Automa...|              Timers|    in stock|            N|  49.25|        0.0|            1755.0| credit_card|               null|      01-04-2023|    Tamil Nadu|         HOSUR|       Ramanujan K S|            Direct|              0|            0|       0.0|            0|                null|                null| 635109|industrybuying|1023675209|             1492.5|               null|                null|               null|               null|                29894|     Dhruv Enterprise|             MP|          null|               null|                null|Industrial Automa...|        Non PL|Medium GMV x High...|Non PL Industrial...|     Marketing|            02-04-2023|            07-04-2023|              YES|33AADVL7592E1ZG|       null|        null|        null|  05-04-2023|          null|         null|   3.23296E+11| 136.0|        Amazon ship|                     1439|               18| 1697.78|                  1439|            0|        null|           1000.0|                   1438.79661|            0.0|         1000.0| 06-04-2023|    2439|     [1000.0,1492.5]|\n",
      "|01-04-2023|1023654716|LA.LA....|    1023654716|23654716| 769915|  Android App|20531876|             shipped|    shipped|Scientech SE-224 ...|               4980|           5500.0|                      5480.0|             1|    836.0|           500.0| 4980.0|    3465.0|  3465.0|          null|      21-07-2016| LA.LA.GE.1561022|     MarketPlace SKU|       FALSE|     LOCAL|       scientech|General Laborator...|        Lab Supplies|Laboratory Equipm...|    in stock|            N|  36.99|       null|              null| credit_card|               null|      01-04-2023|        Kerala|         adoor|           Principal|              null|              0|            0|       0.0|            0|                null|                null| 689501|industrybuying|1023654716|          4746.7035|               null|                null|               null|               null|                 5722| M/.s SCIENCE ENTE...|             MP|          null|               null|                null|        Lab Supplies|        Non PL|No GMV x No Order...| Non PL Lab Supplies|     Marketing|            03-04-2023|            08-04-2023|               NO|           null|       null|        null|        null|  01-04-2023|          null|         null|   1.77173E+13| 196.0|IMPL_Delhivery_10KG|                     4644|               18|  4980.0|                  4644|            0|        null|           3465.0|                  4220.338983|            0.0|         3465.0| 06-04-2023|    8109|  [3465.0,4746.7035]|\n",
      "|30-03-2023|1023602107|OFF.OF...|    1023602107|23602107|   null|      Desktop|20505595|           delivered|  delivered|Stolica Leatherit...|            5188.37|          6186.44|                   5188.3657|             1| 791.3656|             0.0|5188.37|    3300.0|  3300.0|         33.24|      28-03-2022| OFF.OFF.25841482|     MarketPlace SKU|       FALSE|  NATIONAL|         stolica|       Office Chairs|     Office Supplies|    Office Furniture|    in stock|            N|  36.99|       null|           6186.44|        neft|               null|      01-04-2023|   Maharashtra|          Pune|    Pushkar Indulkar|            Google|              0|            0|       0.0|            0|PLAPMAX_BR_Plan_I...|                 PLA| 411007|industrybuying|1023602107|            4520.67|               null|                null|               null|               null|                36086|    Dicor seating LLP|             MP|          null|               null|                null|     Office Supplies|        Non PL|        Longtail New|Non PL Office Sup...|     Marketing|            02-04-2023|            07-04-2023|              YES|27AAPPI3486F1ZE|       null|        null|        null|  01-04-2023|    04-04-2023|         null|    1.4299E+13|  29.0|         Xpressbees|                     4397|               18| 5188.37|                  4397|            0|        null|           3300.0|                  4396.923729|            0.0|         3300.0| 06-04-2023|    7697|    [3300.0,4520.67]|\n",
      "|01-04-2023|1023657335|PNE.AI...|    1023657335|23657335|  52236|  Android App|20533362|           delivered|  delivered|Powerhouse 51mm 2...|            6524.18|         5528.966|                   6524.1797|             1| 995.1796|             0.0|6524.18|    3383.7|  3383.7|          63.4|      15-11-2021| PNE.AIR.95302537|   Private Label SKU|       FALSE|   PRIVATE|      powerhouse|Portable Air Comp...|Hydraulics and Pn...|Air Compressors a...|    in stock|            N|   63.4|        0.0|               0.0|         cod|               null|      01-04-2023|   Maharashtra|          Pune|      rahul mirajkar|            Google|              0|            0|     149.0|            0|PLAPMAX_Lab_Supplies|                 PLA| 411033|industrybuying|1023657335|          5528.9658|               null|                null|               null|               null|                 null|                 null|            JIT|           HR1|               null|                null|          Pneumatics|     pvt_label|              PL New|       PL Pneumatics|     Marketing|            02-04-2023|            07-04-2023|               NO|           null|       null|        null|        null|  02-04-2023|    06-04-2023|         null|   1.77173E+13| 196.0|IMPL_Delhivery_10KG|                     5529|               18| 6673.18|                  5529|         null|        null|             null|                  5528.966102|            0.0|         3383.7| 06-04-2023|  8912.7|  [3383.7,5528.9658]|\n",
      "|01-04-2023|1023685520|SA.SA....|    1023685520|23685520|4992243|  Android App|20548755|           delivered|  delivered|SS & WW MAKE Oran...|            1663.24|           1620.0|                   1663.2378|            36|  79.2378|             0.0|1663.24|      30.0|  1080.0|         46.67|      05-11-2016| SA.SA.CO.1639574|     MarketPlace SKU|       FALSE|     LOCAL|      sai safety|       Coated Gloves|              Safety|       Safety Gloves|    in stock|            Y|  51.52|       null|              45.0|         cod|               null|      01-04-2023| Uttar Pradesh|      Azamgarh|Musheer haider Sayed|            Google|              0|            0|      69.0|            0|GDNM_Product_Viewers|                 GDN| 276204|industrybuying|1023685520|             45.456|               null|                null|               null|               null|                 7306| Sai Safety And Wo...|             MP|          null|               null|                null|              Safety|        Non PL|       Non PL Safety|    C1 Safety Gloves|     Marketing|            02-04-2023|            06-04-2023|               NO|           null|       null|        null|        null|  04-04-2023|    06-04-2023|         null|    1.4299E+13|  29.0|         Xpressbees|                     1584|                5| 1732.24|                  1584|            0|        null|             30.0|                  1584.038095|            0.0|         1080.0| 06-04-2023|    2664|     [1080.0,45.456]|\n",
      "|01-04-2023|1023662051|SAF.SA...|    1023662051|23662051|4976143|  Android App|20535252|           cancelled|  cancelled|Hillson Swag 1903...|                745|         832.5111|                       828.0|             1|     89.0|            83.0|  745.0|     588.0|   588.0|          null|      09-01-2023| SAF.SAF.27783011|     MarketPlace SKU|       FALSE|  NATIONAL|         hillson|        Safety Shoes|              Safety|        Safety Shoes|    in stock|            N|  26.58|       null|              null| credit_card|      I need size 8|      01-04-2023|     Telangana|       Kadthal|      ramesh gaddala|              null|             59|            0|       0.0|            0|                null|                null| 501359|industrybuying|1023662051|           744.2904|2023-04-01T13:25:08|rameshgaddala04@g...|Funds Not Available|               USER|                38601| C.M. PIAREY LAL A...|             MP|          null|               null|                null|                null|        Non PL|        Longtail New|     C1 Safety Shoes|     Marketing|            05-04-2023|            10-04-2023|               NO|           null|       null|        null|        null|        null|          null|         null|          null|  null|               null|                      739|               12|   804.0|                   739|            0|        null|            588.0|                  665.1785714|            0.0|          588.0| 06-04-2023|    1327|    [588.0,744.2904]|\n",
      "|01-04-2023|1023665676|SOL.PE...|    1023665676|23665676| 664612|  Android App|20536901|             shipped|    shipped|Luminous 445W 24V...|              39300|          39800.0|                     39800.0|             2|   4264.0|           500.0|39300.0|   14910.0| 29820.0|          null|      16-09-2022| SOL.PER.76921305|Planned Inventory...|       FALSE|  NATIONAL|        luminous|Mono PERC Solar P...|               Solar|        Solar Panels|    in stock|            N|  19.16|       null|              null|         upi|               null|      01-04-2023|        Kerala|Pathanamthitta|             Anish.S|              null|              0|            0|       0.0|            0|                null|                null| 689647|industrybuying|1023665676|          17766.756|               null|                null|               null|               null|                 null|                 null|            JIT|           HR1|               null|                null|                null|Plan Inventory|        Longtail New|      Plan Inventory|     Marketing|            02-04-2023|            07-04-2023|               NO|           null|       null|        null|        null|  03-04-2023|          null|         null|     235448423| 172.0|      Delhivery B2B|                    35536|               12| 39300.0|                 35536|         null|        null|             null|                  35089.28571|            0.0|        29820.0| 06-04-2023|   65356| [29820.0,17766.756]|\n",
      "|01-04-2023|1023660195|TOO.HA...|    1023660195|23660195| 469277|  Android App|20534724|    shipped_complete|    shipped|Taparia High Spee...|             286.33|            315.0|                    286.3261|             5|  43.3261|             0.0| 286.33|     40.95|  204.75|         18.51|      09-07-2020| TOO.HAC.32728303|     MarketPlace SKU|       FALSE|  NATIONAL|         taparia|      Hacksaw Blades| Tooling and Cutting|      Cutting Blades|    in stock|            Y|  21.95|        0.0|              63.0|         cod|               null|      01-04-2023|  Chhattisgarh|      dhamtari|   Devendra Rajpuria|          WhatsApp|           34.5|            0|   27.5569|            0|atc_drop_multiple...|                Tech| 493773|industrybuying|1023660195|          49.938525|               null|                null|               null|               null|                23050| 3S ENGINEERING CO...|             MP|          null|               null|                null| Tooling and Cutting|      noorders|                 nan|      Non PL Tooling|     Marketing|            05-04-2023|            10-04-2023|               NO|           null|       null|        null|        null|  04-04-2023|          null|         null|    1.4299E+13|  29.0|         Xpressbees|                      243|               18|348.3869|                   243|            0|        null|            40.95|                  242.6525424|            0.0|         204.75| 06-04-2023|  447.75|  [204.75,49.938525]|\n",
      "|01-04-2023|1023674605|ELE.FL...|    1023674605|23674605|4818476|  Android App|20542753|    shipped_complete|    shipped|Kalinga Gold 2.5 ...|            2484.25|         4313.559|                      2760.0|             2|    421.0|          275.75|2484.25|     661.7|  1323.4|          null|      04-12-2020|ELE.FLA.102859482|Planned Inventory...|       FALSE|  NATIONAL|         kalinga|Flame Retardant (...|          Electrical|    Cables and Wires|    in stock|            N|  69.49|       null|              null|         upi|               null|      01-04-2023|  Chhattisgarh|          Durg|   Akhilesh Parashar|              null|              0|            0|       0.0|            0|                null|                null| 491001|industrybuying|1023674605|         1121.51533|               null|                null|               null|               null|                 null|                 null|            JIT|           HR1|               null|                null|          Electrical|Plan Inventory|BR Plan Inventory...|      Plan Inventory|     Marketing|            02-04-2023|            07-04-2023|              YES|22DXKPS8924K1ZT|       null|        null|        null|  02-04-2023|          null|         null|    1.4299E+14|  29.0|         Xpressbees|                     2339|               18| 2484.25|                  2339|         null|        null|             null|                   2105.29661|            0.0|         1323.4| 06-04-2023|  3662.4| [1323.4,1121.51533]|\n",
      "|01-04-2023|1023667271|SAF.SA...|    1023667271|23667271|   null|       Mobile|20537764|shipped_and_returned|        RTO|Safari Gumboot an...|                568|            568.0|                       568.0|             1|     61.0|             0.0|  568.0|     375.0|   375.0|         35.14|      04-08-2017| SAF.SAF.13827504|     MarketPlace SKU|       FALSE|  NATIONAL|          safari|        Safety Shoes|              Safety|        Safety Shoes|    in stock|            N|  35.14|       null|              null|         cod|               null|      01-04-2023|   Uttaranchal|    Uttarkashi|   Shashwat bhandari|           Organic|             59|            0|      39.0|            0|                null|https://www.googl...| 249193|industrybuying|1023667271|            506.775|               null|                null|               null|               null|                  657| M/S SOURCE INDIA ...|             MP|          null|                657|M/S SOURCE INDIA ...|              Safety|        Non PL|       Non PL Safety|     C1 Safety Shoes|     Marketing|            02-04-2023|            06-04-2023|               NO|           null|       null|        null|        null|  01-04-2023|          null|   05-04-2023|   1.77169E+13| 194.0| IMPL_Delhivery_3KG|                      507|               12|   666.0|                   507|            0|        null|            375.0|                  507.1428571|            0.0|          375.0| 06-04-2023|     882|     [375.0,506.775]|\n",
      "|01-04-2023|1023673784|SAF.SA...|    1023673784|23673784|   null|       Mobile|20542146|             shipped|    shipped|Safari Gumboot an...|                438|            438.0|                       438.0|             1|     47.0|             0.0|  438.0|     320.0|   320.0|         21.17|      04-08-2017| SAF.SAF.19827466|     MarketPlace SKU|       FALSE|  NATIONAL|          safari|        Safety Shoes|              Safety|        Safety Shoes|    in stock|            N|  21.17|       null|             401.2| credit_card|               null|      01-04-2023|         Assam|     Karimganj|        Pranab borah|            Google|             69|            0|       0.0|            0|PLAPMAX_C1_Safety...|                 PLA| 788710|industrybuying|1023673784|            387.744|               null|                null|               null|               null|                  657| M/S SOURCE INDIA ...|             MP|          null|                657|M/S SOURCE INDIA ...|              Safety|        Non PL|       Non PL Safety|     C1 Safety Shoes|     Marketing|            06-04-2023|            11-04-2023|               NO|           null|       null|        null|        null|  04-04-2023|          null|         null|    1.4299E+13|  29.0|         Xpressbees|                      391|               12|   507.0|                   391|            0|        null|            320.0|                  391.0714286|            0.0|          320.0| 06-04-2023|     711|     [320.0,387.744]|\n",
      "|01-04-2023|1023682505|HA.HA0...|    1023682505|23682505|5078643|      Desktop|20547195|              packed|  confirmed|Yato YT-8006 Axe ...|               9900|           9900.0|                      9900.0|             5|   1510.0|             0.0| 9900.0|   1392.11| 6960.55|         18.69|      12-03-2016|    HA.HA0.750207|     MarketPlace SKU|       FALSE|  NATIONAL|            yato|  Hammer Accessories|          Hand Tools|             Hammers|    in stock|            N|  21.95|        0.0|            1907.0| credit_card|               null|      01-04-2023|Madhya Pradesh|        Indore|BMR Wildlife Serv...|            Google|              0|            0|       0.0|            0|  PLAPMAX_Hand_Tools|                 PLA| 452011|industrybuying|1023682505|        1697.678145|               null|                null|               null|               null|                  745|    Aron Technologies|             MP|          null|                745|   Aron Technologies|          Hand Tools|        Non PL|Low GMV x Low Ord...|   Non PL Hand Tools|     Marketing|            06-04-2023|            11-04-2023|              YES|23AAWFB3652M1Z0|       null|        null|        null|        null|          null|         null|          null|  null|               null|                     8390|               18|  9900.0|                  8390|            0|        null|          1392.11|                  8389.830508|            0.0|        6960.55| 06-04-2023|15350.55|[6960.55,1697.678...|\n",
      "|01-04-2023|1023666931|HAN.SC...|    1023666931|23666931|2093907|  Android App|20537585|                 cod|  confirmed|Yato YT-2827 Insu...|                838|            943.0|                       838.0|             1|    128.0|             0.0|  838.0|    549.07|  549.07|         28.24|      30-07-2022| HAN.SCR.66635398|     MarketPlace SKU|       FALSE|  NATIONAL|            yato|     Screwdriver Set|          Hand Tools|Screwdriver & Nut...|    in stock|            N|  29.87|       null|             943.0|         cod|               null|      01-04-2023|        Kerala|        KOLLAM|               manoj|            Google|              0|            0|      69.0|            0|PLAPMAX_Private_L...|                 PLA| 691019|industrybuying|1023666931|         713.077209|               null|                null|               null|               null|                  745|    Aron Technologies|             MP|          null|                745|   Aron Technologies|                null|        Non PL|        Longtail New|   Non PL Hand Tools|     Marketing|            06-04-2023|            11-04-2023|               NO|           null|       null|        null|        null|        null|          null|         null|          null|  null|               null|                      710|               18|   907.0|                   710|            0|        null|           549.07|                  710.1694915|            0.0|         549.07| 06-04-2023| 1259.07| [549.07,713.077209]|\n",
      "|01-04-2023|1023657838|LUB.BU...|    1023657838|23657838|  52236|  Android App|20533810|           cancelled|  cancelled|Yato Oil Transfer...|               1380|           1380.0|                      1380.0|             1|    211.0|             0.0| 1380.0|    970.56|  970.56|         14.94|      27-02-2023| LUB.BUC.98169421|     MarketPlace SKU|       FALSE|  NATIONAL|            yato|     Bucket Oil Pump| Lubricants and Oils|Fuel & Oil Transf...|    in stock|            N|  17.65|        0.0|            1348.0|         cod|           too dily|      01-04-2023|   Maharashtra|          Pune|      rahul mirajkar|            Google|              0|            0|      69.0|            0|PLAPMAX_Lab_Supplies|                 PLA| 411033|industrybuying|1023657838|         1141.86384|2023-04-05T21:18:26|               52236|  Delay In Delivery|               USER|                  745|    Aron Technologies|             MP|          null|                745|   Aron Technologies|                null|           NEW|                 NEW|New Launch Februa...|     Marketing|            05-04-2023|            10-04-2023|               NO|           null|       null|        null|        null|        null|          null|         null|          null|  null|               null|                     1169|               18|  1449.0|                  1169|            0|        null|           970.56|                  1169.491525|            0.0|         970.56| 06-04-2023| 2139.56| [970.56,1141.86384]|\n",
      "|01-04-2023|1023663516|LUB.OI...|    1023663516|23663516| 993601|  Android App|20535779|           cancelled|  cancelled|Yato Oil Can With...|                388|            395.0|                       388.0|             1|     59.0|             0.0|  388.0|     284.4|   284.4|         14.94|      27-02-2023| LUB.OIL.98169923|     MarketPlace SKU|       FALSE|  NATIONAL|            yato|            Oil cans| Lubricants and Oils|            Oil cans|    in stock|            N|  16.28|        0.0|             395.0|         cod|                yes|      01-04-2023| Uttar Pradesh|         Rasra|Satya narayan sharma|            Direct|             59|            0|      39.0|            0|                null|                null| 221716|industrybuying|1023663516|          330.70032|2023-04-01T08:49:12|satyaasharma989@g...|  Delay In Delivery|               USER|                  745|    Aron Technologies|             MP|          null|                745|   Aron Technologies|                null|           NEW|                 NEW|New Launch Februa...|     Marketing|            05-04-2023|            09-04-2023|               NO|           null|       null|        null|        null|        null|          null|         null|          null|  null|               null|                      329|               18|   486.0|                   329|            0|        null|            284.4|                  328.8135593|            0.0|          284.4| 06-04-2023|   613.4|   [284.4,330.70032]|\n",
      "|01-04-2023|1023657550|ELE.HE...|    1023657550|23657550|4912245|      Desktop|20533567|   partially_shipped|  confirmed|Yato Heat Shrink ...|                268|            269.0|                       268.0|             1|     41.0|             0.0|  268.0|    193.68|  193.68|         14.94|      23-02-2023|ELE.HEA.108135108|     MarketPlace SKU|       FALSE|  NATIONAL|            yato|   Heat Shrink Tubes|Electronics & Rob...|       Interconnects|    in stock|            N|  17.65|        0.0|             269.0|         cod|               null|      01-04-2023|   West Bengal|       Birbhum|Dr. Sushil Bhatta...|             Email|              0|            0|    7.3537|            0|BE_31_03_23-Top_L...|           Broadcast| 731302|industrybuying|1023657550|          227.86452|               null|                null|               null|               null|                  745|    Aron Technologies|             MP|          null|                745|   Aron Technologies|                null|           NEW|                 NEW|New Launch Februa...|     Marketing|            05-04-2023|            10-04-2023|               NO|           null|       null|        null|        null|        null|          null|         null|          null|  null|               null|                      227|               18|275.3537|                   227|            0|        null|           193.68|                  227.1186441|            0.0|         193.68| 06-04-2023|  420.68|  [193.68,227.86452]|\n",
      "|01-04-2023|1023657270|PU.MO....|    1023657270|23657270|5074727|       Mobile|20533295|           intransit|    shipped|Kirloskar Jalraj ...|               4990|           4990.0|                      4990.0|             1|    761.0|             0.0| 4990.0|    3800.0|  3800.0|         14.13|      19-05-2015|     PU.MO.286380|     MarketPlace SKU|       FALSE|  NATIONAL|       kirloskar|Domestic Monobloc...|               Pumps|         Water Pumps|    in stock|            N|  14.13|        0.0|           4528.13|         upi|               null|      01-04-2023|           Goa|     Sanvordem|   Dr. Nidhi Marathe|            Google|              0|            0|       0.0|            0|PLAPMAX_BR_Plan_I...|                 PLA| 403704|industrybuying|1023657270|            4336.94|               null|                null|               null|               null|                 null|                 null|            JIT|           HR1|                788|  Motor Sales Agency|               Pumps|Plan Inventory|BR Plan Inventory...|      Plan Inventory|     Marketing|            01-04-2023|            06-04-2023|               NO|           null|       null|        null|        null|  02-04-2023|          null|         null|   1.77173E+13| 196.0|IMPL_Delhivery_10KG|                     4229|               18|  4990.0|                  4229|         null|        null|             null|                  4228.813559|            0.0|         3800.0| 06-04-2023|    8029|    [3800.0,4336.94]|\n",
      "|01-04-2023|1023676298|PU.MO....|    1023676298|23676298|3865386|  Android App|20543888|           intransit|    shipped|Kirloskar Chhotu ...|               2990|           2990.0|                      2990.0|             1|    456.0|             0.0| 2990.0|    2300.0|  2300.0|         14.13|      11-06-2015|     PU.MO.309077|Planned Inventory...|       FALSE|  NATIONAL|       kirloskar|Domestic Monobloc...|               Pumps|         Water Pumps|    in stock|            N|  14.13|        0.0|               0.0|         cod|               null|      01-04-2023|        Kerala|    Kayamkulam|        KrishnaKumar|Push_Notifications|              0|            0|      99.0|            0| Generic_23012023_PM|                 APN| 690572|industrybuying|1023676298|            2624.99|               null|                null|               null|               null|                 null|                 null|            JIT|           HR1|                788|  Motor Sales Agency|               Pumps|Plan Inventory|BR Plan Inventory...|      Plan Inventory|     Marketing|            02-04-2023|            07-04-2023|               NO|           null|       null|        null|        null|  02-04-2023|          null|         null|   1.77176E+13| 195.0| IMPL_Delhivery_5KG|                     2534|               18|  3089.0|                  2534|         null|        null|             null|                  2533.898305|            0.0|         2300.0| 06-04-2023|    4834|    [2300.0,2624.99]|\n",
      "+----------+--------------------+--------------+--------+-------+-------------+--------+--------------------+-----------+--------------------+-------------------+-----------------+----------------------------+--------------+---------+----------------+-------+----------+--------+--------------+----------------+-----------------+--------------------+------------+----------+----------------+--------------------+--------------------+--------------------+------------+-------------+-------+-----------+------------------+------------+-------------------+----------------+--------------+--------------+--------------------+------------------+---------------+-------------+----------+-------------+--------------------+--------------------+-------+--------------+----------+-------------------+-------------------+--------------------+-------------------+-------------------+---------------------+---------------------+---------------+--------------+-------------------+--------------------+--------------------+--------------+--------------------+--------------------+--------------+----------------------+----------------------+-----------------+---------------+-----------+------------+------------+------------+--------------+-------------+--------------+------+-------------------+-------------------------+-----------------+--------+----------------------+-------------+------------+-----------------+-----------------------------+---------------+---------------+-----------+--------+--------------------+\n",
      "only showing top 20 rows\n",
      "\n"
     ]
    }
   ],
   "source": [
    "output.show()"
   ]
  },
  {
   "cell_type": "code",
   "execution_count": 105,
   "id": "60c9b225",
   "metadata": {},
   "outputs": [],
   "source": [
    "finalized_data=output.select(\"Independent Features\", 'B_GMV')"
   ]
  },
  {
   "cell_type": "code",
   "execution_count": 106,
   "id": "b8cbb950",
   "metadata": {},
   "outputs": [
    {
     "name": "stdout",
     "output_type": "stream",
     "text": [
      "+--------------------+--------+\n",
      "|Independent Features|   B_GMV|\n",
      "+--------------------+--------+\n",
      "|  [1666.0,2356.3904]|  2790.0|\n",
      "|    [289.0,385.3237]|   448.0|\n",
      "|     [1000.0,1492.5]| 1697.78|\n",
      "|  [3465.0,4746.7035]|  4980.0|\n",
      "|    [3300.0,4520.67]| 5188.37|\n",
      "|  [3383.7,5528.9658]| 6673.18|\n",
      "|     [1080.0,45.456]| 1732.24|\n",
      "|    [588.0,744.2904]|   804.0|\n",
      "| [29820.0,17766.756]| 39300.0|\n",
      "|  [204.75,49.938525]|348.3869|\n",
      "| [1323.4,1121.51533]| 2484.25|\n",
      "|     [375.0,506.775]|   666.0|\n",
      "|     [320.0,387.744]|   507.0|\n",
      "|[6960.55,1697.678...|  9900.0|\n",
      "| [549.07,713.077209]|   907.0|\n",
      "| [970.56,1141.86384]|  1449.0|\n",
      "|   [284.4,330.70032]|   486.0|\n",
      "|  [193.68,227.86452]|275.3537|\n",
      "|    [3800.0,4336.94]|  4990.0|\n",
      "|    [2300.0,2624.99]|  3089.0|\n",
      "+--------------------+--------+\n",
      "only showing top 20 rows\n",
      "\n"
     ]
    }
   ],
   "source": [
    "finalized_data.show()"
   ]
  },
  {
   "cell_type": "code",
   "execution_count": 107,
   "id": "abd42cd0",
   "metadata": {},
   "outputs": [],
   "source": [
    "from pyspark.ml.regression import LinearRegression\n",
    "\n",
    "train_data, test_data=finalized_data.randomSplit([0.75,0.25])\n",
    "\n",
    "regressor=LinearRegression(featuresCol='Independent Features', labelCol='B_GMV')\n",
    "regressor=regressor.fit(train_data)"
   ]
  },
  {
   "cell_type": "code",
   "execution_count": 108,
   "id": "8000b63b",
   "metadata": {},
   "outputs": [
    {
     "data": {
      "text/plain": [
       "DenseVector([1.2602, -0.0])"
      ]
     },
     "execution_count": 108,
     "metadata": {},
     "output_type": "execute_result"
    }
   ],
   "source": [
    "###Coeffiencent \n",
    "regressor.coefficients"
   ]
  },
  {
   "cell_type": "code",
   "execution_count": 109,
   "id": "794d18c3",
   "metadata": {},
   "outputs": [
    {
     "data": {
      "text/plain": [
       "712.2021729043983"
      ]
     },
     "execution_count": 109,
     "metadata": {},
     "output_type": "execute_result"
    }
   ],
   "source": [
    "###Intercept \n",
    "regressor.intercept"
   ]
  },
  {
   "cell_type": "code",
   "execution_count": 110,
   "id": "9cb805de",
   "metadata": {},
   "outputs": [],
   "source": [
    "###Prediction\n",
    "\n",
    "pred_result=regressor.evaluate(test_data)"
   ]
  },
  {
   "cell_type": "code",
   "execution_count": 111,
   "id": "6dbbfb03",
   "metadata": {},
   "outputs": [
    {
     "name": "stdout",
     "output_type": "stream",
     "text": [
      "+--------------------+-------+-----------------+\n",
      "|Independent Features|  B_GMV|       prediction|\n",
      "+--------------------+-------+-----------------+\n",
      "|     [0.98,1.256458]|   99.0|713.4372023843378|\n",
      "|        [1.0,1.3158]|   79.0|713.4624070259274|\n",
      "|        [1.0,1.3158]|   99.0|713.4624070259274|\n",
      "|        [1.0,1.3158]|   99.0|713.4624070259274|\n",
      "|     [1.23,2.084727]|   61.0|713.7522602972485|\n",
      "|       [1.6,2.05136]|  55.48|714.2185475655239|\n",
      "|       [1.6,2.05136]|  100.0|714.2185475655239|\n",
      "|     [2.84,1.820582]|  112.0|715.7812401792775|\n",
      "|   [20.24,33.179432]|  35.11| 737.709303427159|\n",
      "|     [25.0,16.02625]|   71.0|743.7080468029831|\n",
      "|   [26.49,41.390625]|  157.0|745.5857667022448|\n",
      "|     [27.42,17.1375]|39.0352|746.7578159405946|\n",
      "|   [51.69,69.383487]|  151.0|777.3436729523282|\n",
      "|      [53.0,67.0874]|  67.52| 778.994584622507|\n",
      "|   [55.0,121.945987]| 135.25|781.5149882802518|\n",
      "|   [57.22,82.928946]|  155.0|784.3127598918634|\n",
      "|      [58.0,52.7278]|  110.0|785.2957811233955|\n",
      "|      [65.0,16.6673]|   85.0|794.1174759575741|\n",
      "|      [65.0,24.5284]|  164.0|794.1174662363239|\n",
      "|      [66.0,35.7148]|  113.4|795.3776881516005|\n",
      "+--------------------+-------+-----------------+\n",
      "only showing top 20 rows\n",
      "\n"
     ]
    }
   ],
   "source": [
    "pred_result.predictions.show()"
   ]
  },
  {
   "cell_type": "code",
   "execution_count": 113,
   "id": "fe1bd7c4",
   "metadata": {},
   "outputs": [
    {
     "data": {
      "text/plain": [
       "838.3143581222863"
      ]
     },
     "execution_count": 113,
     "metadata": {},
     "output_type": "execute_result"
    }
   ],
   "source": [
    "pred_result.meanAbsoluteError"
   ]
  },
  {
   "cell_type": "code",
   "execution_count": 115,
   "id": "18bf3dd1",
   "metadata": {},
   "outputs": [
    {
     "data": {
      "text/plain": [
       "5386503.4417264825"
      ]
     },
     "execution_count": 115,
     "metadata": {},
     "output_type": "execute_result"
    }
   ],
   "source": [
    "pred_result.meanSquaredError"
   ]
  },
  {
   "cell_type": "code",
   "execution_count": null,
   "id": "db9175cb",
   "metadata": {},
   "outputs": [],
   "source": []
  }
 ],
 "metadata": {
  "kernelspec": {
   "display_name": "Python 3 (ipykernel)",
   "language": "python",
   "name": "python3"
  },
  "language_info": {
   "codemirror_mode": {
    "name": "ipython",
    "version": 3
   },
   "file_extension": ".py",
   "mimetype": "text/x-python",
   "name": "python",
   "nbconvert_exporter": "python",
   "pygments_lexer": "ipython3",
   "version": "3.10.3"
  }
 },
 "nbformat": 4,
 "nbformat_minor": 5
}

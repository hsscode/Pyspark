{
 "cells": [
  {
   "cell_type": "code",
   "execution_count": 217,
   "id": "96e18a45",
   "metadata": {},
   "outputs": [],
   "source": [
    "import pandas as pd"
   ]
  },
  {
   "cell_type": "code",
   "execution_count": null,
   "id": "ff05cd20",
   "metadata": {},
   "outputs": [],
   "source": []
  },
  {
   "cell_type": "code",
   "execution_count": 69,
   "id": "c01b20d9",
   "metadata": {},
   "outputs": [],
   "source": [
    "import pyspark"
   ]
  },
  {
   "cell_type": "code",
   "execution_count": 70,
   "id": "4b4f51db",
   "metadata": {},
   "outputs": [],
   "source": [
    "from pyspark.sql import SparkSession\n",
    "\n",
    "# Create Spark session\n",
    "spark = SparkSession.builder.appName('Practice').getOrCreate()"
   ]
  },
  {
   "cell_type": "code",
   "execution_count": 3,
   "id": "70b8fbe2",
   "metadata": {},
   "outputs": [],
   "source": [
    "spark"
   ]
  },
  {
   "cell_type": "code",
   "execution_count": 71,
   "id": "f5b18df4",
   "metadata": {},
   "outputs": [],
   "source": [
    "spark_df= spark.read.csv('ff from nov.csv')"
   ]
  },
  {
   "cell_type": "code",
   "execution_count": 72,
   "id": "e0b3e0de",
   "metadata": {},
   "outputs": [
    {
     "data": {
      "text/plain": [
       "DataFrame[_c0: string, _c1: string, _c2: string, _c3: string, _c4: string, _c5: string]"
      ]
     },
     "execution_count": 72,
     "metadata": {},
     "output_type": "execute_result"
    }
   ],
   "source": [
    "spark_df  ###it is showing all column as string -- default  "
   ]
  },
  {
   "cell_type": "code",
   "execution_count": null,
   "id": "4b869c15",
   "metadata": {},
   "outputs": [],
   "source": [
    "# now i  want to see the proper table\n",
    "spark_df.show()  #here it will make default header and real header will be your first row \n",
    "\n",
    "\n",
    "\n"
   ]
  },
  {
   "cell_type": "code",
   "execution_count": 185,
   "id": "d551b074",
   "metadata": {},
   "outputs": [],
   "source": [
    "###now making real header as a header\n",
    "\n",
    "spark_df= spark.read.option('header',\"true\").csv('ff from nov.csv')"
   ]
  },
  {
   "cell_type": "code",
   "execution_count": 186,
   "id": "e9f890bf",
   "metadata": {},
   "outputs": [
    {
     "name": "stdout",
     "output_type": "stream",
     "text": [
      "+----------+-------------+-------------+--------+---------------+----+\n",
      "|order_date|booked_device|  Line_status|   B_GMV|total_cp_actual| _c5|\n",
      "+----------+-------------+-------------+--------+---------------+----+\n",
      "|24-11-2023|       mobile|    delivered|301.8544|         221.76|NULL|\n",
      "|30-11-2023|      Desktop|    cancelled|    4087|           2964|NULL|\n",
      "|25-11-2023|      Desktop|    cancelled| 4839.66|           3588|NULL|\n",
      "|13-12-2023|       mobile|          RTO|    5829|        3427.32|NULL|\n",
      "|12-12-2023|      Desktop|    cancelled|    1244|            711|NULL|\n",
      "|27-11-2023|       mobile|RTO_DELIVERED|     446|          229.8|NULL|\n",
      "|11-11-2023|       mobile|    cancelled|     744|         534.51|NULL|\n",
      "|09-12-2023|      Desktop|    cancelled|     249|            145|NULL|\n",
      "|13-12-2023|      android|    delivered| 3481.48|           2630|NULL|\n",
      "|15-12-2023|      Desktop|      shipped|    9179|           7186|NULL|\n",
      "|15-11-2023|      android|    cancelled|    4740|           3500|NULL|\n",
      "|22-12-2023|      Desktop|    confirmed| 2003.15|        1612.75|NULL|\n",
      "|15-12-2023|       mobile|    confirmed|   12384|          13110|NULL|\n",
      "|04-11-2023|       mobile|    cancelled|    5079|        4058.04|NULL|\n",
      "|18-11-2023|      android|    delivered|     455|            210|NULL|\n",
      "|17-11-2023|      android|    cancelled|  1255.2|            800|NULL|\n",
      "|04-12-2023|      android|    delivered| 2515.66|           1500|NULL|\n",
      "|21-11-2023|      android|    cancelled|     398|            200|NULL|\n",
      "|16-11-2023|       mobile|    cancelled|    3667|        2706.25|NULL|\n",
      "|23-12-2023|       mobile|    confirmed|     458|          311.4|NULL|\n",
      "+----------+-------------+-------------+--------+---------------+----+\n",
      "only showing top 20 rows\n",
      "\n"
     ]
    }
   ],
   "source": [
    "spark_df.show()"
   ]
  },
  {
   "cell_type": "code",
   "execution_count": 76,
   "id": "81d30cdb",
   "metadata": {},
   "outputs": [
    {
     "data": {
      "text/plain": [
       "pyspark.sql.dataframe.DataFrame"
      ]
     },
     "execution_count": 76,
     "metadata": {},
     "output_type": "execute_result"
    }
   ],
   "source": [
    "type(spark_df)"
   ]
  },
  {
   "cell_type": "code",
   "execution_count": 77,
   "id": "770393fd",
   "metadata": {},
   "outputs": [
    {
     "data": {
      "text/plain": [
       "Row(order_date='24-11-2023', booked_device='mobile', Line_status='delivered', B_GMV='301.8544', total_cp_actual='221.76', _c5=None)"
      ]
     },
     "execution_count": 77,
     "metadata": {},
     "output_type": "execute_result"
    }
   ],
   "source": [
    "spark_df.head()"
   ]
  },
  {
   "cell_type": "code",
   "execution_count": 78,
   "id": "ab60d3a3",
   "metadata": {},
   "outputs": [
    {
     "name": "stdout",
     "output_type": "stream",
     "text": [
      "root\n",
      " |-- order_date: string (nullable = true)\n",
      " |-- booked_device: string (nullable = true)\n",
      " |-- Line_status: string (nullable = true)\n",
      " |-- B_GMV: string (nullable = true)\n",
      " |-- total_cp_actual: string (nullable = true)\n",
      " |-- _c5: string (nullable = true)\n",
      "\n"
     ]
    }
   ],
   "source": [
    "spark_df.printSchema()   #now u can see that all the columns are in string "
   ]
  },
  {
   "cell_type": "code",
   "execution_count": 79,
   "id": "8f0ab419",
   "metadata": {},
   "outputs": [],
   "source": [
    " #now u can see that all the columns are in string, if we want to show data ewith there original datatype , we ca use \n",
    "\n",
    "spark_df= spark.read.option('header', 'true').csv('ff from nov.csv', inferSchema='True')  #used inferschema to get real datatype "
   ]
  },
  {
   "cell_type": "code",
   "execution_count": 80,
   "id": "0ab725d0",
   "metadata": {},
   "outputs": [
    {
     "name": "stdout",
     "output_type": "stream",
     "text": [
      "root\n",
      " |-- order_date: string (nullable = true)\n",
      " |-- booked_device: string (nullable = true)\n",
      " |-- Line_status: string (nullable = true)\n",
      " |-- B_GMV: double (nullable = true)\n",
      " |-- total_cp_actual: double (nullable = true)\n",
      " |-- _c5: string (nullable = true)\n",
      "\n"
     ]
    }
   ],
   "source": [
    "spark_df.printSchema()"
   ]
  },
  {
   "cell_type": "code",
   "execution_count": null,
   "id": "e6277399",
   "metadata": {},
   "outputs": [],
   "source": [
    "spark_df.columns   #to FETCH all the columns from the df"
   ]
  },
  {
   "cell_type": "code",
   "execution_count": null,
   "id": "56dc44f4",
   "metadata": {},
   "outputs": [],
   "source": [
    "spark_df.select('order_date').show()   ## to select 1 column u  can use "
   ]
  },
  {
   "cell_type": "code",
   "execution_count": 81,
   "id": "c3b228f5",
   "metadata": {},
   "outputs": [
    {
     "name": "stdout",
     "output_type": "stream",
     "text": [
      "+----------+--------+\n",
      "|order_date|   B_GMV|\n",
      "+----------+--------+\n",
      "|24-11-2023|301.8544|\n",
      "|30-11-2023|  4087.0|\n",
      "|25-11-2023| 4839.66|\n",
      "|13-12-2023|  5829.0|\n",
      "|12-12-2023|  1244.0|\n",
      "|27-11-2023|   446.0|\n",
      "|11-11-2023|   744.0|\n",
      "|09-12-2023|   249.0|\n",
      "|13-12-2023| 3481.48|\n",
      "|15-12-2023|  9179.0|\n",
      "|15-11-2023|  4740.0|\n",
      "|22-12-2023| 2003.15|\n",
      "|15-12-2023| 12384.0|\n",
      "|04-11-2023|  5079.0|\n",
      "|18-11-2023|   455.0|\n",
      "|17-11-2023|  1255.2|\n",
      "|04-12-2023| 2515.66|\n",
      "|21-11-2023|   398.0|\n",
      "|16-11-2023|  3667.0|\n",
      "|23-12-2023|   458.0|\n",
      "+----------+--------+\n",
      "only showing top 20 rows\n",
      "\n"
     ]
    }
   ],
   "source": [
    "spark_df.select(['order_date', 'B_GMV']).show()  #to sleect multiple column \n",
    "\n",
    "#slicing doesnt work here "
   ]
  },
  {
   "cell_type": "code",
   "execution_count": 82,
   "id": "65b9809c",
   "metadata": {},
   "outputs": [
    {
     "data": {
      "text/plain": [
       "[('order_date', 'string'),\n",
       " ('booked_device', 'string'),\n",
       " ('Line_status', 'string'),\n",
       " ('B_GMV', 'double'),\n",
       " ('total_cp_actual', 'double'),\n",
       " ('_c5', 'string')]"
      ]
     },
     "execution_count": 82,
     "metadata": {},
     "output_type": "execute_result"
    }
   ],
   "source": [
    "# to chec k datatype we use dtypes\n",
    "spark_df.dtypes   #(this also works in dataframe)"
   ]
  },
  {
   "cell_type": "code",
   "execution_count": 83,
   "id": "138cc379",
   "metadata": {},
   "outputs": [
    {
     "name": "stdout",
     "output_type": "stream",
     "text": [
      "+-------+----------+-------------+----------------+-----------------+-----------------+----+\n",
      "|summary|order_date|booked_device|     Line_status|            B_GMV|  total_cp_actual| _c5|\n",
      "+-------+----------+-------------+----------------+-----------------+-----------------+----+\n",
      "|  count|     46732|        46731|           46732|            46732|            46732|   0|\n",
      "|   mean|      NULL|         NULL|            NULL|4257.318433580822|2843.234728451601|NULL|\n",
      "| stddev|      NULL|         NULL|            NULL|9033.035380334408|6164.052151388269|NULL|\n",
      "|    min|01-11-2023|      Desktop|          Packed|              1.0|             0.72|NULL|\n",
      "|    max|30-11-2023|       mobile|shipped_complete|         466200.0|         321361.0|NULL|\n",
      "+-------+----------+-------------+----------------+-----------------+-----------------+----+\n",
      "\n"
     ]
    }
   ],
   "source": [
    "#describe also work into this \n",
    "spark_df.describe().show()"
   ]
  },
  {
   "cell_type": "code",
   "execution_count": 84,
   "id": "07aa459c",
   "metadata": {},
   "outputs": [],
   "source": [
    "## Adding column into df of spark\n",
    "spark_df=spark_df.withColumn('total_cp_actual_after_gst', spark_df['total_cp_actual']*.18)"
   ]
  },
  {
   "cell_type": "code",
   "execution_count": 85,
   "id": "59264f88",
   "metadata": {},
   "outputs": [
    {
     "name": "stdout",
     "output_type": "stream",
     "text": [
      "+----------+-------------+-------------+--------+---------------+----+-------------------------+\n",
      "|order_date|booked_device|  Line_status|   B_GMV|total_cp_actual| _c5|total_cp_actual_after_gst|\n",
      "+----------+-------------+-------------+--------+---------------+----+-------------------------+\n",
      "|24-11-2023|       mobile|    delivered|301.8544|         221.76|NULL|       39.916799999999995|\n",
      "|30-11-2023|      Desktop|    cancelled|  4087.0|         2964.0|NULL|                   533.52|\n",
      "|25-11-2023|      Desktop|    cancelled| 4839.66|         3588.0|NULL|                   645.84|\n",
      "|13-12-2023|       mobile|          RTO|  5829.0|        3427.32|NULL|                 616.9176|\n",
      "|12-12-2023|      Desktop|    cancelled|  1244.0|          711.0|NULL|       127.97999999999999|\n",
      "|27-11-2023|       mobile|RTO_DELIVERED|   446.0|          229.8|NULL|                   41.364|\n",
      "|11-11-2023|       mobile|    cancelled|   744.0|         534.51|NULL|                  96.2118|\n",
      "|09-12-2023|      Desktop|    cancelled|   249.0|          145.0|NULL|       26.099999999999998|\n",
      "|13-12-2023|      android|    delivered| 3481.48|         2630.0|NULL|                    473.4|\n",
      "|15-12-2023|      Desktop|      shipped|  9179.0|         7186.0|NULL|                  1293.48|\n",
      "|15-11-2023|      android|    cancelled|  4740.0|         3500.0|NULL|                    630.0|\n",
      "|22-12-2023|      Desktop|    confirmed| 2003.15|        1612.75|NULL|                  290.295|\n",
      "|15-12-2023|       mobile|    confirmed| 12384.0|        13110.0|NULL|       2359.7999999999997|\n",
      "|04-11-2023|       mobile|    cancelled|  5079.0|        4058.04|NULL|                 730.4472|\n",
      "|18-11-2023|      android|    delivered|   455.0|          210.0|NULL|                     37.8|\n",
      "|17-11-2023|      android|    cancelled|  1255.2|          800.0|NULL|                    144.0|\n",
      "|04-12-2023|      android|    delivered| 2515.66|         1500.0|NULL|                    270.0|\n",
      "|21-11-2023|      android|    cancelled|   398.0|          200.0|NULL|                     36.0|\n",
      "|16-11-2023|       mobile|    cancelled|  3667.0|        2706.25|NULL|                  487.125|\n",
      "|23-12-2023|       mobile|    confirmed|   458.0|          311.4|NULL|        56.05199999999999|\n",
      "+----------+-------------+-------------+--------+---------------+----+-------------------------+\n",
      "only showing top 20 rows\n",
      "\n"
     ]
    }
   ],
   "source": [
    "spark_df.show()"
   ]
  },
  {
   "cell_type": "code",
   "execution_count": null,
   "id": "9ffe66ca",
   "metadata": {},
   "outputs": [],
   "source": [
    "#now i want to drop these 2 column, 1 which we added and 1 which has null only."
   ]
  },
  {
   "cell_type": "code",
   "execution_count": null,
   "id": "0b8146e4",
   "metadata": {},
   "outputs": [],
   "source": [
    "##now dropping a column \n",
    "\n"
   ]
  },
  {
   "cell_type": "code",
   "execution_count": 91,
   "id": "4a8da6b5",
   "metadata": {},
   "outputs": [],
   "source": [
    "spark_df=spark_df.drop('total_cp_actual_after_gst', '_c5')"
   ]
  },
  {
   "cell_type": "code",
   "execution_count": 92,
   "id": "a2c79490",
   "metadata": {},
   "outputs": [
    {
     "name": "stdout",
     "output_type": "stream",
     "text": [
      "+----------+-------------+-------------+--------+---------------+\n",
      "|order_date|booked_device|  Line_status|   B_GMV|total_cp_actual|\n",
      "+----------+-------------+-------------+--------+---------------+\n",
      "|24-11-2023|       mobile|    delivered|301.8544|         221.76|\n",
      "|30-11-2023|      Desktop|    cancelled|    4087|           2964|\n",
      "|25-11-2023|      Desktop|    cancelled| 4839.66|           3588|\n",
      "|13-12-2023|       mobile|          RTO|    5829|        3427.32|\n",
      "|12-12-2023|      Desktop|    cancelled|    1244|            711|\n",
      "|27-11-2023|       mobile|RTO_DELIVERED|     446|          229.8|\n",
      "|11-11-2023|       mobile|    cancelled|     744|         534.51|\n",
      "|09-12-2023|      Desktop|    cancelled|     249|            145|\n",
      "|13-12-2023|      android|    delivered| 3481.48|           2630|\n",
      "|15-12-2023|      Desktop|      shipped|    9179|           7186|\n",
      "|15-11-2023|      android|    cancelled|    4740|           3500|\n",
      "|22-12-2023|      Desktop|    confirmed| 2003.15|        1612.75|\n",
      "|15-12-2023|       mobile|    confirmed|   12384|          13110|\n",
      "|04-11-2023|       mobile|    cancelled|    5079|        4058.04|\n",
      "|18-11-2023|      android|    delivered|     455|            210|\n",
      "|17-11-2023|      android|    cancelled|  1255.2|            800|\n",
      "|04-12-2023|      android|    delivered| 2515.66|           1500|\n",
      "|21-11-2023|      android|    cancelled|     398|            200|\n",
      "|16-11-2023|       mobile|    cancelled|    3667|        2706.25|\n",
      "|23-12-2023|       mobile|    confirmed|     458|          311.4|\n",
      "+----------+-------------+-------------+--------+---------------+\n",
      "only showing top 20 rows\n",
      "\n"
     ]
    }
   ],
   "source": [
    "spark_df.show()"
   ]
  },
  {
   "cell_type": "code",
   "execution_count": 95,
   "id": "9d17e977",
   "metadata": {},
   "outputs": [
    {
     "name": "stdout",
     "output_type": "stream",
     "text": [
      "+----------+-------------+-------------+--------+---------------+\n",
      "|order_date|booked_device| order_status|   B_GMV|total_cp_actual|\n",
      "+----------+-------------+-------------+--------+---------------+\n",
      "|24-11-2023|       mobile|    delivered|301.8544|         221.76|\n",
      "|30-11-2023|      Desktop|    cancelled|    4087|           2964|\n",
      "|25-11-2023|      Desktop|    cancelled| 4839.66|           3588|\n",
      "|13-12-2023|       mobile|          RTO|    5829|        3427.32|\n",
      "|12-12-2023|      Desktop|    cancelled|    1244|            711|\n",
      "|27-11-2023|       mobile|RTO_DELIVERED|     446|          229.8|\n",
      "|11-11-2023|       mobile|    cancelled|     744|         534.51|\n",
      "|09-12-2023|      Desktop|    cancelled|     249|            145|\n",
      "|13-12-2023|      android|    delivered| 3481.48|           2630|\n",
      "|15-12-2023|      Desktop|      shipped|    9179|           7186|\n",
      "|15-11-2023|      android|    cancelled|    4740|           3500|\n",
      "|22-12-2023|      Desktop|    confirmed| 2003.15|        1612.75|\n",
      "|15-12-2023|       mobile|    confirmed|   12384|          13110|\n",
      "|04-11-2023|       mobile|    cancelled|    5079|        4058.04|\n",
      "|18-11-2023|      android|    delivered|     455|            210|\n",
      "|17-11-2023|      android|    cancelled|  1255.2|            800|\n",
      "|04-12-2023|      android|    delivered| 2515.66|           1500|\n",
      "|21-11-2023|      android|    cancelled|     398|            200|\n",
      "|16-11-2023|       mobile|    cancelled|    3667|        2706.25|\n",
      "|23-12-2023|       mobile|    confirmed|     458|          311.4|\n",
      "+----------+-------------+-------------+--------+---------------+\n",
      "only showing top 20 rows\n",
      "\n"
     ]
    }
   ],
   "source": [
    "###Now rename the column\n",
    "\n",
    "\n",
    "spark_df.withColumnRenamed('Line_status', 'order_status').show()"
   ]
  },
  {
   "cell_type": "code",
   "execution_count": 97,
   "id": "7901afe3",
   "metadata": {},
   "outputs": [
    {
     "name": "stdout",
     "output_type": "stream",
     "text": [
      "+----------+-------------+-------------+--------+---------------+\n",
      "|order_date|booked_device| order_status|   B_GMV|total_cp_actual|\n",
      "+----------+-------------+-------------+--------+---------------+\n",
      "|24-11-2023|       mobile|    delivered|301.8544|         221.76|\n",
      "|30-11-2023|      Desktop|    cancelled|    4087|           2964|\n",
      "|25-11-2023|      Desktop|    cancelled| 4839.66|           3588|\n",
      "|13-12-2023|       mobile|          RTO|    5829|        3427.32|\n",
      "|12-12-2023|      Desktop|    cancelled|    1244|            711|\n",
      "|27-11-2023|       mobile|RTO_DELIVERED|     446|          229.8|\n",
      "|11-11-2023|       mobile|    cancelled|     744|         534.51|\n",
      "|09-12-2023|      Desktop|    cancelled|     249|            145|\n",
      "|13-12-2023|      android|    delivered| 3481.48|           2630|\n",
      "|15-12-2023|      Desktop|      shipped|    9179|           7186|\n",
      "|15-11-2023|      android|    cancelled|    4740|           3500|\n",
      "|22-12-2023|      Desktop|    confirmed| 2003.15|        1612.75|\n",
      "|15-12-2023|       mobile|    confirmed|   12384|          13110|\n",
      "|04-11-2023|       mobile|    cancelled|    5079|        4058.04|\n",
      "|18-11-2023|      android|    delivered|     455|            210|\n",
      "|17-11-2023|      android|    cancelled|  1255.2|            800|\n",
      "|04-12-2023|      android|    delivered| 2515.66|           1500|\n",
      "|21-11-2023|      android|    cancelled|     398|            200|\n",
      "|16-11-2023|       mobile|    cancelled|    3667|        2706.25|\n",
      "|23-12-2023|       mobile|    confirmed|     458|          311.4|\n",
      "+----------+-------------+-------------+--------+---------------+\n",
      "only showing top 20 rows\n",
      "\n"
     ]
    }
   ],
   "source": [
    "spark_df=spark_df.withColumnRenamed('Line_status', 'order_status')\n",
    "spark_df.show()"
   ]
  },
  {
   "cell_type": "code",
   "execution_count": 102,
   "id": "a469a5b0",
   "metadata": {},
   "outputs": [
    {
     "name": "stdout",
     "output_type": "stream",
     "text": [
      "+----------+-------------+-------------+--------+---------------+\n",
      "|order_date|booked_device| order_status|   B_GMV|total_cp_actual|\n",
      "+----------+-------------+-------------+--------+---------------+\n",
      "|24-11-2023|       mobile|    delivered|301.8544|         221.76|\n",
      "|30-11-2023|      Desktop|    cancelled|    4087|           2964|\n",
      "|25-11-2023|      Desktop|    cancelled| 4839.66|           3588|\n",
      "|13-12-2023|       mobile|          RTO|    5829|        3427.32|\n",
      "|12-12-2023|      Desktop|    cancelled|    1244|            711|\n",
      "|27-11-2023|       mobile|RTO_DELIVERED|     446|          229.8|\n",
      "|11-11-2023|       mobile|    cancelled|     744|         534.51|\n",
      "|09-12-2023|      Desktop|    cancelled|     249|            145|\n",
      "|13-12-2023|      android|    delivered| 3481.48|           2630|\n",
      "|15-12-2023|      Desktop|      shipped|    9179|           7186|\n",
      "|15-11-2023|      android|    cancelled|    4740|           3500|\n",
      "|22-12-2023|      Desktop|    confirmed| 2003.15|        1612.75|\n",
      "|15-12-2023|       mobile|    confirmed|   12384|          13110|\n",
      "|04-11-2023|       mobile|    cancelled|    5079|        4058.04|\n",
      "|18-11-2023|      android|    delivered|     455|            210|\n",
      "|17-11-2023|      android|    cancelled|  1255.2|            800|\n",
      "|04-12-2023|      android|    delivered| 2515.66|           1500|\n",
      "|21-11-2023|      android|    cancelled|     398|            200|\n",
      "|16-11-2023|       mobile|    cancelled|    3667|        2706.25|\n",
      "|23-12-2023|       mobile|    confirmed|     458|          311.4|\n",
      "+----------+-------------+-------------+--------+---------------+\n",
      "only showing top 20 rows\n",
      "\n"
     ]
    }
   ],
   "source": [
    "### handling nulls and missing values \n",
    "\n",
    "#dropping null values form the table \n",
    "\n",
    "spark_df.na.drop().show()\n",
    "\n",
    "\n"
   ]
  },
  {
   "cell_type": "code",
   "execution_count": 103,
   "id": "78f142e2",
   "metadata": {},
   "outputs": [
    {
     "name": "stdout",
     "output_type": "stream",
     "text": [
      "+----------+-------------+-------------+--------+---------------+\n",
      "|order_date|booked_device| order_status|   B_GMV|total_cp_actual|\n",
      "+----------+-------------+-------------+--------+---------------+\n",
      "|24-11-2023|       mobile|    delivered|301.8544|         221.76|\n",
      "|30-11-2023|      Desktop|    cancelled|    4087|           2964|\n",
      "|25-11-2023|      Desktop|    cancelled| 4839.66|           3588|\n",
      "|13-12-2023|       mobile|          RTO|    5829|        3427.32|\n",
      "|12-12-2023|      Desktop|    cancelled|    1244|            711|\n",
      "|27-11-2023|       mobile|RTO_DELIVERED|     446|          229.8|\n",
      "|11-11-2023|       mobile|    cancelled|     744|         534.51|\n",
      "|09-12-2023|      Desktop|    cancelled|     249|            145|\n",
      "|13-12-2023|      android|    delivered| 3481.48|           2630|\n",
      "|15-12-2023|      Desktop|      shipped|    9179|           7186|\n",
      "|15-11-2023|      android|    cancelled|    4740|           3500|\n",
      "|22-12-2023|      Desktop|    confirmed| 2003.15|        1612.75|\n",
      "|15-12-2023|       mobile|    confirmed|   12384|          13110|\n",
      "|04-11-2023|       mobile|    cancelled|    5079|        4058.04|\n",
      "|18-11-2023|      android|    delivered|     455|            210|\n",
      "|17-11-2023|      android|    cancelled|  1255.2|            800|\n",
      "|04-12-2023|      android|    delivered| 2515.66|           1500|\n",
      "|21-11-2023|      android|    cancelled|     398|            200|\n",
      "|16-11-2023|       mobile|    cancelled|    3667|        2706.25|\n",
      "|23-12-2023|       mobile|    confirmed|     458|          311.4|\n",
      "+----------+-------------+-------------+--------+---------------+\n",
      "only showing top 20 rows\n",
      "\n"
     ]
    }
   ],
   "source": [
    "spark_df.na.drop(how='any').show()   ###here we we use any then it will delete those row who has contained any null values \n",
    "spark_df.na.drop(how='all').show()   ###here we we use 'all' then it will delete those row who has contained all null values across all column \n"
   ]
  },
  {
   "cell_type": "code",
   "execution_count": 104,
   "id": "3a4aa264",
   "metadata": {},
   "outputs": [
    {
     "name": "stdout",
     "output_type": "stream",
     "text": [
      "+----------+-------------+-------------+--------+---------------+\n",
      "|order_date|booked_device| order_status|   B_GMV|total_cp_actual|\n",
      "+----------+-------------+-------------+--------+---------------+\n",
      "|24-11-2023|       mobile|    delivered|301.8544|         221.76|\n",
      "|30-11-2023|      Desktop|    cancelled|    4087|           2964|\n",
      "|25-11-2023|      Desktop|    cancelled| 4839.66|           3588|\n",
      "|13-12-2023|       mobile|          RTO|    5829|        3427.32|\n",
      "|12-12-2023|      Desktop|    cancelled|    1244|            711|\n",
      "|27-11-2023|       mobile|RTO_DELIVERED|     446|          229.8|\n",
      "|11-11-2023|       mobile|    cancelled|     744|         534.51|\n",
      "|09-12-2023|      Desktop|    cancelled|     249|            145|\n",
      "|13-12-2023|      android|    delivered| 3481.48|           2630|\n",
      "|15-12-2023|      Desktop|      shipped|    9179|           7186|\n",
      "|15-11-2023|      android|    cancelled|    4740|           3500|\n",
      "|22-12-2023|      Desktop|    confirmed| 2003.15|        1612.75|\n",
      "|15-12-2023|       mobile|    confirmed|   12384|          13110|\n",
      "|04-11-2023|       mobile|    cancelled|    5079|        4058.04|\n",
      "|18-11-2023|      android|    delivered|     455|            210|\n",
      "|17-11-2023|      android|    cancelled|  1255.2|            800|\n",
      "|04-12-2023|      android|    delivered| 2515.66|           1500|\n",
      "|21-11-2023|      android|    cancelled|     398|            200|\n",
      "|16-11-2023|       mobile|    cancelled|    3667|        2706.25|\n",
      "|23-12-2023|       mobile|    confirmed|     458|          311.4|\n",
      "+----------+-------------+-------------+--------+---------------+\n",
      "only showing top 20 rows\n",
      "\n"
     ]
    }
   ],
   "source": [
    "spark_df.show()"
   ]
  },
  {
   "cell_type": "code",
   "execution_count": 105,
   "id": "212537c4",
   "metadata": {},
   "outputs": [
    {
     "name": "stdout",
     "output_type": "stream",
     "text": [
      "+----------+-------------+-------------+--------+---------------+\n",
      "|order_date|booked_device| order_status|   B_GMV|total_cp_actual|\n",
      "+----------+-------------+-------------+--------+---------------+\n",
      "|24-11-2023|       mobile|    delivered|301.8544|         221.76|\n",
      "|30-11-2023|      Desktop|    cancelled|    4087|           2964|\n",
      "|25-11-2023|      Desktop|    cancelled| 4839.66|           3588|\n",
      "|13-12-2023|       mobile|          RTO|    5829|        3427.32|\n",
      "|12-12-2023|      Desktop|    cancelled|    1244|            711|\n",
      "|27-11-2023|       mobile|RTO_DELIVERED|     446|          229.8|\n",
      "|11-11-2023|       mobile|    cancelled|     744|         534.51|\n",
      "|09-12-2023|      Desktop|    cancelled|     249|            145|\n",
      "|13-12-2023|      android|    delivered| 3481.48|           2630|\n",
      "|15-12-2023|      Desktop|      shipped|    9179|           7186|\n",
      "|15-11-2023|      android|    cancelled|    4740|           3500|\n",
      "|22-12-2023|      Desktop|    confirmed| 2003.15|        1612.75|\n",
      "|15-12-2023|       mobile|    confirmed|   12384|          13110|\n",
      "|04-11-2023|       mobile|    cancelled|    5079|        4058.04|\n",
      "|18-11-2023|      android|    delivered|     455|            210|\n",
      "|17-11-2023|      android|    cancelled|  1255.2|            800|\n",
      "|04-12-2023|      android|    delivered| 2515.66|           1500|\n",
      "|21-11-2023|      android|    cancelled|     398|            200|\n",
      "|16-11-2023|       mobile|    cancelled|    3667|        2706.25|\n",
      "|23-12-2023|       mobile|    confirmed|     458|          311.4|\n",
      "+----------+-------------+-------------+--------+---------------+\n",
      "only showing top 20 rows\n",
      "\n"
     ]
    }
   ],
   "source": [
    "###using of threshold\n",
    "\n",
    "\n",
    "spark_df.na.drop(how='any', thresh=2).show()   #### thresh=2: it mean it will check row should have min 2 non null value, if it not then it will delete"
   ]
  },
  {
   "cell_type": "code",
   "execution_count": 106,
   "id": "7c3de36b",
   "metadata": {},
   "outputs": [
    {
     "name": "stdout",
     "output_type": "stream",
     "text": [
      "+----------+-------------+-------------+--------+---------------+\n",
      "|order_date|booked_device| order_status|   B_GMV|total_cp_actual|\n",
      "+----------+-------------+-------------+--------+---------------+\n",
      "|24-11-2023|       mobile|    delivered|301.8544|         221.76|\n",
      "|30-11-2023|      Desktop|    cancelled|    4087|           2964|\n",
      "|25-11-2023|      Desktop|    cancelled| 4839.66|           3588|\n",
      "|13-12-2023|       mobile|          RTO|    5829|        3427.32|\n",
      "|12-12-2023|      Desktop|    cancelled|    1244|            711|\n",
      "|27-11-2023|       mobile|RTO_DELIVERED|     446|          229.8|\n",
      "|11-11-2023|       mobile|    cancelled|     744|         534.51|\n",
      "|09-12-2023|      Desktop|    cancelled|     249|            145|\n",
      "|13-12-2023|      android|    delivered| 3481.48|           2630|\n",
      "|15-12-2023|      Desktop|      shipped|    9179|           7186|\n",
      "|15-11-2023|      android|    cancelled|    4740|           3500|\n",
      "|22-12-2023|      Desktop|    confirmed| 2003.15|        1612.75|\n",
      "|15-12-2023|       mobile|    confirmed|   12384|          13110|\n",
      "|04-11-2023|       mobile|    cancelled|    5079|        4058.04|\n",
      "|18-11-2023|      android|    delivered|     455|            210|\n",
      "|17-11-2023|      android|    cancelled|  1255.2|            800|\n",
      "|04-12-2023|      android|    delivered| 2515.66|           1500|\n",
      "|21-11-2023|      android|    cancelled|     398|            200|\n",
      "|16-11-2023|       mobile|    cancelled|    3667|        2706.25|\n",
      "|23-12-2023|       mobile|    confirmed|     458|          311.4|\n",
      "+----------+-------------+-------------+--------+---------------+\n",
      "only showing top 20 rows\n",
      "\n"
     ]
    }
   ],
   "source": [
    "#subset\n",
    "\n",
    "spark_df.na.drop(how='all', subset= ['total_cp_actual']).show()\n",
    "\n",
    "#it will drop null values from table where column will be 'total_cp_actual'"
   ]
  },
  {
   "cell_type": "code",
   "execution_count": 107,
   "id": "ac7410a1",
   "metadata": {},
   "outputs": [
    {
     "name": "stdout",
     "output_type": "stream",
     "text": [
      "+----------+-------------+-------------+--------+---------------+\n",
      "|order_date|booked_device| order_status|   B_GMV|total_cp_actual|\n",
      "+----------+-------------+-------------+--------+---------------+\n",
      "|24-11-2023|       mobile|    delivered|301.8544|         221.76|\n",
      "|30-11-2023|      Desktop|    cancelled|    4087|           2964|\n",
      "|25-11-2023|      Desktop|    cancelled| 4839.66|           3588|\n",
      "|13-12-2023|       mobile|          RTO|    5829|        3427.32|\n",
      "|12-12-2023|      Desktop|    cancelled|    1244|            711|\n",
      "|27-11-2023|       mobile|RTO_DELIVERED|     446|          229.8|\n",
      "|11-11-2023|       mobile|    cancelled|     744|         534.51|\n",
      "|09-12-2023|      Desktop|    cancelled|     249|            145|\n",
      "|13-12-2023|      android|    delivered| 3481.48|           2630|\n",
      "|15-12-2023|      Desktop|      shipped|    9179|           7186|\n",
      "|15-11-2023|      android|    cancelled|    4740|           3500|\n",
      "|22-12-2023|      Desktop|    confirmed| 2003.15|        1612.75|\n",
      "|15-12-2023|       mobile|    confirmed|   12384|          13110|\n",
      "|04-11-2023|       mobile|    cancelled|    5079|        4058.04|\n",
      "|18-11-2023|      android|    delivered|     455|            210|\n",
      "|17-11-2023|      android|    cancelled|  1255.2|            800|\n",
      "|04-12-2023|      android|    delivered| 2515.66|           1500|\n",
      "|21-11-2023|      android|    cancelled|     398|            200|\n",
      "|16-11-2023|       mobile|    cancelled|    3667|        2706.25|\n",
      "|23-12-2023|       mobile|    confirmed|     458|          311.4|\n",
      "+----------+-------------+-------------+--------+---------------+\n",
      "only showing top 20 rows\n",
      "\n"
     ]
    }
   ],
   "source": [
    "### now fill\n",
    "\n",
    "spark_df.na.fill('missing value').show()   #it will fill null with 'missing value'\n",
    "\n",
    "spark_df.na.fill('missing value', 'booked_device').show()   #it will fill null with 'missing value' in subset column - book_device\n",
    "\n",
    "spark_df.na.fill('missing value', ['booked_device','B_GMV').show()   #it will fill null with 'missing value' in subset columns - book_device and B_GMV"
   ]
  },
  {
   "cell_type": "code",
   "execution_count": 120,
   "id": "7bcd5c08",
   "metadata": {},
   "outputs": [],
   "source": [
    "## now we are going to fill missing value with some values \n",
    "\n",
    "from pyspark.ml.feature import Imputer\n",
    "imputer= Imputer( \n",
    "    inputCols=['B_GMV'],\n",
    "    outputCols=[\"{}_imputed\".format(c) for c in ['B_GMV'] ]).setStrategy('median')\n",
    "\n",
    "### Here we can do mean median or mode accoring to the need of req\n"
   ]
  },
  {
   "cell_type": "code",
   "execution_count": 121,
   "id": "6dd919f4",
   "metadata": {},
   "outputs": [
    {
     "name": "stdout",
     "output_type": "stream",
     "text": [
      "+----------+-------------+-------------+--------+---------------+-------------+\n",
      "|order_date|booked_device|  Line_status|   B_GMV|total_cp_actual|B_GMV_imputed|\n",
      "+----------+-------------+-------------+--------+---------------+-------------+\n",
      "|24-11-2023|       mobile|    delivered|301.8544|         221.76|     301.8544|\n",
      "|30-11-2023|      Desktop|    cancelled|  4087.0|         2964.0|       4087.0|\n",
      "|25-11-2023|      Desktop|    cancelled| 4839.66|         3588.0|      4839.66|\n",
      "|13-12-2023|       mobile|          RTO|  5829.0|        3427.32|       5829.0|\n",
      "|12-12-2023|      Desktop|    cancelled|  1244.0|          711.0|       1244.0|\n",
      "|27-11-2023|       mobile|RTO_DELIVERED|   446.0|          229.8|        446.0|\n",
      "|11-11-2023|       mobile|    cancelled|   744.0|         534.51|        744.0|\n",
      "|09-12-2023|      Desktop|    cancelled|   249.0|          145.0|        249.0|\n",
      "|13-12-2023|      android|    delivered| 3481.48|         2630.0|      3481.48|\n",
      "|15-12-2023|      Desktop|      shipped|  9179.0|         7186.0|       9179.0|\n",
      "|15-11-2023|      android|    cancelled|  4740.0|         3500.0|       4740.0|\n",
      "|22-12-2023|      Desktop|    confirmed| 2003.15|        1612.75|      2003.15|\n",
      "|15-12-2023|       mobile|    confirmed| 12384.0|        13110.0|      12384.0|\n",
      "|04-11-2023|       mobile|    cancelled|  5079.0|        4058.04|       5079.0|\n",
      "|18-11-2023|      android|    delivered|   455.0|          210.0|        455.0|\n",
      "|17-11-2023|      android|    cancelled|  1255.2|          800.0|       1255.2|\n",
      "|04-12-2023|      android|    delivered| 2515.66|         1500.0|      2515.66|\n",
      "|21-11-2023|      android|    cancelled|   398.0|          200.0|        398.0|\n",
      "|16-11-2023|       mobile|    cancelled|  3667.0|        2706.25|       3667.0|\n",
      "|23-12-2023|       mobile|    confirmed|   458.0|          311.4|        458.0|\n",
      "+----------+-------------+-------------+--------+---------------+-------------+\n",
      "only showing top 20 rows\n",
      "\n"
     ]
    }
   ],
   "source": [
    "## add imputatitons cols to df \n",
    "\n",
    "imputer.fit(spark_df).transform(spark_df).show()\n"
   ]
  },
  {
   "cell_type": "code",
   "execution_count": 114,
   "id": "64b3e167",
   "metadata": {},
   "outputs": [],
   "source": [
    "### FILTER OPERATIONS----"
   ]
  },
  {
   "cell_type": "code",
   "execution_count": null,
   "id": "cf3aaebd",
   "metadata": {},
   "outputs": [],
   "source": [
    "# Finding bgmv > 20000"
   ]
  },
  {
   "cell_type": "code",
   "execution_count": 123,
   "id": "285bfae3",
   "metadata": {},
   "outputs": [
    {
     "data": {
      "text/plain": [
       "46732"
      ]
     },
     "execution_count": 123,
     "metadata": {},
     "output_type": "execute_result"
    }
   ],
   "source": [
    "spark_df.count()  ###46732"
   ]
  },
  {
   "cell_type": "code",
   "execution_count": 126,
   "id": "efe66d3e",
   "metadata": {},
   "outputs": [
    {
     "data": {
      "text/plain": [
       "42"
      ]
     },
     "execution_count": 126,
     "metadata": {},
     "output_type": "execute_result"
    }
   ],
   "source": [
    "spark_df.filter('B_GMV >=100000').count()"
   ]
  },
  {
   "cell_type": "code",
   "execution_count": null,
   "id": "38663ca5",
   "metadata": {},
   "outputs": [],
   "source": [
    "#If i want to show the specific columns then "
   ]
  },
  {
   "cell_type": "code",
   "execution_count": 134,
   "id": "3cfd1891",
   "metadata": {},
   "outputs": [
    {
     "name": "stdout",
     "output_type": "stream",
     "text": [
      "+----------+-------------+\n",
      "|order_date|booked_device|\n",
      "+----------+-------------+\n",
      "|01-12-2023|       mobile|\n",
      "|04-11-2023|      Desktop|\n",
      "|18-11-2023|       mobile|\n",
      "|21-12-2023|      Desktop|\n",
      "|14-12-2023|      Desktop|\n",
      "|15-12-2023|      Desktop|\n",
      "|23-11-2023|      Desktop|\n",
      "|23-12-2023|      Desktop|\n",
      "|18-12-2023|      Desktop|\n",
      "|14-12-2023|      Desktop|\n",
      "|03-12-2023|      Desktop|\n",
      "|02-11-2023|      android|\n",
      "|02-11-2023|       mobile|\n",
      "|28-11-2023|      Desktop|\n",
      "|19-12-2023|      Desktop|\n",
      "|02-11-2023|      Desktop|\n",
      "|27-11-2023|      Desktop|\n",
      "|22-11-2023|      Desktop|\n",
      "|15-12-2023|      Desktop|\n",
      "|16-11-2023|      Desktop|\n",
      "+----------+-------------+\n",
      "only showing top 20 rows\n",
      "\n"
     ]
    }
   ],
   "source": [
    "spark_df.filter('B_GMV >=100000').select(['order_date', 'booked_device']).show()  "
   ]
  },
  {
   "cell_type": "code",
   "execution_count": 141,
   "id": "50675e95",
   "metadata": {},
   "outputs": [
    {
     "name": "stdout",
     "output_type": "stream",
     "text": [
      "+----------+-------------+-----------+---------+---------------+\n",
      "|order_date|booked_device|Line_status|    B_GMV|total_cp_actual|\n",
      "+----------+-------------+-----------+---------+---------------+\n",
      "|01-12-2023|       mobile|    shipped|114621.48|        95000.0|\n",
      "|04-11-2023|      Desktop|  delivered| 133170.0|       107812.0|\n",
      "|18-11-2023|       mobile|  delivered|133060.14|      100781.25|\n",
      "|14-12-2023|      Desktop|  delivered| 164964.0|      103557.48|\n",
      "|23-11-2023|      Desktop|  delivered| 104744.0|        86864.4|\n",
      "|23-12-2023|      Desktop|  confirmed| 149400.0|        74361.0|\n",
      "|18-12-2023|      Desktop|    shipped| 108600.0|        80000.0|\n",
      "|14-12-2023|      Desktop|        RTO|191183.94|       145176.0|\n",
      "|03-12-2023|      Desktop|  delivered| 107272.0|        76000.0|\n",
      "|02-11-2023|      android|  cancelled| 126848.0|       104000.0|\n",
      "|02-11-2023|       mobile|  delivered| 126848.0|       104000.0|\n",
      "|28-11-2023|      Desktop|  delivered| 116230.0|        74129.5|\n",
      "|19-12-2023|      Desktop|  delivered|139396.94|       78840.56|\n",
      "|02-11-2023|      Desktop|  delivered| 107990.4|        72388.8|\n",
      "|22-11-2023|      Desktop|  delivered|113998.08|       77287.92|\n",
      "|15-12-2023|      Desktop|  delivered| 139776.0|       93747.42|\n",
      "|16-11-2023|      Desktop|  delivered| 139776.0|       93747.42|\n",
      "|06-11-2023|      Desktop|  delivered| 139776.0|       93747.42|\n",
      "|03-11-2023|      Desktop|  cancelled|161198.86|       129220.0|\n",
      "|14-12-2023|      Desktop|    shipped|107500.36|        83432.2|\n",
      "+----------+-------------+-----------+---------+---------------+\n",
      "only showing top 20 rows\n",
      "\n"
     ]
    }
   ],
   "source": [
    "spark_df.filter((spark_df['B_GMV']>100000) & (spark_df['B_GMV'] < 200000 )).show()\n",
    "\n"
   ]
  },
  {
   "cell_type": "code",
   "execution_count": 142,
   "id": "bc61b45e",
   "metadata": {},
   "outputs": [
    {
     "name": "stdout",
     "output_type": "stream",
     "text": [
      "+----------+-------------+-------------+--------+---------------+\n",
      "|order_date|booked_device|  Line_status|   B_GMV|total_cp_actual|\n",
      "+----------+-------------+-------------+--------+---------------+\n",
      "|24-11-2023|       mobile|    delivered|301.8544|         221.76|\n",
      "|30-11-2023|      Desktop|    cancelled|  4087.0|         2964.0|\n",
      "|25-11-2023|      Desktop|    cancelled| 4839.66|         3588.0|\n",
      "|13-12-2023|       mobile|          RTO|  5829.0|        3427.32|\n",
      "|12-12-2023|      Desktop|    cancelled|  1244.0|          711.0|\n",
      "|27-11-2023|       mobile|RTO_DELIVERED|   446.0|          229.8|\n",
      "|11-11-2023|       mobile|    cancelled|   744.0|         534.51|\n",
      "|09-12-2023|      Desktop|    cancelled|   249.0|          145.0|\n",
      "|13-12-2023|      android|    delivered| 3481.48|         2630.0|\n",
      "|15-12-2023|      Desktop|      shipped|  9179.0|         7186.0|\n",
      "|15-11-2023|      android|    cancelled|  4740.0|         3500.0|\n",
      "|22-12-2023|      Desktop|    confirmed| 2003.15|        1612.75|\n",
      "|15-12-2023|       mobile|    confirmed| 12384.0|        13110.0|\n",
      "|04-11-2023|       mobile|    cancelled|  5079.0|        4058.04|\n",
      "|18-11-2023|      android|    delivered|   455.0|          210.0|\n",
      "|17-11-2023|      android|    cancelled|  1255.2|          800.0|\n",
      "|04-12-2023|      android|    delivered| 2515.66|         1500.0|\n",
      "|21-11-2023|      android|    cancelled|   398.0|          200.0|\n",
      "|16-11-2023|       mobile|    cancelled|  3667.0|        2706.25|\n",
      "|23-12-2023|       mobile|    confirmed|   458.0|          311.4|\n",
      "+----------+-------------+-------------+--------+---------------+\n",
      "only showing top 20 rows\n",
      "\n"
     ]
    }
   ],
   "source": [
    "##not operation\n",
    "spark_df.filter(~(spark_df['B_GMV']>100000) & (spark_df['B_GMV'] < 200000 )).show()\n",
    "\n",
    "\n"
   ]
  },
  {
   "cell_type": "code",
   "execution_count": 149,
   "id": "3660519b",
   "metadata": {},
   "outputs": [],
   "source": [
    "#@####### AGRREGATE FUNCTION @@#########\n",
    "\n",
    "# spark_df.groupBy('Line_status').count().show()\n",
    "\n",
    "# spark_df.groupBy('Line_status').sum('B_GMV').show()\n",
    "\n",
    "# spark_df.groupBy('Line_status').sum().show()\n",
    "\n"
   ]
  },
  {
   "cell_type": "code",
   "execution_count": 158,
   "id": "1a24a487",
   "metadata": {},
   "outputs": [
    {
     "name": "stdout",
     "output_type": "stream",
     "text": [
      "+--------------------+\n",
      "|          sum(B_GMV)|\n",
      "+--------------------+\n",
      "|1.9895300503809896E8|\n",
      "+--------------------+\n",
      "\n"
     ]
    }
   ],
   "source": [
    "spark_df.agg({'B_GMV': 'sum'}).show()"
   ]
  },
  {
   "cell_type": "code",
   "execution_count": 169,
   "id": "88f6f0af",
   "metadata": {},
   "outputs": [
    {
     "name": "stdout",
     "output_type": "stream",
     "text": [
      "+----------+-------------+-------------+--------+---------------+\n",
      "|order_date|booked_device|  Line_status|   B_GMV|total_cp_actual|\n",
      "+----------+-------------+-------------+--------+---------------+\n",
      "|24-11-2023|       mobile|    delivered|301.8544|         221.76|\n",
      "|30-11-2023|      Desktop|    cancelled|  4087.0|         2964.0|\n",
      "|25-11-2023|      Desktop|    cancelled| 4839.66|         3588.0|\n",
      "|13-12-2023|       mobile|          RTO|  5829.0|        3427.32|\n",
      "|12-12-2023|      Desktop|    cancelled|  1244.0|          711.0|\n",
      "|27-11-2023|       mobile|RTO_DELIVERED|   446.0|          229.8|\n",
      "|11-11-2023|       mobile|    cancelled|   744.0|         534.51|\n",
      "|09-12-2023|      Desktop|    cancelled|   249.0|          145.0|\n",
      "|13-12-2023|      android|    delivered| 3481.48|         2630.0|\n",
      "|15-12-2023|      Desktop|      shipped|  9179.0|         7186.0|\n",
      "|15-11-2023|      android|    cancelled|  4740.0|         3500.0|\n",
      "|22-12-2023|      Desktop|    confirmed| 2003.15|        1612.75|\n",
      "|15-12-2023|       mobile|    confirmed| 12384.0|        13110.0|\n",
      "|04-11-2023|       mobile|    cancelled|  5079.0|        4058.04|\n",
      "|18-11-2023|      android|    delivered|   455.0|          210.0|\n",
      "|17-11-2023|      android|    cancelled|  1255.2|          800.0|\n",
      "|04-12-2023|      android|    delivered| 2515.66|         1500.0|\n",
      "|21-11-2023|      android|    cancelled|   398.0|          200.0|\n",
      "|16-11-2023|       mobile|    cancelled|  3667.0|        2706.25|\n",
      "|23-12-2023|       mobile|    confirmed|   458.0|          311.4|\n",
      "+----------+-------------+-------------+--------+---------------+\n",
      "only showing top 20 rows\n",
      "\n"
     ]
    }
   ],
   "source": [
    "### PY SPARK ML########@@@@@@@@@@\n",
    "\n",
    "spark_df.show()\n",
    "\n"
   ]
  },
  {
   "cell_type": "code",
   "execution_count": null,
   "id": "d43844cd",
   "metadata": {},
   "outputs": [],
   "source": [
    "###  here we use different technique for pred. , we group by feature and create new non dependant feature \n",
    "\n",
    "# [order_date, total_cp_actual] ----> new feature ---> independent feature \n"
   ]
  },
  {
   "cell_type": "code",
   "execution_count": 170,
   "id": "238fa005",
   "metadata": {},
   "outputs": [],
   "source": []
  },
  {
   "cell_type": "code",
   "execution_count": 187,
   "id": "6582a2b0",
   "metadata": {},
   "outputs": [],
   "source": [
    "\n",
    "spark_df.schema\n",
    "from pyspark.sql.functions import col, to_date\n",
    "spark_df= spark_df.withColumn(\"order_date\",to_date(col(\"order_date\"), \"dd-mm-yyyy\"))\n",
    "#Here i convereted date string into datatype to pass as a training column but didnt work as date doesnt work\n",
    "#so now i am adding 1 more column in my data for independent variable  "
   ]
  },
  {
   "cell_type": "code",
   "execution_count": 200,
   "id": "b931eb14",
   "metadata": {},
   "outputs": [
    {
     "name": "stdout",
     "output_type": "stream",
     "text": [
      "+----------+-------------+-------------+--------+---------------+-------------------------+\n",
      "|order_date|booked_device|  Line_status|   B_GMV|total_cp_actual|total_cp_actual_after_gst|\n",
      "+----------+-------------+-------------+--------+---------------+-------------------------+\n",
      "|24-11-2023|       mobile|    delivered|301.8544|         221.76|       39.916799999999995|\n",
      "|30-11-2023|      Desktop|    cancelled|  4087.0|         2964.0|                   533.52|\n",
      "|25-11-2023|      Desktop|    cancelled| 4839.66|         3588.0|                   645.84|\n",
      "|13-12-2023|       mobile|          RTO|  5829.0|        3427.32|                 616.9176|\n",
      "|12-12-2023|      Desktop|    cancelled|  1244.0|          711.0|       127.97999999999999|\n",
      "|27-11-2023|       mobile|RTO_DELIVERED|   446.0|          229.8|                   41.364|\n",
      "|11-11-2023|       mobile|    cancelled|   744.0|         534.51|                  96.2118|\n",
      "|09-12-2023|      Desktop|    cancelled|   249.0|          145.0|       26.099999999999998|\n",
      "|13-12-2023|      android|    delivered| 3481.48|         2630.0|                    473.4|\n",
      "|15-12-2023|      Desktop|      shipped|  9179.0|         7186.0|                  1293.48|\n",
      "|15-11-2023|      android|    cancelled|  4740.0|         3500.0|                    630.0|\n",
      "|22-12-2023|      Desktop|    confirmed| 2003.15|        1612.75|                  290.295|\n",
      "|15-12-2023|       mobile|    confirmed| 12384.0|        13110.0|       2359.7999999999997|\n",
      "|04-11-2023|       mobile|    cancelled|  5079.0|        4058.04|                 730.4472|\n",
      "|18-11-2023|      android|    delivered|   455.0|          210.0|                     37.8|\n",
      "|17-11-2023|      android|    cancelled|  1255.2|          800.0|                    144.0|\n",
      "|04-12-2023|      android|    delivered| 2515.66|         1500.0|                    270.0|\n",
      "|21-11-2023|      android|    cancelled|   398.0|          200.0|                     36.0|\n",
      "|16-11-2023|       mobile|    cancelled|  3667.0|        2706.25|                  487.125|\n",
      "|23-12-2023|       mobile|    confirmed|   458.0|          311.4|        56.05199999999999|\n",
      "+----------+-------------+-------------+--------+---------------+-------------------------+\n",
      "only showing top 20 rows\n",
      "\n"
     ]
    }
   ],
   "source": [
    "### Datatype handling\n",
    "spark_df= spark.read.option('header', 'true').csv('ff from nov.csv', inferSchema='True')  #used inferschema to get real datatype \n",
    "\n",
    "#adding 1 column into dataframe \n",
    "## Adding column into df of spark\n",
    "spark_df=spark_df.withColumn('total_cp_actual_after_gst', spark_df['total_cp_actual']*.18)\n",
    "\n",
    "\n",
    "### dropping extra column \n",
    "spark_df=spark_df.drop('_c5')\n",
    "\n",
    "\n",
    "### COnvert string datatype into real \n",
    "\n",
    "spark_df.show()\n",
    "\n"
   ]
  },
  {
   "cell_type": "code",
   "execution_count": null,
   "id": "ced16863",
   "metadata": {},
   "outputs": [],
   "source": []
  },
  {
   "cell_type": "code",
   "execution_count": 204,
   "id": "14bfa8e8",
   "metadata": {},
   "outputs": [],
   "source": [
    "from pyspark.ml.feature import VectorAssembler\n",
    "featureassembler= VectorAssembler(inputCols= [ 'total_cp_actual', 'total_cp_actual_after_gst'], outputCol= 'independent_features')\n",
    "\n",
    "\n",
    "\n",
    "output= featureassembler.transform(spark_df)"
   ]
  },
  {
   "cell_type": "code",
   "execution_count": 205,
   "id": "3c553918",
   "metadata": {},
   "outputs": [
    {
     "name": "stdout",
     "output_type": "stream",
     "text": [
      "+----------+-------------+-------------+--------+---------------+-------------------------+--------------------+\n",
      "|order_date|booked_device|  Line_status|   B_GMV|total_cp_actual|total_cp_actual_after_gst|independent_features|\n",
      "+----------+-------------+-------------+--------+---------------+-------------------------+--------------------+\n",
      "|24-11-2023|       mobile|    delivered|301.8544|         221.76|       39.916799999999995|[221.76,39.916799...|\n",
      "|30-11-2023|      Desktop|    cancelled|  4087.0|         2964.0|                   533.52|     [2964.0,533.52]|\n",
      "|25-11-2023|      Desktop|    cancelled| 4839.66|         3588.0|                   645.84|     [3588.0,645.84]|\n",
      "|13-12-2023|       mobile|          RTO|  5829.0|        3427.32|                 616.9176|  [3427.32,616.9176]|\n",
      "|12-12-2023|      Desktop|    cancelled|  1244.0|          711.0|       127.97999999999999|[711.0,127.979999...|\n",
      "|27-11-2023|       mobile|RTO_DELIVERED|   446.0|          229.8|                   41.364|      [229.8,41.364]|\n",
      "|11-11-2023|       mobile|    cancelled|   744.0|         534.51|                  96.2118|    [534.51,96.2118]|\n",
      "|09-12-2023|      Desktop|    cancelled|   249.0|          145.0|       26.099999999999998|[145.0,26.0999999...|\n",
      "|13-12-2023|      android|    delivered| 3481.48|         2630.0|                    473.4|      [2630.0,473.4]|\n",
      "|15-12-2023|      Desktop|      shipped|  9179.0|         7186.0|                  1293.48|    [7186.0,1293.48]|\n",
      "|15-11-2023|      android|    cancelled|  4740.0|         3500.0|                    630.0|      [3500.0,630.0]|\n",
      "|22-12-2023|      Desktop|    confirmed| 2003.15|        1612.75|                  290.295|   [1612.75,290.295]|\n",
      "|15-12-2023|       mobile|    confirmed| 12384.0|        13110.0|       2359.7999999999997|[13110.0,2359.799...|\n",
      "|04-11-2023|       mobile|    cancelled|  5079.0|        4058.04|                 730.4472|  [4058.04,730.4472]|\n",
      "|18-11-2023|      android|    delivered|   455.0|          210.0|                     37.8|        [210.0,37.8]|\n",
      "|17-11-2023|      android|    cancelled|  1255.2|          800.0|                    144.0|       [800.0,144.0]|\n",
      "|04-12-2023|      android|    delivered| 2515.66|         1500.0|                    270.0|      [1500.0,270.0]|\n",
      "|21-11-2023|      android|    cancelled|   398.0|          200.0|                     36.0|        [200.0,36.0]|\n",
      "|16-11-2023|       mobile|    cancelled|  3667.0|        2706.25|                  487.125|   [2706.25,487.125]|\n",
      "|23-12-2023|       mobile|    confirmed|   458.0|          311.4|        56.05199999999999|[311.4,56.0519999...|\n",
      "+----------+-------------+-------------+--------+---------------+-------------------------+--------------------+\n",
      "only showing top 20 rows\n",
      "\n"
     ]
    }
   ],
   "source": [
    "output.show()"
   ]
  },
  {
   "cell_type": "code",
   "execution_count": 206,
   "id": "d0b18231",
   "metadata": {},
   "outputs": [],
   "source": [
    "finalised_data= output.select('independent_features','B_GMV')"
   ]
  },
  {
   "cell_type": "code",
   "execution_count": 207,
   "id": "4e8b100e",
   "metadata": {},
   "outputs": [
    {
     "name": "stdout",
     "output_type": "stream",
     "text": [
      "+--------------------+--------+\n",
      "|independent_features|   B_GMV|\n",
      "+--------------------+--------+\n",
      "|[221.76,39.916799...|301.8544|\n",
      "|     [2964.0,533.52]|  4087.0|\n",
      "|     [3588.0,645.84]| 4839.66|\n",
      "|  [3427.32,616.9176]|  5829.0|\n",
      "|[711.0,127.979999...|  1244.0|\n",
      "|      [229.8,41.364]|   446.0|\n",
      "|    [534.51,96.2118]|   744.0|\n",
      "|[145.0,26.0999999...|   249.0|\n",
      "|      [2630.0,473.4]| 3481.48|\n",
      "|    [7186.0,1293.48]|  9179.0|\n",
      "|      [3500.0,630.0]|  4740.0|\n",
      "|   [1612.75,290.295]| 2003.15|\n",
      "|[13110.0,2359.799...| 12384.0|\n",
      "|  [4058.04,730.4472]|  5079.0|\n",
      "|        [210.0,37.8]|   455.0|\n",
      "|       [800.0,144.0]|  1255.2|\n",
      "|      [1500.0,270.0]| 2515.66|\n",
      "|        [200.0,36.0]|   398.0|\n",
      "|   [2706.25,487.125]|  3667.0|\n",
      "|[311.4,56.0519999...|   458.0|\n",
      "+--------------------+--------+\n",
      "only showing top 20 rows\n",
      "\n"
     ]
    }
   ],
   "source": [
    "finalised_data.show()"
   ]
  },
  {
   "cell_type": "code",
   "execution_count": 208,
   "id": "e7fde870",
   "metadata": {},
   "outputs": [],
   "source": [
    "from pyspark.ml.regression import LinearRegression\n",
    "train_data, test_data= finalised_data.randomSplit([0.75,0.25])\n"
   ]
  },
  {
   "cell_type": "code",
   "execution_count": 209,
   "id": "ae436a11",
   "metadata": {},
   "outputs": [],
   "source": [
    "regressor= LinearRegression(featuresCol='independent_features', labelCol='B_GMV')"
   ]
  },
  {
   "cell_type": "code",
   "execution_count": 210,
   "id": "b7b8fb7b",
   "metadata": {},
   "outputs": [],
   "source": [
    "regressor=regressor.fit(train_data)"
   ]
  },
  {
   "cell_type": "code",
   "execution_count": 212,
   "id": "21974756",
   "metadata": {},
   "outputs": [
    {
     "data": {
      "text/plain": [
       "DenseVector([0.7227, 4.0153])"
      ]
     },
     "execution_count": 212,
     "metadata": {},
     "output_type": "execute_result"
    }
   ],
   "source": [
    "### cofficient \n",
    "\n",
    "regressor.coefficients"
   ]
  },
  {
   "cell_type": "code",
   "execution_count": 213,
   "id": "92d853b8",
   "metadata": {},
   "outputs": [
    {
     "data": {
      "text/plain": [
       "148.61346549959583"
      ]
     },
     "execution_count": 213,
     "metadata": {},
     "output_type": "execute_result"
    }
   ],
   "source": [
    "##intercept \n",
    "\n",
    "regressor.intercept"
   ]
  },
  {
   "cell_type": "code",
   "execution_count": 214,
   "id": "b5b0577a",
   "metadata": {},
   "outputs": [],
   "source": [
    "### Predictions\n",
    "pred= regressor.evaluate(test_data)\n"
   ]
  },
  {
   "cell_type": "code",
   "execution_count": 215,
   "id": "208c77a4",
   "metadata": {},
   "outputs": [
    {
     "name": "stdout",
     "output_type": "stream",
     "text": [
      "+--------------------+-------+------------------+\n",
      "|independent_features|  B_GMV|        prediction|\n",
      "+--------------------+-------+------------------+\n",
      "|       [0.72,0.1296]|    2.0|149.65422221110828|\n",
      "|       [0.72,0.1296]|    9.0|149.65422221110828|\n",
      "|       [0.72,0.1296]|   10.0|149.65422221110828|\n",
      "|       [0.72,0.1296]|13.3051|149.65422221110828|\n",
      "|       [0.72,0.1296]|   41.0|149.65422221110828|\n",
      "|       [0.72,0.1296]|   41.0|149.65422221110828|\n",
      "|       [0.72,0.1296]|   49.0|149.65422221110828|\n",
      "|       [0.72,0.1296]|   49.0|149.65422221110828|\n",
      "|       [0.72,0.1296]|   67.0|149.65422221110828|\n",
      "|       [0.72,0.1296]|   68.0|149.65422221110828|\n",
      "|       [0.72,0.1296]|   76.0|149.65422221110828|\n",
      "|[0.82,0.147599999...|   80.5| 149.7987717543739|\n",
      "|[0.82,0.147599999...|   85.0| 149.7987717543739|\n",
      "|          [1.0,0.18]|    1.0|  150.058960932252|\n",
      "|          [1.0,0.18]|   40.0|  150.058960932252|\n",
      "|          [1.0,0.18]|   40.0|  150.058960932252|\n",
      "|          [1.0,0.18]|  140.0|  150.058960932252|\n",
      "|       [1.03,0.1854]|   42.0|150.10232579523168|\n",
      "|         [1.1,0.198]|    4.0|150.20351047551762|\n",
      "|         [1.1,0.198]|  101.0|150.20351047551762|\n",
      "+--------------------+-------+------------------+\n",
      "only showing top 20 rows\n",
      "\n"
     ]
    }
   ],
   "source": [
    "pred.predictions.show()"
   ]
  },
  {
   "cell_type": "code",
   "execution_count": 216,
   "id": "7c4751de",
   "metadata": {},
   "outputs": [
    {
     "data": {
      "text/plain": [
       "(444.8403762525615, 2860297.9829463707, 1691.2415507390926)"
      ]
     },
     "execution_count": 216,
     "metadata": {},
     "output_type": "execute_result"
    }
   ],
   "source": [
    "pred.meanAbsoluteError, pred.meanSquaredError, pred.rootMeanSquaredError"
   ]
  },
  {
   "cell_type": "code",
   "execution_count": null,
   "id": "888ec48e",
   "metadata": {},
   "outputs": [],
   "source": []
  },
  {
   "cell_type": "code",
   "execution_count": null,
   "id": "735cbc59",
   "metadata": {},
   "outputs": [],
   "source": []
  },
  {
   "cell_type": "code",
   "execution_count": null,
   "id": "fd376eac",
   "metadata": {},
   "outputs": [],
   "source": []
  },
  {
   "cell_type": "code",
   "execution_count": null,
   "id": "680c9400",
   "metadata": {},
   "outputs": [],
   "source": []
  },
  {
   "cell_type": "code",
   "execution_count": null,
   "id": "3fdd0bdb",
   "metadata": {},
   "outputs": [],
   "source": []
  },
  {
   "cell_type": "code",
   "execution_count": null,
   "id": "23596c32",
   "metadata": {},
   "outputs": [],
   "source": []
  },
  {
   "cell_type": "code",
   "execution_count": null,
   "id": "648a6980",
   "metadata": {},
   "outputs": [],
   "source": []
  },
  {
   "cell_type": "code",
   "execution_count": null,
   "id": "124acce8",
   "metadata": {},
   "outputs": [],
   "source": []
  },
  {
   "cell_type": "code",
   "execution_count": null,
   "id": "d7a7db1e",
   "metadata": {},
   "outputs": [],
   "source": []
  },
  {
   "cell_type": "code",
   "execution_count": null,
   "id": "dd26b98e",
   "metadata": {},
   "outputs": [],
   "source": []
  },
  {
   "cell_type": "code",
   "execution_count": null,
   "id": "81cac5e7",
   "metadata": {},
   "outputs": [],
   "source": []
  },
  {
   "cell_type": "code",
   "execution_count": null,
   "id": "9b92750c",
   "metadata": {},
   "outputs": [],
   "source": []
  },
  {
   "cell_type": "code",
   "execution_count": null,
   "id": "e628f06a",
   "metadata": {},
   "outputs": [],
   "source": []
  },
  {
   "cell_type": "code",
   "execution_count": null,
   "id": "cee05afd",
   "metadata": {},
   "outputs": [],
   "source": []
  },
  {
   "cell_type": "code",
   "execution_count": null,
   "id": "09c00760",
   "metadata": {},
   "outputs": [],
   "source": []
  },
  {
   "cell_type": "code",
   "execution_count": null,
   "id": "d796bcf9",
   "metadata": {},
   "outputs": [],
   "source": []
  },
  {
   "cell_type": "code",
   "execution_count": null,
   "id": "18cf597c",
   "metadata": {},
   "outputs": [],
   "source": []
  },
  {
   "cell_type": "code",
   "execution_count": null,
   "id": "7446f59a",
   "metadata": {},
   "outputs": [],
   "source": []
  },
  {
   "cell_type": "code",
   "execution_count": null,
   "id": "0e4b559f",
   "metadata": {},
   "outputs": [],
   "source": []
  },
  {
   "cell_type": "code",
   "execution_count": null,
   "id": "1eee22bd",
   "metadata": {},
   "outputs": [],
   "source": []
  },
  {
   "cell_type": "code",
   "execution_count": null,
   "id": "66a22222",
   "metadata": {},
   "outputs": [],
   "source": []
  },
  {
   "cell_type": "code",
   "execution_count": null,
   "id": "c0ff6e5c",
   "metadata": {},
   "outputs": [],
   "source": []
  },
  {
   "cell_type": "code",
   "execution_count": null,
   "id": "58bd857e",
   "metadata": {},
   "outputs": [],
   "source": []
  },
  {
   "cell_type": "code",
   "execution_count": null,
   "id": "28f36e5e",
   "metadata": {},
   "outputs": [],
   "source": []
  },
  {
   "cell_type": "code",
   "execution_count": null,
   "id": "999980ba",
   "metadata": {},
   "outputs": [],
   "source": []
  },
  {
   "cell_type": "code",
   "execution_count": null,
   "id": "a375b500",
   "metadata": {},
   "outputs": [],
   "source": []
  },
  {
   "cell_type": "code",
   "execution_count": null,
   "id": "0a5a4751",
   "metadata": {},
   "outputs": [],
   "source": []
  },
  {
   "cell_type": "code",
   "execution_count": null,
   "id": "d584db80",
   "metadata": {},
   "outputs": [],
   "source": []
  },
  {
   "cell_type": "code",
   "execution_count": null,
   "id": "5805abe0",
   "metadata": {},
   "outputs": [],
   "source": []
  },
  {
   "cell_type": "code",
   "execution_count": null,
   "id": "11c2df6f",
   "metadata": {},
   "outputs": [],
   "source": []
  },
  {
   "cell_type": "code",
   "execution_count": null,
   "id": "8a687c35",
   "metadata": {},
   "outputs": [],
   "source": []
  },
  {
   "cell_type": "code",
   "execution_count": null,
   "id": "aa58ba6d",
   "metadata": {},
   "outputs": [],
   "source": []
  }
 ],
 "metadata": {
  "kernelspec": {
   "display_name": "Python 3 (ipykernel)",
   "language": "python",
   "name": "python3"
  },
  "language_info": {
   "codemirror_mode": {
    "name": "ipython",
    "version": 3
   },
   "file_extension": ".py",
   "mimetype": "text/x-python",
   "name": "python",
   "nbconvert_exporter": "python",
   "pygments_lexer": "ipython3",
   "version": "3.10.9"
  }
 },
 "nbformat": 4,
 "nbformat_minor": 5
}
